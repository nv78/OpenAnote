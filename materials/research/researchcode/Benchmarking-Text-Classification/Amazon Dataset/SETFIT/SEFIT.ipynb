{
  "cells": [
    {
      "cell_type": "code",
      "execution_count": 3,
      "metadata": {
        "id": "q-IbupIy0oYk"
      },
      "outputs": [],
      "source": [
        "#!pip install small-text\n",
        "#!pip install datasets\n",
        "#!pip install sentence-transformers\n",
        "#!pip install setfit\n",
        "#!pip install seaborn\n"
      ]
    },
    {
      "cell_type": "code",
      "execution_count": 25,
      "metadata": {
        "id": "cyKtKlzm0o2K"
      },
      "outputs": [],
      "source": [
        "import datasets\n",
        "import numpy as np\n",
        "import seaborn as sns\n",
        "from sklearn.metrics import accuracy_score, precision_recall_fscore_support\n",
        "import pandas as pd"
      ]
    },
    {
      "cell_type": "code",
      "execution_count": 26,
      "metadata": {
        "id": "XqezInge0o7h"
      },
      "outputs": [],
      "source": [
        "import numpy as np\n",
        "from small_text import TextDataset"
      ]
    },
    {
      "cell_type": "code",
      "execution_count": 43,
      "metadata": {
        "id": "b1txvswi0o-J"
      },
      "outputs": [],
      "source": [
        "target_labels = np.arange(0,5)"
      ]
    },
    {
      "cell_type": "code",
      "source": [
        "target_labels"
      ],
      "metadata": {
        "colab": {
          "base_uri": "https://localhost:8080/"
        },
        "id": "lKCXnawo8emR",
        "outputId": "cd5f5a20-3f4d-48b6-9eb5-d9d311b84650"
      },
      "execution_count": 44,
      "outputs": [
        {
          "output_type": "execute_result",
          "data": {
            "text/plain": [
              "array([0, 1, 2, 3, 4])"
            ]
          },
          "metadata": {},
          "execution_count": 44
        }
      ]
    },
    {
      "cell_type": "code",
      "source": [
        "train_df"
      ],
      "metadata": {
        "colab": {
          "base_uri": "https://localhost:8080/",
          "height": 423
        },
        "id": "n_IUKOLO-vni",
        "outputId": "7950bc9a-283d-4cc8-9edb-33afc6a9c654"
      },
      "execution_count": 52,
      "outputs": [
        {
          "output_type": "execute_result",
          "data": {
            "text/plain": [
              "      brand            primaryCategories  reviews.numHelpful  reviews.rating  \\\n",
              "0         2              Health & Beauty                 NaN               5   \n",
              "1         2              Health & Beauty                 NaN               5   \n",
              "2         0                  Electronics                 0.0               4   \n",
              "3         0                  Electronics                 0.0               4   \n",
              "4         0                  Electronics                 0.0               4   \n",
              "...     ...                          ...                 ...             ...   \n",
              "5995      0                  Electronics                 0.0               4   \n",
              "5996      0                  Electronics                 0.0               4   \n",
              "5997      2              Health & Beauty                 NaN               1   \n",
              "5998      0            Electronics,Media                16.0               4   \n",
              "5999      0  Office Supplies,Electronics                 0.0               4   \n",
              "\n",
              "                                           reviews.text  \n",
              "0     Amazon's batteries are great. I've had no prob...  \n",
              "1                                 always need batteries  \n",
              "2     It's pretty good for what it is designed to do...  \n",
              "3     I love it it comes with a 12 month kids subscr...  \n",
              "4     For the price, it is quite a nice tablet. I mu...  \n",
              "...                                                 ...  \n",
              "5995  Bought for wife who is not into the techie wor...  \n",
              "5996  I thought it would be good for my 2year old he...  \n",
              "5997                                         Wrong Item  \n",
              "5998  I got oasis yesterday, very lighweight compare...  \n",
              "5999  Nice alternative for reading kindle books for ...  \n",
              "\n",
              "[6000 rows x 5 columns]"
            ],
            "text/html": [
              "\n",
              "  <div id=\"df-68d90a8e-73d1-4fd4-a0bf-29b9e3752f58\" class=\"colab-df-container\">\n",
              "    <div>\n",
              "<style scoped>\n",
              "    .dataframe tbody tr th:only-of-type {\n",
              "        vertical-align: middle;\n",
              "    }\n",
              "\n",
              "    .dataframe tbody tr th {\n",
              "        vertical-align: top;\n",
              "    }\n",
              "\n",
              "    .dataframe thead th {\n",
              "        text-align: right;\n",
              "    }\n",
              "</style>\n",
              "<table border=\"1\" class=\"dataframe\">\n",
              "  <thead>\n",
              "    <tr style=\"text-align: right;\">\n",
              "      <th></th>\n",
              "      <th>brand</th>\n",
              "      <th>primaryCategories</th>\n",
              "      <th>reviews.numHelpful</th>\n",
              "      <th>reviews.rating</th>\n",
              "      <th>reviews.text</th>\n",
              "    </tr>\n",
              "  </thead>\n",
              "  <tbody>\n",
              "    <tr>\n",
              "      <th>0</th>\n",
              "      <td>2</td>\n",
              "      <td>Health &amp; Beauty</td>\n",
              "      <td>NaN</td>\n",
              "      <td>5</td>\n",
              "      <td>Amazon's batteries are great. I've had no prob...</td>\n",
              "    </tr>\n",
              "    <tr>\n",
              "      <th>1</th>\n",
              "      <td>2</td>\n",
              "      <td>Health &amp; Beauty</td>\n",
              "      <td>NaN</td>\n",
              "      <td>5</td>\n",
              "      <td>always need batteries</td>\n",
              "    </tr>\n",
              "    <tr>\n",
              "      <th>2</th>\n",
              "      <td>0</td>\n",
              "      <td>Electronics</td>\n",
              "      <td>0.0</td>\n",
              "      <td>4</td>\n",
              "      <td>It's pretty good for what it is designed to do...</td>\n",
              "    </tr>\n",
              "    <tr>\n",
              "      <th>3</th>\n",
              "      <td>0</td>\n",
              "      <td>Electronics</td>\n",
              "      <td>0.0</td>\n",
              "      <td>4</td>\n",
              "      <td>I love it it comes with a 12 month kids subscr...</td>\n",
              "    </tr>\n",
              "    <tr>\n",
              "      <th>4</th>\n",
              "      <td>0</td>\n",
              "      <td>Electronics</td>\n",
              "      <td>0.0</td>\n",
              "      <td>4</td>\n",
              "      <td>For the price, it is quite a nice tablet. I mu...</td>\n",
              "    </tr>\n",
              "    <tr>\n",
              "      <th>...</th>\n",
              "      <td>...</td>\n",
              "      <td>...</td>\n",
              "      <td>...</td>\n",
              "      <td>...</td>\n",
              "      <td>...</td>\n",
              "    </tr>\n",
              "    <tr>\n",
              "      <th>5995</th>\n",
              "      <td>0</td>\n",
              "      <td>Electronics</td>\n",
              "      <td>0.0</td>\n",
              "      <td>4</td>\n",
              "      <td>Bought for wife who is not into the techie wor...</td>\n",
              "    </tr>\n",
              "    <tr>\n",
              "      <th>5996</th>\n",
              "      <td>0</td>\n",
              "      <td>Electronics</td>\n",
              "      <td>0.0</td>\n",
              "      <td>4</td>\n",
              "      <td>I thought it would be good for my 2year old he...</td>\n",
              "    </tr>\n",
              "    <tr>\n",
              "      <th>5997</th>\n",
              "      <td>2</td>\n",
              "      <td>Health &amp; Beauty</td>\n",
              "      <td>NaN</td>\n",
              "      <td>1</td>\n",
              "      <td>Wrong Item</td>\n",
              "    </tr>\n",
              "    <tr>\n",
              "      <th>5998</th>\n",
              "      <td>0</td>\n",
              "      <td>Electronics,Media</td>\n",
              "      <td>16.0</td>\n",
              "      <td>4</td>\n",
              "      <td>I got oasis yesterday, very lighweight compare...</td>\n",
              "    </tr>\n",
              "    <tr>\n",
              "      <th>5999</th>\n",
              "      <td>0</td>\n",
              "      <td>Office Supplies,Electronics</td>\n",
              "      <td>0.0</td>\n",
              "      <td>4</td>\n",
              "      <td>Nice alternative for reading kindle books for ...</td>\n",
              "    </tr>\n",
              "  </tbody>\n",
              "</table>\n",
              "<p>6000 rows × 5 columns</p>\n",
              "</div>\n",
              "    <div class=\"colab-df-buttons\">\n",
              "\n",
              "  <div class=\"colab-df-container\">\n",
              "    <button class=\"colab-df-convert\" onclick=\"convertToInteractive('df-68d90a8e-73d1-4fd4-a0bf-29b9e3752f58')\"\n",
              "            title=\"Convert this dataframe to an interactive table.\"\n",
              "            style=\"display:none;\">\n",
              "\n",
              "  <svg xmlns=\"http://www.w3.org/2000/svg\" height=\"24px\" viewBox=\"0 -960 960 960\">\n",
              "    <path d=\"M120-120v-720h720v720H120Zm60-500h600v-160H180v160Zm220 220h160v-160H400v160Zm0 220h160v-160H400v160ZM180-400h160v-160H180v160Zm440 0h160v-160H620v160ZM180-180h160v-160H180v160Zm440 0h160v-160H620v160Z\"/>\n",
              "  </svg>\n",
              "    </button>\n",
              "\n",
              "  <style>\n",
              "    .colab-df-container {\n",
              "      display:flex;\n",
              "      gap: 12px;\n",
              "    }\n",
              "\n",
              "    .colab-df-convert {\n",
              "      background-color: #E8F0FE;\n",
              "      border: none;\n",
              "      border-radius: 50%;\n",
              "      cursor: pointer;\n",
              "      display: none;\n",
              "      fill: #1967D2;\n",
              "      height: 32px;\n",
              "      padding: 0 0 0 0;\n",
              "      width: 32px;\n",
              "    }\n",
              "\n",
              "    .colab-df-convert:hover {\n",
              "      background-color: #E2EBFA;\n",
              "      box-shadow: 0px 1px 2px rgba(60, 64, 67, 0.3), 0px 1px 3px 1px rgba(60, 64, 67, 0.15);\n",
              "      fill: #174EA6;\n",
              "    }\n",
              "\n",
              "    .colab-df-buttons div {\n",
              "      margin-bottom: 4px;\n",
              "    }\n",
              "\n",
              "    [theme=dark] .colab-df-convert {\n",
              "      background-color: #3B4455;\n",
              "      fill: #D2E3FC;\n",
              "    }\n",
              "\n",
              "    [theme=dark] .colab-df-convert:hover {\n",
              "      background-color: #434B5C;\n",
              "      box-shadow: 0px 1px 3px 1px rgba(0, 0, 0, 0.15);\n",
              "      filter: drop-shadow(0px 1px 2px rgba(0, 0, 0, 0.3));\n",
              "      fill: #FFFFFF;\n",
              "    }\n",
              "  </style>\n",
              "\n",
              "    <script>\n",
              "      const buttonEl =\n",
              "        document.querySelector('#df-68d90a8e-73d1-4fd4-a0bf-29b9e3752f58 button.colab-df-convert');\n",
              "      buttonEl.style.display =\n",
              "        google.colab.kernel.accessAllowed ? 'block' : 'none';\n",
              "\n",
              "      async function convertToInteractive(key) {\n",
              "        const element = document.querySelector('#df-68d90a8e-73d1-4fd4-a0bf-29b9e3752f58');\n",
              "        const dataTable =\n",
              "          await google.colab.kernel.invokeFunction('convertToInteractive',\n",
              "                                                    [key], {});\n",
              "        if (!dataTable) return;\n",
              "\n",
              "        const docLinkHtml = 'Like what you see? Visit the ' +\n",
              "          '<a target=\"_blank\" href=https://colab.research.google.com/notebooks/data_table.ipynb>data table notebook</a>'\n",
              "          + ' to learn more about interactive tables.';\n",
              "        element.innerHTML = '';\n",
              "        dataTable['output_type'] = 'display_data';\n",
              "        await google.colab.output.renderOutput(dataTable, element);\n",
              "        const docLink = document.createElement('div');\n",
              "        docLink.innerHTML = docLinkHtml;\n",
              "        element.appendChild(docLink);\n",
              "      }\n",
              "    </script>\n",
              "  </div>\n",
              "\n",
              "\n",
              "<div id=\"df-8aa91421-eeb6-4d0d-8904-982a615ea993\">\n",
              "  <button class=\"colab-df-quickchart\" onclick=\"quickchart('df-8aa91421-eeb6-4d0d-8904-982a615ea993')\"\n",
              "            title=\"Suggest charts\"\n",
              "            style=\"display:none;\">\n",
              "\n",
              "<svg xmlns=\"http://www.w3.org/2000/svg\" height=\"24px\"viewBox=\"0 0 24 24\"\n",
              "     width=\"24px\">\n",
              "    <g>\n",
              "        <path d=\"M19 3H5c-1.1 0-2 .9-2 2v14c0 1.1.9 2 2 2h14c1.1 0 2-.9 2-2V5c0-1.1-.9-2-2-2zM9 17H7v-7h2v7zm4 0h-2V7h2v10zm4 0h-2v-4h2v4z\"/>\n",
              "    </g>\n",
              "</svg>\n",
              "  </button>\n",
              "\n",
              "<style>\n",
              "  .colab-df-quickchart {\n",
              "      --bg-color: #E8F0FE;\n",
              "      --fill-color: #1967D2;\n",
              "      --hover-bg-color: #E2EBFA;\n",
              "      --hover-fill-color: #174EA6;\n",
              "      --disabled-fill-color: #AAA;\n",
              "      --disabled-bg-color: #DDD;\n",
              "  }\n",
              "\n",
              "  [theme=dark] .colab-df-quickchart {\n",
              "      --bg-color: #3B4455;\n",
              "      --fill-color: #D2E3FC;\n",
              "      --hover-bg-color: #434B5C;\n",
              "      --hover-fill-color: #FFFFFF;\n",
              "      --disabled-bg-color: #3B4455;\n",
              "      --disabled-fill-color: #666;\n",
              "  }\n",
              "\n",
              "  .colab-df-quickchart {\n",
              "    background-color: var(--bg-color);\n",
              "    border: none;\n",
              "    border-radius: 50%;\n",
              "    cursor: pointer;\n",
              "    display: none;\n",
              "    fill: var(--fill-color);\n",
              "    height: 32px;\n",
              "    padding: 0;\n",
              "    width: 32px;\n",
              "  }\n",
              "\n",
              "  .colab-df-quickchart:hover {\n",
              "    background-color: var(--hover-bg-color);\n",
              "    box-shadow: 0 1px 2px rgba(60, 64, 67, 0.3), 0 1px 3px 1px rgba(60, 64, 67, 0.15);\n",
              "    fill: var(--button-hover-fill-color);\n",
              "  }\n",
              "\n",
              "  .colab-df-quickchart-complete:disabled,\n",
              "  .colab-df-quickchart-complete:disabled:hover {\n",
              "    background-color: var(--disabled-bg-color);\n",
              "    fill: var(--disabled-fill-color);\n",
              "    box-shadow: none;\n",
              "  }\n",
              "\n",
              "  .colab-df-spinner {\n",
              "    border: 2px solid var(--fill-color);\n",
              "    border-color: transparent;\n",
              "    border-bottom-color: var(--fill-color);\n",
              "    animation:\n",
              "      spin 1s steps(1) infinite;\n",
              "  }\n",
              "\n",
              "  @keyframes spin {\n",
              "    0% {\n",
              "      border-color: transparent;\n",
              "      border-bottom-color: var(--fill-color);\n",
              "      border-left-color: var(--fill-color);\n",
              "    }\n",
              "    20% {\n",
              "      border-color: transparent;\n",
              "      border-left-color: var(--fill-color);\n",
              "      border-top-color: var(--fill-color);\n",
              "    }\n",
              "    30% {\n",
              "      border-color: transparent;\n",
              "      border-left-color: var(--fill-color);\n",
              "      border-top-color: var(--fill-color);\n",
              "      border-right-color: var(--fill-color);\n",
              "    }\n",
              "    40% {\n",
              "      border-color: transparent;\n",
              "      border-right-color: var(--fill-color);\n",
              "      border-top-color: var(--fill-color);\n",
              "    }\n",
              "    60% {\n",
              "      border-color: transparent;\n",
              "      border-right-color: var(--fill-color);\n",
              "    }\n",
              "    80% {\n",
              "      border-color: transparent;\n",
              "      border-right-color: var(--fill-color);\n",
              "      border-bottom-color: var(--fill-color);\n",
              "    }\n",
              "    90% {\n",
              "      border-color: transparent;\n",
              "      border-bottom-color: var(--fill-color);\n",
              "    }\n",
              "  }\n",
              "</style>\n",
              "\n",
              "  <script>\n",
              "    async function quickchart(key) {\n",
              "      const quickchartButtonEl =\n",
              "        document.querySelector('#' + key + ' button');\n",
              "      quickchartButtonEl.disabled = true;  // To prevent multiple clicks.\n",
              "      quickchartButtonEl.classList.add('colab-df-spinner');\n",
              "      try {\n",
              "        const charts = await google.colab.kernel.invokeFunction(\n",
              "            'suggestCharts', [key], {});\n",
              "      } catch (error) {\n",
              "        console.error('Error during call to suggestCharts:', error);\n",
              "      }\n",
              "      quickchartButtonEl.classList.remove('colab-df-spinner');\n",
              "      quickchartButtonEl.classList.add('colab-df-quickchart-complete');\n",
              "    }\n",
              "    (() => {\n",
              "      let quickchartButtonEl =\n",
              "        document.querySelector('#df-8aa91421-eeb6-4d0d-8904-982a615ea993 button');\n",
              "      quickchartButtonEl.style.display =\n",
              "        google.colab.kernel.accessAllowed ? 'block' : 'none';\n",
              "    })();\n",
              "  </script>\n",
              "</div>\n",
              "\n",
              "  <div id=\"id_7f7960e1-45b0-4fcd-b266-0423eb15528c\">\n",
              "    <style>\n",
              "      .colab-df-generate {\n",
              "        background-color: #E8F0FE;\n",
              "        border: none;\n",
              "        border-radius: 50%;\n",
              "        cursor: pointer;\n",
              "        display: none;\n",
              "        fill: #1967D2;\n",
              "        height: 32px;\n",
              "        padding: 0 0 0 0;\n",
              "        width: 32px;\n",
              "      }\n",
              "\n",
              "      .colab-df-generate:hover {\n",
              "        background-color: #E2EBFA;\n",
              "        box-shadow: 0px 1px 2px rgba(60, 64, 67, 0.3), 0px 1px 3px 1px rgba(60, 64, 67, 0.15);\n",
              "        fill: #174EA6;\n",
              "      }\n",
              "\n",
              "      [theme=dark] .colab-df-generate {\n",
              "        background-color: #3B4455;\n",
              "        fill: #D2E3FC;\n",
              "      }\n",
              "\n",
              "      [theme=dark] .colab-df-generate:hover {\n",
              "        background-color: #434B5C;\n",
              "        box-shadow: 0px 1px 3px 1px rgba(0, 0, 0, 0.15);\n",
              "        filter: drop-shadow(0px 1px 2px rgba(0, 0, 0, 0.3));\n",
              "        fill: #FFFFFF;\n",
              "      }\n",
              "    </style>\n",
              "    <button class=\"colab-df-generate\" onclick=\"generateWithVariable('train_df')\"\n",
              "            title=\"Generate code using this dataframe.\"\n",
              "            style=\"display:none;\">\n",
              "\n",
              "  <svg xmlns=\"http://www.w3.org/2000/svg\" height=\"24px\"viewBox=\"0 0 24 24\"\n",
              "       width=\"24px\">\n",
              "    <path d=\"M7,19H8.4L18.45,9,17,7.55,7,17.6ZM5,21V16.75L18.45,3.32a2,2,0,0,1,2.83,0l1.4,1.43a1.91,1.91,0,0,1,.58,1.4,1.91,1.91,0,0,1-.58,1.4L9.25,21ZM18.45,9,17,7.55Zm-12,3A5.31,5.31,0,0,0,4.9,8.1,5.31,5.31,0,0,0,1,6.5,5.31,5.31,0,0,0,4.9,4.9,5.31,5.31,0,0,0,6.5,1,5.31,5.31,0,0,0,8.1,4.9,5.31,5.31,0,0,0,12,6.5,5.46,5.46,0,0,0,6.5,12Z\"/>\n",
              "  </svg>\n",
              "    </button>\n",
              "    <script>\n",
              "      (() => {\n",
              "      const buttonEl =\n",
              "        document.querySelector('#id_7f7960e1-45b0-4fcd-b266-0423eb15528c button.colab-df-generate');\n",
              "      buttonEl.style.display =\n",
              "        google.colab.kernel.accessAllowed ? 'block' : 'none';\n",
              "\n",
              "      buttonEl.onclick = () => {\n",
              "        google.colab.notebook.generateWithVariable('train_df');\n",
              "      }\n",
              "      })();\n",
              "    </script>\n",
              "  </div>\n",
              "\n",
              "    </div>\n",
              "  </div>\n"
            ]
          },
          "metadata": {},
          "execution_count": 52
        }
      ]
    },
    {
      "cell_type": "code",
      "source": [
        "train_df, test_df = pd.read_csv('Amazon_Reviews_Train.csv'), pd.read_csv('Amazon_Reviews_Test.csv')"
      ],
      "metadata": {
        "id": "u34PhzvVe-8n"
      },
      "execution_count": 77,
      "outputs": []
    },
    {
      "cell_type": "code",
      "execution_count": 54,
      "metadata": {
        "id": "f3ajSDAU0pAh",
        "colab": {
          "base_uri": "https://localhost:8080/"
        },
        "outputId": "78b6a3c8-c3ce-472d-be5d-bbc97abefb5b"
      },
      "outputs": [
        {
          "output_type": "stream",
          "name": "stderr",
          "text": [
            "/usr/local/lib/python3.10/dist-packages/small_text/utils/annotations.py:67: ExperimentalWarning: The function from_arrays is experimental and maybe subject to change soon.\n",
            "  warnings.warn(f'The {subject} {func_or_class.__name__} is experimental '\n"
          ]
        }
      ],
      "source": [
        "train = TextDataset.from_arrays(train_df['reviews.text'].to_list(), np.array(train_df['reviews.rating']), target_labels=target_labels)\n",
        "test = TextDataset.from_arrays(test_df['reviews.text'].to_list(), np.array(test_df['reviews.rating']), target_labels=target_labels)\n"
      ]
    },
    {
      "cell_type": "markdown",
      "metadata": {
        "id": "NljXYDt_1ftf"
      },
      "source": [
        "# Active Learning"
      ]
    },
    {
      "cell_type": "code",
      "execution_count": 55,
      "metadata": {
        "id": "ZFQmbAn20pC5"
      },
      "outputs": [],
      "source": [
        "from small_text.integrations.transformers.classifiers.setfit import SetFitModelArguments\n",
        "from small_text.integrations.transformers.classifiers.factories import SetFitClassificationFactory\n",
        "\n",
        "sentence_transformer_model_name = 'sentence-transformers/paraphrase-mpnet-base-v2'\n",
        "setfit_model_args = SetFitModelArguments(sentence_transformer_model_name)\n",
        "clf_factory = SetFitClassificationFactory(setfit_model_args, num_classes=5)"
      ]
    },
    {
      "cell_type": "code",
      "execution_count": 56,
      "metadata": {
        "id": "pD72UYyB1a-_"
      },
      "outputs": [],
      "source": [
        "from small_text import (\n",
        "    PoolBasedActiveLearner,\n",
        "    random_initialization_balanced,\n",
        "    BreakingTies,\n",
        "    SubsamplingQueryStrategy\n",
        ")"
      ]
    },
    {
      "cell_type": "code",
      "execution_count": 57,
      "metadata": {
        "id": "otiC90oj1bB3"
      },
      "outputs": [],
      "source": [
        "query_strategy = SubsamplingQueryStrategy(BreakingTies())\n",
        "setfit_train_kwargs = {'show_progress_bar': False}\n",
        "active_learner = PoolBasedActiveLearner(clf_factory, query_strategy, train, fit_kwargs={'setfit_train_kwargs': setfit_train_kwargs})"
      ]
    },
    {
      "cell_type": "code",
      "execution_count": 58,
      "metadata": {
        "id": "dgcZ0trZ1bEX",
        "colab": {
          "base_uri": "https://localhost:8080/"
        },
        "outputId": "07c91f59-8978-48c8-932c-5cbe6c1d8cbb"
      },
      "outputs": [
        {
          "output_type": "stream",
          "name": "stderr",
          "text": [
            "model_head.pkl not found on HuggingFace Hub, initialising classification head with random weights. You should TRAIN this model on a downstream task to use it for predictions and inference.\n",
            "***** Running training *****\n",
            "  Num examples = 400\n",
            "  Num epochs = 1\n",
            "  Total optimization steps = 13\n",
            "  Total train batch size = 32\n"
          ]
        }
      ],
      "source": [
        "# simulate a warm start\n",
        "def initialize_active_learner(active_learner, y_train):\n",
        "\n",
        "    x_indices_initial = random_initialization_balanced(y_train, n_samples=10)\n",
        "    y_initial = y_train[x_indices_initial]\n",
        "\n",
        "    active_learner.initialize_data(x_indices_initial, y_initial)\n",
        "\n",
        "    return x_indices_initial\n",
        "\n",
        "\n",
        "initial_indices = initialize_active_learner(active_learner, train.y)\n",
        "labeled_indices = initial_indices"
      ]
    },
    {
      "cell_type": "code",
      "execution_count": 59,
      "metadata": {
        "id": "ztE3Szbg2uZs",
        "colab": {
          "base_uri": "https://localhost:8080/"
        },
        "outputId": "0cba37a6-08f9-4dc8-83a7-7cd2d7e522e7"
      },
      "outputs": [
        {
          "output_type": "stream",
          "name": "stderr",
          "text": [
            "model_head.pkl not found on HuggingFace Hub, initialising classification head with random weights. You should TRAIN this model on a downstream task to use it for predictions and inference.\n",
            "***** Running training *****\n",
            "  Num examples = 800\n",
            "  Num epochs = 1\n",
            "  Total optimization steps = 25\n",
            "  Total train batch size = 32\n"
          ]
        },
        {
          "output_type": "stream",
          "name": "stdout",
          "text": [
            "---------------\n",
            "Iteration #0 (20 samples)\n",
            "Train accuracy: 1.00\n",
            "Test accuracy: 0.58\n"
          ]
        },
        {
          "output_type": "stream",
          "name": "stderr",
          "text": [
            "model_head.pkl not found on HuggingFace Hub, initialising classification head with random weights. You should TRAIN this model on a downstream task to use it for predictions and inference.\n",
            "***** Running training *****\n",
            "  Num examples = 1200\n",
            "  Num epochs = 1\n",
            "  Total optimization steps = 38\n",
            "  Total train batch size = 32\n"
          ]
        },
        {
          "output_type": "stream",
          "name": "stdout",
          "text": [
            "---------------\n",
            "Iteration #1 (30 samples)\n",
            "Train accuracy: 1.00\n",
            "Test accuracy: 0.63\n"
          ]
        },
        {
          "output_type": "stream",
          "name": "stderr",
          "text": [
            "model_head.pkl not found on HuggingFace Hub, initialising classification head with random weights. You should TRAIN this model on a downstream task to use it for predictions and inference.\n",
            "***** Running training *****\n",
            "  Num examples = 1600\n",
            "  Num epochs = 1\n",
            "  Total optimization steps = 50\n",
            "  Total train batch size = 32\n"
          ]
        },
        {
          "output_type": "stream",
          "name": "stdout",
          "text": [
            "---------------\n",
            "Iteration #2 (40 samples)\n",
            "Train accuracy: 1.00\n",
            "Test accuracy: 0.63\n"
          ]
        },
        {
          "output_type": "stream",
          "name": "stderr",
          "text": [
            "model_head.pkl not found on HuggingFace Hub, initialising classification head with random weights. You should TRAIN this model on a downstream task to use it for predictions and inference.\n",
            "***** Running training *****\n",
            "  Num examples = 2000\n",
            "  Num epochs = 1\n",
            "  Total optimization steps = 63\n",
            "  Total train batch size = 32\n"
          ]
        },
        {
          "output_type": "stream",
          "name": "stdout",
          "text": [
            "---------------\n",
            "Iteration #3 (50 samples)\n",
            "Train accuracy: 1.00\n",
            "Test accuracy: 0.68\n"
          ]
        },
        {
          "output_type": "stream",
          "name": "stderr",
          "text": [
            "model_head.pkl not found on HuggingFace Hub, initialising classification head with random weights. You should TRAIN this model on a downstream task to use it for predictions and inference.\n",
            "***** Running training *****\n",
            "  Num examples = 2400\n",
            "  Num epochs = 1\n",
            "  Total optimization steps = 75\n",
            "  Total train batch size = 32\n"
          ]
        },
        {
          "output_type": "stream",
          "name": "stdout",
          "text": [
            "---------------\n",
            "Iteration #4 (60 samples)\n",
            "Train accuracy: 1.00\n",
            "Test accuracy: 0.68\n"
          ]
        },
        {
          "output_type": "stream",
          "name": "stderr",
          "text": [
            "model_head.pkl not found on HuggingFace Hub, initialising classification head with random weights. You should TRAIN this model on a downstream task to use it for predictions and inference.\n",
            "***** Running training *****\n",
            "  Num examples = 2800\n",
            "  Num epochs = 1\n",
            "  Total optimization steps = 88\n",
            "  Total train batch size = 32\n"
          ]
        },
        {
          "output_type": "stream",
          "name": "stdout",
          "text": [
            "---------------\n",
            "Iteration #5 (70 samples)\n",
            "Train accuracy: 0.99\n",
            "Test accuracy: 0.67\n"
          ]
        },
        {
          "output_type": "stream",
          "name": "stderr",
          "text": [
            "model_head.pkl not found on HuggingFace Hub, initialising classification head with random weights. You should TRAIN this model on a downstream task to use it for predictions and inference.\n",
            "***** Running training *****\n",
            "  Num examples = 3200\n",
            "  Num epochs = 1\n",
            "  Total optimization steps = 100\n",
            "  Total train batch size = 32\n"
          ]
        },
        {
          "output_type": "stream",
          "name": "stdout",
          "text": [
            "---------------\n",
            "Iteration #6 (80 samples)\n",
            "Train accuracy: 0.99\n",
            "Test accuracy: 0.68\n"
          ]
        },
        {
          "output_type": "stream",
          "name": "stderr",
          "text": [
            "model_head.pkl not found on HuggingFace Hub, initialising classification head with random weights. You should TRAIN this model on a downstream task to use it for predictions and inference.\n",
            "***** Running training *****\n",
            "  Num examples = 3600\n",
            "  Num epochs = 1\n",
            "  Total optimization steps = 113\n",
            "  Total train batch size = 32\n"
          ]
        },
        {
          "output_type": "stream",
          "name": "stdout",
          "text": [
            "---------------\n",
            "Iteration #7 (90 samples)\n",
            "Train accuracy: 0.99\n",
            "Test accuracy: 0.68\n"
          ]
        },
        {
          "output_type": "stream",
          "name": "stderr",
          "text": [
            "model_head.pkl not found on HuggingFace Hub, initialising classification head with random weights. You should TRAIN this model on a downstream task to use it for predictions and inference.\n",
            "***** Running training *****\n",
            "  Num examples = 4000\n",
            "  Num epochs = 1\n",
            "  Total optimization steps = 125\n",
            "  Total train batch size = 32\n"
          ]
        },
        {
          "output_type": "stream",
          "name": "stdout",
          "text": [
            "---------------\n",
            "Iteration #8 (100 samples)\n",
            "Train accuracy: 0.99\n",
            "Test accuracy: 0.69\n"
          ]
        },
        {
          "output_type": "stream",
          "name": "stderr",
          "text": [
            "model_head.pkl not found on HuggingFace Hub, initialising classification head with random weights. You should TRAIN this model on a downstream task to use it for predictions and inference.\n",
            "***** Running training *****\n",
            "  Num examples = 4400\n",
            "  Num epochs = 1\n",
            "  Total optimization steps = 138\n",
            "  Total train batch size = 32\n"
          ]
        },
        {
          "output_type": "stream",
          "name": "stdout",
          "text": [
            "---------------\n",
            "Iteration #9 (110 samples)\n",
            "Train accuracy: 0.99\n",
            "Test accuracy: 0.69\n"
          ]
        },
        {
          "output_type": "stream",
          "name": "stderr",
          "text": [
            "model_head.pkl not found on HuggingFace Hub, initialising classification head with random weights. You should TRAIN this model on a downstream task to use it for predictions and inference.\n",
            "***** Running training *****\n",
            "  Num examples = 4800\n",
            "  Num epochs = 1\n",
            "  Total optimization steps = 150\n",
            "  Total train batch size = 32\n"
          ]
        },
        {
          "output_type": "stream",
          "name": "stdout",
          "text": [
            "---------------\n",
            "Iteration #10 (120 samples)\n",
            "Train accuracy: 0.97\n",
            "Test accuracy: 0.68\n"
          ]
        },
        {
          "output_type": "stream",
          "name": "stderr",
          "text": [
            "model_head.pkl not found on HuggingFace Hub, initialising classification head with random weights. You should TRAIN this model on a downstream task to use it for predictions and inference.\n",
            "***** Running training *****\n",
            "  Num examples = 5200\n",
            "  Num epochs = 1\n",
            "  Total optimization steps = 163\n",
            "  Total train batch size = 32\n"
          ]
        },
        {
          "output_type": "stream",
          "name": "stdout",
          "text": [
            "---------------\n",
            "Iteration #11 (130 samples)\n",
            "Train accuracy: 1.00\n",
            "Test accuracy: 0.70\n"
          ]
        },
        {
          "output_type": "stream",
          "name": "stderr",
          "text": [
            "model_head.pkl not found on HuggingFace Hub, initialising classification head with random weights. You should TRAIN this model on a downstream task to use it for predictions and inference.\n",
            "***** Running training *****\n",
            "  Num examples = 5600\n",
            "  Num epochs = 1\n",
            "  Total optimization steps = 175\n",
            "  Total train batch size = 32\n"
          ]
        },
        {
          "output_type": "stream",
          "name": "stdout",
          "text": [
            "---------------\n",
            "Iteration #12 (140 samples)\n",
            "Train accuracy: 1.00\n",
            "Test accuracy: 0.68\n"
          ]
        },
        {
          "output_type": "stream",
          "name": "stderr",
          "text": [
            "model_head.pkl not found on HuggingFace Hub, initialising classification head with random weights. You should TRAIN this model on a downstream task to use it for predictions and inference.\n",
            "***** Running training *****\n",
            "  Num examples = 6000\n",
            "  Num epochs = 1\n",
            "  Total optimization steps = 188\n",
            "  Total train batch size = 32\n"
          ]
        },
        {
          "output_type": "stream",
          "name": "stdout",
          "text": [
            "---------------\n",
            "Iteration #13 (150 samples)\n",
            "Train accuracy: 1.00\n",
            "Test accuracy: 0.67\n"
          ]
        }
      ],
      "source": [
        "import gc\n",
        "import torch\n",
        "from sklearn.metrics import accuracy_score\n",
        "\n",
        "\n",
        "num_queries = 14\n",
        "\n",
        "y_pred = []\n",
        "\n",
        "\n",
        "def evaluate(active_learner, train, test):\n",
        "    y_pred = active_learner.classifier.predict(train)\n",
        "    y_pred_test = active_learner.classifier.predict(test)\n",
        "\n",
        "    test_acc = accuracy_score(y_pred_test, test.y)\n",
        "\n",
        "    precision, recall, f1, _ = precision_recall_fscore_support(y_pred_test, test.y, average='macro',zero_division=1)\n",
        "\n",
        "    print('Train accuracy: {:.2f}'.format(accuracy_score(y_pred, train.y)))\n",
        "    print('Test accuracy: {:.2f}'.format(test_acc))\n",
        "\n",
        "    return test_acc, y_pred_test, precision, recall\n",
        "\n",
        "\n",
        "accuracy_list = []\n",
        "precision_list = []\n",
        "recall_list = []\n",
        "label_list = []\n",
        "\n",
        "\n",
        "for i in range(num_queries):\n",
        "    q_indices = active_learner.query(num_samples=10)\n",
        "\n",
        "    # Simulate user interaction here. Replace this for real-world usage.\n",
        "    y = train.y[q_indices]\n",
        "\n",
        "    # Return the labels for the current query to the active learner.\n",
        "    active_learner.update(y)\n",
        "\n",
        "    # memory fix: https://github.com/UKPLab/sentence-transformers/issues/1793\n",
        "    gc.collect()\n",
        "    torch.cuda.empty_cache()\n",
        "\n",
        "    labeled_indices = np.concatenate([q_indices, labeled_indices])\n",
        "\n",
        "    print('---------------')\n",
        "    print('Iteration #{:d} ({} samples)'.format(i, len(labeled_indices)))\n",
        "    label_list.append(len(labeled_indices))\n",
        "\n",
        "    test_acc, y_pred_test, precision, recall = evaluate(active_learner, train[labeled_indices], test)\n",
        "    accuracy_list.append(test_acc)\n",
        "    precision_list.append(precision)\n",
        "    recall_list.append(recall)"
      ]
    },
    {
      "cell_type": "code",
      "execution_count": 60,
      "metadata": {
        "id": "Gjn3zhOZ5fYE",
        "colab": {
          "base_uri": "https://localhost:8080/",
          "height": 714
        },
        "outputId": "7f343254-5718-45b9-dd75-faf6dabfee8e"
      },
      "outputs": [
        {
          "output_type": "display_data",
          "data": {
            "text/plain": [
              "<module 'matplotlib.pyplot' from '/usr/local/lib/python3.10/dist-packages/matplotlib/pyplot.py'>"
            ]
          },
          "metadata": {}
        },
        {
          "output_type": "display_data",
          "data": {
            "text/plain": [
              "<Figure size 1200x800 with 1 Axes>"
            ],
            "image/png": "[encoded data removed]"
          },
          "metadata": {}
        }
      ],
      "source": [
        "import matplotlib.pyplot as plt\n",
        "fig = plt.figure(figsize=(12, 8))\n",
        "ax = plt.axes()\n",
        "ax.plot(label_list, accuracy_list, label='SetFit')\n",
        "ax.legend()\n",
        "plt.ylabel('accuracy')\n",
        "plt.xlabel('labels')\n",
        "\n",
        "display(plt)"
      ]
    },
    {
      "cell_type": "code",
      "execution_count": 61,
      "metadata": {
        "id": "FcluHSSD5jZ8"
      },
      "outputs": [],
      "source": [
        "from sklearn.metrics import confusion_matrix\n"
      ]
    },
    {
      "cell_type": "code",
      "execution_count": 75,
      "metadata": {
        "id": "xO-8WixU5lEc",
        "colab": {
          "base_uri": "https://localhost:8080/",
          "height": 872
        },
        "outputId": "3140750b-485c-463f-8ae4-f3687821a8ab"
      },
      "outputs": [
        {
          "output_type": "display_data",
          "data": {
            "text/plain": [
              "<Figure size 1200x1000 with 2 Axes>"
            ],
            "image/png": "[encoded data removed]"
          },
          "metadata": {}
        }
      ],
      "source": [
        "cm = confusion_matrix(test_df['reviews.rating'],y_pred_test)\n",
        "\n",
        "plt.figure(figsize=(12, 10))\n",
        "sns.heatmap(cm, annot=True, fmt=\"d\", cmap=\"Blues\")\n",
        "plt.xlabel('Predicted Labels')\n",
        "plt.ylabel('True Labels')\n",
        "plt.title('Confusion Matrix for AMAZON Label SEFIT Prediction')\n",
        "plt.show()"
      ]
    },
    {
      "cell_type": "code",
      "execution_count": 62,
      "metadata": {
        "id": "DMOuhAeS50cD"
      },
      "outputs": [],
      "source": [
        "pd.DataFrame( {'actual': np.array(test_df['reviews.rating']),'y_pred_test' : y_pred_test} ).to_csv('Sefit_Amazon_Review_Predictions.csv',index=False)"
      ]
    },
    {
      "cell_type": "code",
      "execution_count": 66,
      "metadata": {
        "id": "lZveO1cF6DDc"
      },
      "outputs": [],
      "source": [
        "setfit_label_acc_df = pd.DataFrame({'Label' : label_list  ,\"Accuracy\":accuracy_list, 'Precision' : precision_list, 'Recall': recall_list })"
      ]
    },
    {
      "cell_type": "code",
      "execution_count": 67,
      "metadata": {
        "id": "4j7wWo1n6Epj"
      },
      "outputs": [],
      "source": [
        "setfit_label_acc_df.to_csv('setfit_label_acc.csv', index=False)\n"
      ]
    }
  ],
  "metadata": {
    "colab": {
      "provenance": [],
      "machine_shape": "hm",
      "gpuType": "V100"
    },
    "kernelspec": {
      "display_name": "Python 3",
      "name": "python3"
    },
    "language_info": {
      "name": "python"
    },
    "accelerator": "GPU"
  },
  "nbformat": 4,
  "nbformat_minor": 0
}