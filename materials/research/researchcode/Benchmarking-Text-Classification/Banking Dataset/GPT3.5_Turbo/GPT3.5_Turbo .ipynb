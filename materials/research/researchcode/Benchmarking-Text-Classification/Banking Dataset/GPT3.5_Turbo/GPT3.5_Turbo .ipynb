{
 "cells": [
  {
   "cell_type": "code",
   "execution_count": 1,
   "metadata": {},
   "outputs": [],
   "source": [
    "import os\n",
    "import openai\n",
    "import json\n",
    "import numpy as np\n",
    "import pandas as pd\n",
    "from datasets import load_dataset as ld\n",
    "from sklearn.metrics import accuracy_score\n",
    "from sklearn.metrics import precision_score\n",
    "from sklearn.metrics import recall_score\n",
    "import time"
   ]
  },
  {
   "cell_type": "code",
   "execution_count": 2,
   "metadata": {},
   "outputs": [],
   "source": [
    "openai.api_key = \"Enter API KEY\""
   ]
  },
  {
   "cell_type": "code",
   "execution_count": 3,
   "metadata": {},
   "outputs": [],
   "source": [
    "train_df, test_df = pd.read_csv('seed.csv'), pd.read_csv('test.csv')"
   ]
  },
  {
   "cell_type": "code",
   "execution_count": 4,
   "metadata": {},
   "outputs": [],
   "source": [
    "combine_df = pd.concat([train_df,test_df],axis=0)"
   ]
  },
  {
   "cell_type": "code",
   "execution_count": 5,
   "metadata": {},
   "outputs": [
    {
     "data": {
      "text/html": [
       "<div>\n",
       "<style scoped>\n",
       "    .dataframe tbody tr th:only-of-type {\n",
       "        vertical-align: middle;\n",
       "    }\n",
       "\n",
       "    .dataframe tbody tr th {\n",
       "        vertical-align: top;\n",
       "    }\n",
       "\n",
       "    .dataframe thead th {\n",
       "        text-align: right;\n",
       "    }\n",
       "</style>\n",
       "<table border=\"1\" class=\"dataframe\">\n",
       "  <thead>\n",
       "    <tr style=\"text-align: right;\">\n",
       "      <th></th>\n",
       "      <th>example</th>\n",
       "      <th>label</th>\n",
       "    </tr>\n",
       "  </thead>\n",
       "  <tbody>\n",
       "    <tr>\n",
       "      <th>0</th>\n",
       "      <td>I have withdrawn cash from ATM but i received ...</td>\n",
       "      <td>wrong_amount_of_cash_received</td>\n",
       "    </tr>\n",
       "    <tr>\n",
       "      <th>1</th>\n",
       "      <td>How man currencies can I hold?</td>\n",
       "      <td>fiat_currency_support</td>\n",
       "    </tr>\n",
       "    <tr>\n",
       "      <th>2</th>\n",
       "      <td>Can I unblock my pin?</td>\n",
       "      <td>pin_blocked</td>\n",
       "    </tr>\n",
       "    <tr>\n",
       "      <th>3</th>\n",
       "      <td>How do i get my salary in the account?</td>\n",
       "      <td>receiving_money</td>\n",
       "    </tr>\n",
       "    <tr>\n",
       "      <th>4</th>\n",
       "      <td>Can my daughter open an account?</td>\n",
       "      <td>age_limit</td>\n",
       "    </tr>\n",
       "    <tr>\n",
       "      <th>...</th>\n",
       "      <td>...</td>\n",
       "      <td>...</td>\n",
       "    </tr>\n",
       "    <tr>\n",
       "      <th>1993</th>\n",
       "      <td>Where can my card be delivered?</td>\n",
       "      <td>order_physical_card</td>\n",
       "    </tr>\n",
       "    <tr>\n",
       "      <th>1994</th>\n",
       "      <td>I keep checking my bank statements but I don't...</td>\n",
       "      <td>Refund_not_showing_up</td>\n",
       "    </tr>\n",
       "    <tr>\n",
       "      <th>1995</th>\n",
       "      <td>I'm pretty sure my top up failed. How do I fix...</td>\n",
       "      <td>top_up_failed</td>\n",
       "    </tr>\n",
       "    <tr>\n",
       "      <th>1996</th>\n",
       "      <td>How do I deposit cash into my account?</td>\n",
       "      <td>top_up_by_cash_or_cheque</td>\n",
       "    </tr>\n",
       "    <tr>\n",
       "      <th>1997</th>\n",
       "      <td>I think my statement has a fraudulent charge</td>\n",
       "      <td>card_payment_not_recognised</td>\n",
       "    </tr>\n",
       "  </tbody>\n",
       "</table>\n",
       "<p>2197 rows × 2 columns</p>\n",
       "</div>"
      ],
      "text/plain": [
       "                                                example  \\\n",
       "0     I have withdrawn cash from ATM but i received ...   \n",
       "1                        How man currencies can I hold?   \n",
       "2                                 Can I unblock my pin?   \n",
       "3                How do i get my salary in the account?   \n",
       "4                      Can my daughter open an account?   \n",
       "...                                                 ...   \n",
       "1993                    Where can my card be delivered?   \n",
       "1994  I keep checking my bank statements but I don't...   \n",
       "1995  I'm pretty sure my top up failed. How do I fix...   \n",
       "1996             How do I deposit cash into my account?   \n",
       "1997       I think my statement has a fraudulent charge   \n",
       "\n",
       "                              label  \n",
       "0     wrong_amount_of_cash_received  \n",
       "1             fiat_currency_support  \n",
       "2                       pin_blocked  \n",
       "3                   receiving_money  \n",
       "4                         age_limit  \n",
       "...                             ...  \n",
       "1993            order_physical_card  \n",
       "1994          Refund_not_showing_up  \n",
       "1995                  top_up_failed  \n",
       "1996       top_up_by_cash_or_cheque  \n",
       "1997    card_payment_not_recognised  \n",
       "\n",
       "[2197 rows x 2 columns]"
      ]
     },
     "execution_count": 5,
     "metadata": {},
     "output_type": "execute_result"
    }
   ],
   "source": [
    "combine_df"
   ]
  },
  {
   "cell_type": "code",
   "execution_count": 6,
   "metadata": {},
   "outputs": [],
   "source": [
    "categories = combine_df.label.unique()"
   ]
  },
  {
   "cell_type": "code",
   "execution_count": 7,
   "metadata": {},
   "outputs": [
    {
     "data": {
      "text/plain": [
       "array(['wrong_amount_of_cash_received', 'fiat_currency_support',\n",
       "       'pin_blocked', 'receiving_money', 'age_limit', 'compromised_card',\n",
       "       'atm_support', 'virtual_card_not_working', 'pending_top_up',\n",
       "       'passcode_forgotten', 'direct_debit_payment_not_recognised',\n",
       "       'lost_or_stolen_phone', 'card_arrival', 'reverted_card_payment?',\n",
       "       'change_pin', 'why_verify_identity', 'topping_up_by_card',\n",
       "       'exchange_via_app', 'transfer_timing', 'card_linking',\n",
       "       'cash_withdrawal_charge', 'card_delivery_estimate',\n",
       "       'contactless_not_working', 'top_up_by_card_charge',\n",
       "       'verify_top_up', 'beneficiary_not_allowed', 'pending_card_payment',\n",
       "       'card_payment_wrong_exchange_rate', 'get_physical_card',\n",
       "       'country_support', 'get_disposable_virtual_card', 'request_refund',\n",
       "       'balance_not_updated_after_bank_transfer', 'exchange_rate',\n",
       "       'verify_my_identity', 'unable_to_verify_identity',\n",
       "       'edit_personal_details', 'top_up_failed', 'activate_my_card',\n",
       "       'supported_cards_and_currencies', 'lost_or_stolen_card',\n",
       "       'getting_spare_card', 'pending_transfer', 'top_up_reverted',\n",
       "       'visa_or_mastercard', 'wrong_exchange_rate_for_cash_withdrawal',\n",
       "       'transfer_fee_charged', 'transfer_not_received_by_recipient',\n",
       "       'terminate_account', 'automatic_top_up', 'getting_virtual_card',\n",
       "       'card_about_to_expire', 'declined_cash_withdrawal',\n",
       "       'cash_withdrawal_not_recognised', 'failed_transfer',\n",
       "       'card_payment_not_recognised', 'extra_charge_on_statement',\n",
       "       'verify_source_of_funds', 'card_swallowed', 'order_physical_card',\n",
       "       'top_up_limits',\n",
       "       'balance_not_updated_after_cheque_or_cash_deposit',\n",
       "       'card_acceptance', 'transfer_into_account',\n",
       "       'apple_pay_or_google_pay', 'declined_transfer',\n",
       "       'top_up_by_cash_or_cheque', 'cancel_transfer',\n",
       "       'transaction_charged_twice', 'card_payment_fee_charged',\n",
       "       'top_up_by_bank_transfer_charge', 'Refund_not_showing_up',\n",
       "       'pending_cash_withdrawal', 'card_not_working',\n",
       "       'declined_card_payment', 'disposable_card_limits',\n",
       "       'exchange_charge'], dtype=object)"
      ]
     },
     "execution_count": 7,
     "metadata": {},
     "output_type": "execute_result"
    }
   ],
   "source": [
    "categories"
   ]
  },
  {
   "cell_type": "markdown",
   "metadata": {},
   "source": [
    "# Let create a text_to_openai_json function"
   ]
  },
  {
   "cell_type": "code",
   "execution_count": 8,
   "metadata": {},
   "outputs": [],
   "source": [
    "def text_to_openai_json(data,filename):\n",
    "    \"\"\"\n",
    "    Converts a given dataset into a JSON Lines (JSONL) file suitable for OpenAI's GPT-3.5 turbo model.\n",
    "    \n",
    "    Args:\n",
    "        data (DataFrame or similar data structure): Input data containing text and labels.\n",
    "\n",
    "    The function processes the input data row by row, constructing conversations for each row with a system message, user message, and an assistant message. It then writes the generated conversation data to a JSONL file.\n",
    " \n",
    "    \"\"\"\n",
    "    # Initialize an empty list to store conversation data\n",
    "    message_list = []\n",
    "\n",
    "    # Iterate through the rows in the input data\n",
    "    for _, row in data.iterrows():\n",
    "        # Create a system message as an initial instruction\n",
    "        system_message = {\n",
    "            \"role\": \"system\",\n",
    "            \"content\": f\"given the following text: find the category in: {categories} that is most closely associated with it. Return only the category name\"\n",
    "        }\n",
    "\n",
    "        # Append the system message to the conversation\n",
    "        message_list.append({\"messages\": [system_message]})\n",
    "\n",
    "        # Create a user message based on the 'text' column from the data\n",
    "        user_message = {\n",
    "            \"role\": \"user\",\n",
    "            \"content\": row['example']\n",
    "        }\n",
    "\n",
    "        # Append the user message to the conversation\n",
    "        message_list[-1][\"messages\"].append(user_message)\n",
    "\n",
    "        # Create an assistant message based on the 'coarse_label' column from the data\n",
    "        assistant_message = {\n",
    "            \"role\": 'assistant',\n",
    "            \"content\": row['label']\n",
    "        }\n",
    "\n",
    "        # Append the assistant message to the conversation\n",
    "        message_list[-1][\"messages\"].append(assistant_message)\n",
    "\n",
    "    # Write the conversation data to a JSON Lines (JSONL) file\n",
    "    with open(filename, \"w\") as json_file:\n",
    "        for message in message_list:\n",
    "            # Serialize the conversation data to JSON and write it to the file\n",
    "            json.dump(message, json_file)\n",
    "            json_file.write(\"\\n\")\n"
   ]
  },
  {
   "cell_type": "markdown",
   "metadata": {},
   "source": [
    "# Few Shot Prompting\n"
   ]
  },
  {
   "cell_type": "code",
   "execution_count": 9,
   "metadata": {},
   "outputs": [],
   "source": [
    "system_content =  f\"given the following text: find the category in: {categories} that is most closely associated with it. Return only the category name only in following format\" "
   ]
  },
  {
   "cell_type": "code",
   "execution_count": 10,
   "metadata": {},
   "outputs": [],
   "source": [
    "from sklearn.metrics import precision_recall_fscore_support"
   ]
  },
  {
   "cell_type": "code",
   "execution_count": 11,
   "metadata": {},
   "outputs": [],
   "source": [
    "def zero_shot_model(data,model_id):\n",
    "    pred = []\n",
    "    for row in data[\"example\"]:\n",
    "        completion = openai.ChatCompletion.create(\n",
    "            model= model_id ,\n",
    "            messages=[\n",
    "                {\"role\": \"system\", \"content\": system_content },\n",
    "                {\"role\": \"user\", \"content\": row }\n",
    "            ])\n",
    "        \n",
    "        print(f'text: {row}')\n",
    "        print(completion.choices[0].message.content)\n",
    "        pred.append(completion.choices[0].message.content)\n",
    "    pred_df = pd.DataFrame({'example': data[\"example\"], 'label' : data['label'], 'few-shot predictions' : pred })\n",
    "    \n",
    "\n",
    "    return pred_df"
   ]
  },
  {
   "cell_type": "code",
   "execution_count": 12,
   "metadata": {},
   "outputs": [],
   "source": [
    "cumulative_increment = 0\n",
    "model_id = 'gpt-3.5-turbo-0301'\n",
    "all_model_id = []"
   ]
  },
  {
   "cell_type": "code",
   "execution_count": 13,
   "metadata": {},
   "outputs": [],
   "source": [
    "def fine_tune_model(model_id,num_label,pred_df):\n",
    "    incorrection_pred_df = pred_df[pred_df['example'] != pred_df['label']][:num_label]\n",
    "    filename = f'ft_increment_{num_label}.jsonl'\n",
    "    text_to_openai_json(incorrection_pred_df, filename)\n",
    "    loader = openai.File.create(file=open(filename, \"rb\"), purpose='fine-tune')\n",
    "    fine_tuning_job = openai.FineTuningJob.create(training_file=loader.id, model=\"gpt-3.5-turbo\")\n",
    "    return fine_tuning_job.id"
   ]
  },
  {
   "cell_type": "code",
   "execution_count": 14,
   "metadata": {},
   "outputs": [],
   "source": [
    "def wait_for_fine_tuning(job_id):\n",
    "    while True:\n",
    "        response = openai.FineTuningJob.retrieve(job_id)\n",
    "        print(response[\"fine_tuned_model\"])\n",
    "        if response[\"fine_tuned_model\"]:\n",
    "            print(response[\"fine_tuned_model\"])\n",
    "            return response[\"fine_tuned_model\"]\n",
    "        time.sleep(60)  # Check every 60 seconds"
   ]
  },
  {
   "cell_type": "code",
   "execution_count": 15,
   "metadata": {},
   "outputs": [],
   "source": [
    "def ft_accuracy(data,model_id):\n",
    "    pred = []\n",
    "    for row in data[\"example\"]:\n",
    "        completion = openai.ChatCompletion.create(\n",
    "            model= model_id ,\n",
    "            messages=[\n",
    "                {\"role\": \"system\", \"content\": system_content },\n",
    "                {\"role\": \"user\", \"content\": row }\n",
    "            ])\n",
    "        \n",
    "        print(f'example: {row}')\n",
    "        print(completion.choices[0].message.content)\n",
    "        pred.append(completion.choices[0].message.content)\n",
    "        \n",
    "    accuracy = accuracy_score(data['label'], pred)\n",
    "    print(f'Accuracy: {accuracy * 100:.2f}%')\n",
    "    precision, recall, f1, _ = precision_recall_fscore_support(data['label'], pred, average='macro',zero_division=1)\n",
    "    \n",
    "    return accuracy, precision, recall, f1, pred\n",
    "\n"
   ]
  },
  {
   "cell_type": "code",
   "execution_count": 16,
   "metadata": {},
   "outputs": [
    {
     "data": {
      "text/html": [
       "<div>\n",
       "<style scoped>\n",
       "    .dataframe tbody tr th:only-of-type {\n",
       "        vertical-align: middle;\n",
       "    }\n",
       "\n",
       "    .dataframe tbody tr th {\n",
       "        vertical-align: top;\n",
       "    }\n",
       "\n",
       "    .dataframe thead th {\n",
       "        text-align: right;\n",
       "    }\n",
       "</style>\n",
       "<table border=\"1\" class=\"dataframe\">\n",
       "  <thead>\n",
       "    <tr style=\"text-align: right;\">\n",
       "      <th></th>\n",
       "      <th>example</th>\n",
       "      <th>label</th>\n",
       "    </tr>\n",
       "  </thead>\n",
       "  <tbody>\n",
       "    <tr>\n",
       "      <th>0</th>\n",
       "      <td>I want to close my account</td>\n",
       "      <td>terminate_account</td>\n",
       "    </tr>\n",
       "    <tr>\n",
       "      <th>1</th>\n",
       "      <td>It seems I was overcharged when I used an ATM ...</td>\n",
       "      <td>wrong_exchange_rate_for_cash_withdrawal</td>\n",
       "    </tr>\n",
       "    <tr>\n",
       "      <th>2</th>\n",
       "      <td>I have a direct debit transaction I have not s...</td>\n",
       "      <td>direct_debit_payment_not_recognised</td>\n",
       "    </tr>\n",
       "    <tr>\n",
       "      <th>3</th>\n",
       "      <td>How much does it cost in fees to use your card?</td>\n",
       "      <td>order_physical_card</td>\n",
       "    </tr>\n",
       "    <tr>\n",
       "      <th>4</th>\n",
       "      <td>There is an extra $1 charge</td>\n",
       "      <td>extra_charge_on_statement</td>\n",
       "    </tr>\n",
       "  </tbody>\n",
       "</table>\n",
       "</div>"
      ],
      "text/plain": [
       "                                             example  \\\n",
       "0                         I want to close my account   \n",
       "1  It seems I was overcharged when I used an ATM ...   \n",
       "2  I have a direct debit transaction I have not s...   \n",
       "3    How much does it cost in fees to use your card?   \n",
       "4                        There is an extra $1 charge   \n",
       "\n",
       "                                     label  \n",
       "0                        terminate_account  \n",
       "1  wrong_exchange_rate_for_cash_withdrawal  \n",
       "2      direct_debit_payment_not_recognised  \n",
       "3                      order_physical_card  \n",
       "4                extra_charge_on_statement  "
      ]
     },
     "execution_count": 16,
     "metadata": {},
     "output_type": "execute_result"
    }
   ],
   "source": [
    "test_df.head()"
   ]
  },
  {
   "cell_type": "code",
   "execution_count": 5,
   "metadata": {},
   "outputs": [],
   "source": [
    "pred_df = zero_shot_model(model_id='gpt-3.5-turbo-0301', data = test_df)"
   ]
  },
  {
   "cell_type": "markdown",
   "metadata": {},
   "source": [
    "# Fine-Tuning GPT-3.5 Turbo on Iterative Label Increment"
   ]
  },
  {
   "cell_type": "code",
   "execution_count": null,
   "metadata": {},
   "outputs": [],
   "source": [
    "model_ids = []\n",
    "accs = [] \n",
    "precisions = [] \n",
    "recalls = [] \n",
    "f1s = []\n",
    "label_count = 0\n",
    "for i in range(15):\n",
    "    label_count += 10\n",
    "    ft_id = fine_tune_model(model_id = 'gpt-3.5-turbo-0301', num_label=label_count, pred_df=pred_df)\n",
    "    if wait_for_fine_tuning(ft_id) is not None:\n",
    "        model_ids.append(wait_for_fine_tuning(ft_id))\n",
    "        accuracy, precision, recall, f1, pred = ft_accuracy(data=test_df,model_id=(wait_for_fine_tuning(ft_id)))\n",
    "        accs.append(accuracy)\n",
    "        precisions.append(precision)\n",
    "        recalls.append(recall)\n",
    "        f1s.append(f1)"
   ]
  }
 ],
 "metadata": {
  "kernelspec": {
   "display_name": "Anote_AI",
   "language": "python",
   "name": "python3"
  },
  "language_info": {
   "codemirror_mode": {
    "name": "ipython",
    "version": 3
   },
   "file_extension": ".py",
   "mimetype": "text/x-python",
   "name": "python",
   "nbconvert_exporter": "python",
   "pygments_lexer": "ipython3",
   "version": "3.10.13"
  }
 },
 "nbformat": 4,
 "nbformat_minor": 2
}
