{
  "cells": [
    {
      "cell_type": "code",
      "execution_count": null,
      "metadata": {
        "id": "dpYuDS0-nFFa"
      },
      "outputs": [],
      "source": [
        "#pip install small-text\n",
        "##!pip install datasets\n",
        "#!pip install sentence-transformers\n",
        "#!pip install setfit\n",
        "#!pip install seaborn\n"
      ]
    },
    {
      "cell_type": "code",
      "execution_count": null,
      "metadata": {
        "id": "xKnOyyI-rpUE"
      },
      "outputs": [],
      "source": [
        "import datasets\n",
        "import logging\n",
        "import numpy as np\n",
        "import seaborn as sns\n",
        "from sklearn.metrics import accuracy_score, precision_recall_fscore_support\n",
        "import pandas as pd\n"
      ]
    },
    {
      "cell_type": "code",
      "execution_count": null,
      "metadata": {
        "id": "6F18kgTVrq7A"
      },
      "outputs": [],
      "source": [
        "dataset = datasets.load_dataset('trec')\n",
        "num_classes = np.unique(dataset['train']['coarse_label']).shape[0]"
      ]
    },
    {
      "cell_type": "code",
      "execution_count": null,
      "metadata": {
        "id": "LSk-Lvo4r0WZ"
      },
      "outputs": [],
      "source": [
        "import numpy as np\n",
        "from small_text import TextDataset"
      ]
    },
    {
      "cell_type": "code",
      "execution_count": null,
      "metadata": {
        "id": "TxRKeDgBr3Vy"
      },
      "outputs": [],
      "source": [
        "target_labels = np.arange(num_classes)"
      ]
    },
    {
      "cell_type": "code",
      "execution_count": null,
      "metadata": {
        "colab": {
          "base_uri": "https://localhost:8080/"
        },
        "id": "sXxEwQyasVnS",
        "outputId": "29db331c-2a0e-4d9e-bde6-acda48438779"
      },
      "outputs": [],
      "source": [
        "train = TextDataset.from_arrays(dataset['train']['text'], np.array(dataset['train']['coarse_label']), target_labels=target_labels)\n",
        "test = TextDataset.from_arrays(dataset['test']['text'], np.array(dataset['test']['coarse_label']), target_labels=target_labels)\n"
      ]
    },
    {
      "cell_type": "code",
      "execution_count": null,
      "metadata": {
        "id": "HZ-Ag-TrsdUI"
      },
      "outputs": [],
      "source": [
        "from small_text.integrations.transformers.classifiers.setfit import SetFitModelArguments\n",
        "from small_text.integrations.transformers.classifiers.factories import SetFitClassificationFactory\n",
        "\n",
        "\n",
        "num_classes = 6\n",
        "\n",
        "sentence_transformer_model_name = 'sentence-transformers/paraphrase-mpnet-base-v2'\n",
        "setfit_model_args = SetFitModelArguments(sentence_transformer_model_name)\n",
        "clf_factory = SetFitClassificationFactory(setfit_model_args, num_classes)"
      ]
    },
    {
      "cell_type": "markdown",
      "metadata": {
        "id": "aUCMY77vsshU"
      },
      "source": [
        "# Active Learning"
      ]
    },
    {
      "cell_type": "code",
      "execution_count": null,
      "metadata": {
        "id": "K6CBeY3gsvUJ"
      },
      "outputs": [],
      "source": [
        "from small_text import (\n",
        "    PoolBasedActiveLearner,\n",
        "    random_initialization_balanced,\n",
        "    BreakingTies,\n",
        "    SubsamplingQueryStrategy\n",
        ")"
      ]
    },
    {
      "cell_type": "code",
      "execution_count": null,
      "metadata": {
        "id": "d0zpmEU4swrI"
      },
      "outputs": [],
      "source": [
        "query_strategy = SubsamplingQueryStrategy(BreakingTies())\n",
        "setfit_train_kwargs = {'show_progress_bar': False}\n",
        "active_learner = PoolBasedActiveLearner(clf_factory, query_strategy, train, fit_kwargs={'setfit_train_kwargs': setfit_train_kwargs})\n",
        "\n"
      ]
    },
    {
      "cell_type": "code",
      "execution_count": null,
      "metadata": {
        "colab": {
          "base_uri": "https://localhost:8080/"
        },
        "id": "nsHjFz0ws4qn",
        "outputId": "de4786b4-7dd3-45f6-e263-cb6935aba90e"
      },
      "outputs": [],
      "source": [
        "# simulate a warm start\n",
        "def initialize_active_learner(active_learner, y_train):\n",
        "\n",
        "    x_indices_initial = random_initialization_balanced(y_train, n_samples=10)\n",
        "    y_initial = y_train[x_indices_initial]\n",
        "\n",
        "    active_learner.initialize_data(x_indices_initial, y_initial)\n",
        "\n",
        "    return x_indices_initial\n",
        "\n",
        "\n",
        "initial_indices = initialize_active_learner(active_learner, train.y)\n",
        "labeled_indices = initial_indices"
      ]
    },
    {
      "cell_type": "code",
      "execution_count": null,
      "metadata": {
        "colab": {
          "base_uri": "https://localhost:8080/"
        },
        "id": "EtaBMAJYs_Yi",
        "outputId": "a7056ee4-813a-4fe7-8290-58cb9b9523a4"
      },
      "outputs": [],
      "source": [
        "import gc\n",
        "import torch\n",
        "from sklearn.metrics import accuracy_score\n",
        "\n",
        "\n",
        "num_queries = 14\n",
        "\n",
        "y_pred = []\n",
        "\n",
        "\n",
        "def evaluate(active_learner, train, test):\n",
        "    y_pred = active_learner.classifier.predict(train)\n",
        "    y_pred_test = active_learner.classifier.predict(test)\n",
        "\n",
        "    test_acc = accuracy_score(y_pred_test, test.y)\n",
        "\n",
        "    precision, recall, f1, _ = precision_recall_fscore_support(y_pred_test, test.y, average='macro',zero_division=1)\n",
        "\n",
        "    print('Train accuracy: {:.2f}'.format(accuracy_score(y_pred, train.y)))\n",
        "    print('Test accuracy: {:.2f}'.format(test_acc))\n",
        "\n",
        "    return test_acc, y_pred_test, precision, recall\n",
        "\n",
        "\n",
        "accuracy_list = []\n",
        "precision_list = []\n",
        "recall_list = []\n",
        "label_list = []\n",
        "\n",
        "\n",
        "for i in range(num_queries):\n",
        "    q_indices = active_learner.query(num_samples=10)\n",
        "\n",
        "    # Simulate user interaction here. Replace this for real-world usage.\n",
        "    y = train.y[q_indices]\n",
        "\n",
        "    # Return the labels for the current query to the active learner.\n",
        "    active_learner.update(y)\n",
        "\n",
        "    # memory fix: https://github.com/UKPLab/sentence-transformers/issues/1793\n",
        "    gc.collect()\n",
        "    torch.cuda.empty_cache()\n",
        "\n",
        "    labeled_indices = np.concatenate([q_indices, labeled_indices])\n",
        "\n",
        "    print('---------------')\n",
        "    print('Iteration #{:d} ({} samples)'.format(i, len(labeled_indices)))\n",
        "    label_list.append(len(labeled_indices))\n",
        "\n",
        "    test_acc, y_pred_test, precision, recall = evaluate(active_learner, train[labeled_indices], test)\n",
        "    accuracy_list.append(test_acc)\n",
        "    precision_list.append(precision)\n",
        "    recall_list.append(recall)\n",
        "\n"
      ]
    },
    {
      "cell_type": "code",
      "execution_count": null,
      "metadata": {
        "colab": {
          "base_uri": "https://localhost:8080/",
          "height": 476
        },
        "id": "VExcwNCGwjmW",
        "outputId": "2e3e7910-6092-48f0-c1dc-be0498f69aba"
      },
      "outputs": [],
      "source": [
        "import matplotlib.pyplot as plt\n",
        "fig = plt.figure(figsize=(12, 8))\n",
        "ax = plt.axes()\n",
        "ax.plot(label_list, accuracy_list, label='SetFit')\n",
        "ax.legend()\n",
        "plt.ylabel('accuracy')\n",
        "plt.xlabel('labels')\n",
        "\n",
        "display(plt)"
      ]
    },
    {
      "cell_type": "code",
      "execution_count": null,
      "metadata": {
        "id": "TA1hYQxvEB5K"
      },
      "outputs": [],
      "source": [
        "from sklearn.metrics import confusion_matrix\n"
      ]
    },
    {
      "cell_type": "code",
      "execution_count": null,
      "metadata": {
        "colab": {
          "base_uri": "https://localhost:8080/",
          "height": 596
        },
        "id": "6Ljy7xNjEMNq",
        "outputId": "7a9d262b-c110-4681-f08d-6293f4ef128f"
      },
      "outputs": [],
      "source": [
        "# Compute the confusion matrix\n",
        "cm = confusion_matrix(dataset['test']['coarse_label'],y_pred_test)\n",
        "\n",
        "# Create a heatmap of the confusion matrix\n",
        "plt.figure(figsize=(12, 10))\n",
        "sns.heatmap(cm, annot=True, fmt=\"d\", cmap=\"Blues\")\n",
        "plt.xlabel('Predicted Labels')\n",
        "plt.ylabel('True Labels')\n",
        "plt.title('Confusion Matrix for Coarse Label SEFIT Prediction')\n",
        "plt.show()"
      ]
    },
    {
      "cell_type": "code",
      "execution_count": null,
      "metadata": {
        "id": "b48GVo5NLYMZ"
      },
      "outputs": [],
      "source": [
        "pd.DataFrame( {'actual': np.array(dataset['test']['coarse_label']),'y_pred_test' : y_pred_test} ).to_csv('Sefit_Predictions.csv',index=False)"
      ]
    },
    {
      "cell_type": "code",
      "execution_count": null,
      "metadata": {
        "id": "-5dAtdOjFXAq"
      },
      "outputs": [],
      "source": [
        "setfit_label_acc_df = pd.DataFrame({'Label' : label_list  ,\"Accuracy\":accuracy_list, 'Precision' : precision_list, 'Recall': recall_list })"
      ]
    },
    {
      "cell_type": "code",
      "execution_count": null,
      "metadata": {
        "id": "5ZeyO77bKVAo"
      },
      "outputs": [],
      "source": [
        "setfit_label_acc_df.to_csv('setfit_label_acc.csv', index=False)\n"
      ]
    }
  ],
  "metadata": {
    "accelerator": "GPU",
    "colab": {
      "gpuType": "T4",
      "provenance": []
    },
    "kernelspec": {
      "display_name": "Python 3",
      "name": "python3"
    },
    "language_info": {
      "codemirror_mode": {
        "name": "ipython",
        "version": 3
      },
      "file_extension": ".py",
      "mimetype": "text/x-python",
      "name": "python",
      "nbconvert_exporter": "python",
      "pygments_lexer": "ipython3",
      "version": "3.10.13"
    }
  },
  "nbformat": 4,
  "nbformat_minor": 0
}
