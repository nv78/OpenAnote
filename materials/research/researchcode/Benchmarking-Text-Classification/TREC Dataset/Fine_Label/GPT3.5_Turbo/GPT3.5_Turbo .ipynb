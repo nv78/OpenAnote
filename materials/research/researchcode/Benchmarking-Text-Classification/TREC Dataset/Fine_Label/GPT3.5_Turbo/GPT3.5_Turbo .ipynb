{
 "cells": [
  {
   "cell_type": "code",
   "execution_count": null,
   "metadata": {},
   "outputs": [],
   "source": [
    "import os\n",
    "import openai\n",
    "import json\n",
    "import numpy as np\n",
    "import pandas as pd\n",
    "from datasets import load_dataset as ld\n",
    "from sklearn.metrics import accuracy_score\n",
    "from sklearn.metrics import precision_score\n",
    "from sklearn.metrics import recall_score\n",
    "import time"
   ]
  },
  {
   "cell_type": "code",
   "execution_count": null,
   "metadata": {},
   "outputs": [],
   "source": [
    "openai.api_key = \"Enter OPENAI Key\""
   ]
  },
  {
   "cell_type": "code",
   "execution_count": null,
   "metadata": {},
   "outputs": [],
   "source": [
    "from datasets import load_dataset as ld\n",
    "\n",
    "def load_dataset_as_pandas_dataframe(\n",
    "    dataset_name: str=\"trec\"\n",
    "):\n",
    "\n",
    "    dataset = ld(dataset_name)\n",
    "    df = dataset[\"train\"].to_pandas()\n",
    "    df = df.sample(frac=1)\n",
    "\n",
    "    df_test = dataset[\"test\"].to_pandas()\n",
    "    df_test = df_test.sample(frac=1)\n",
    "    \n",
    "    return df, df_test"
   ]
  },
  {
   "cell_type": "code",
   "execution_count": null,
   "metadata": {},
   "outputs": [],
   "source": [
    "df, df_test = load_dataset_as_pandas_dataframe()"
   ]
  },
  {
   "cell_type": "code",
   "execution_count": null,
   "metadata": {},
   "outputs": [],
   "source": [
    "df['fine_label'].unique()"
   ]
  },
  {
   "cell_type": "code",
   "execution_count": null,
   "metadata": {},
   "outputs": [],
   "source": [
    "label_to_id = {\n",
    "    'Abbreviation': 0,\n",
    "    'Expression abbreviated': 1,\n",
    "    'Animal': 2,\n",
    "    'Organ of body': 3,\n",
    "    'Color': 4,\n",
    "    'Invention, book and other creative piece': 5,\n",
    "    'Currency name': 6,\n",
    "    'Disease and medicine': 7,\n",
    "    'Event': 8,\n",
    "    'Food': 9,\n",
    "    'Musical instrument': 10,\n",
    "    'Language': 11,\n",
    "    'Letter like a-z': 12,\n",
    "    'Other entity': 13,\n",
    "    'Plant': 14,\n",
    "    'Product': 15,\n",
    "    'Religion': 16,\n",
    "    'Sport': 17,\n",
    "    'Element and substance': 18,\n",
    "    'Symbols and sign': 19,\n",
    "    'Techniques and method': 20,\n",
    "    'Equivalent term': 21,\n",
    "    'Vehicle': 22,\n",
    "    'Word with a special property': 23,\n",
    "    'Definition of something': 24,\n",
    "    'Description of something': 25,\n",
    "    'Manner of an action': 26,\n",
    "    'Reason': 27,\n",
    "    'Group or organization of persons': 28,\n",
    "    'Individual': 29,\n",
    "    'Title of a person': 30,\n",
    "    'Description of a person': 31,\n",
    "    'City': 32,\n",
    "    'Country': 33,\n",
    "    'Mountain': 34,\n",
    "    'Other location': 35,\n",
    "    'State': 36,\n",
    "    'Postcode or other code': 37,\n",
    "    'Number of something': 38,\n",
    "    'Date': 39,\n",
    "    'Distance, linear measure': 40,\n",
    "    'Price': 41,\n",
    "    'Order, rank': 42,\n",
    "    'Other number': 43,\n",
    "    'Lasting time of something': 44,\n",
    "    'Percent, fraction': 45,\n",
    "    'Speed': 46,\n",
    "    'Temperature': 47,\n",
    "    'Size, area and volume': 48,\n",
    "    'Weight': 49\n",
    "}\n",
    "\n",
    "\n",
    "\n",
    "id_to_label = {value : key for key, value in label_to_id.items()} \n"
   ]
  },
  {
   "cell_type": "code",
   "execution_count": null,
   "metadata": {},
   "outputs": [],
   "source": [
    "\n",
    "categories = list(label_to_id.keys())"
   ]
  },
  {
   "cell_type": "markdown",
   "metadata": {},
   "source": [
    "# DataFrame mapping"
   ]
  },
  {
   "cell_type": "code",
   "execution_count": null,
   "metadata": {},
   "outputs": [],
   "source": [
    "df[\"fine_label\"] = df[\"fine_label\"].map(id_to_label)\n",
    "df_test[\"fine_label\"] = df_test[\"fine_label\"].map(id_to_label)"
   ]
  },
  {
   "cell_type": "code",
   "execution_count": null,
   "metadata": {},
   "outputs": [],
   "source": [
    "null_values = df.isnull().sum()\n",
    "print(null_values)"
   ]
  },
  {
   "cell_type": "markdown",
   "metadata": {},
   "source": [
    "# Let create a text_to_openai_json function"
   ]
  },
  {
   "cell_type": "code",
   "execution_count": null,
   "metadata": {},
   "outputs": [],
   "source": [
    "def text_to_openai_json(data,filename):\n",
    "    \"\"\"\n",
    "    Converts a given dataset into a JSON Lines (JSONL) file suitable for OpenAI's GPT-3.5 turbo model.\n",
    "    \n",
    "    Args:\n",
    "        data (DataFrame or similar data structure): Input data containing text and labels.\n",
    "\n",
    "    The function processes the input data row by row, constructing conversations for each row with a system message, user message, and an assistant message. It then writes the generated conversation data to a JSONL file.\n",
    " \n",
    "    \"\"\"\n",
    "    # Initialize an empty list to store conversation data\n",
    "    message_list = []\n",
    "\n",
    "    # Iterate through the rows in the input data\n",
    "    for _, row in data.iterrows():\n",
    "        # Create a system message as an initial instruction\n",
    "        system_message = {\n",
    "            \"role\": \"system\",\n",
    "            \"content\": f\"given the following text: find the category in: {categories} that is most closely associated with it. Return only the category name\"\n",
    "        }\n",
    "\n",
    "        # Append the system message to the conversation\n",
    "        message_list.append({\"messages\": [system_message]})\n",
    "\n",
    "        # Create a user message based on the 'text' column from the data\n",
    "        user_message = {\n",
    "            \"role\": \"user\",\n",
    "            \"content\": row['text']\n",
    "        }\n",
    "\n",
    "        # Append the user message to the conversation\n",
    "        message_list[-1][\"messages\"].append(user_message)\n",
    "\n",
    "        # Create an assistant message based on the 'fine_label' column from the data\n",
    "        assistant_message = {\n",
    "            \"role\": 'assistant',\n",
    "            \"content\": row['fine_label']\n",
    "        }\n",
    "\n",
    "        # Append the assistant message to the conversation\n",
    "        message_list[-1][\"messages\"].append(assistant_message)\n",
    "\n",
    "    # Write the conversation data to a JSON Lines (JSONL) file\n",
    "    with open(filename, \"w\") as json_file:\n",
    "        for message in message_list:\n",
    "            # Serialize the conversation data to JSON and write it to the file\n",
    "            json.dump(message, json_file)\n",
    "            json_file.write(\"\\n\")\n",
    "\n",
    "\n"
   ]
  },
  {
   "cell_type": "markdown",
   "metadata": {},
   "source": [
    "# Few Shot Prompting\n"
   ]
  },
  {
   "cell_type": "code",
   "execution_count": null,
   "metadata": {},
   "outputs": [],
   "source": [
    "system_content =  f\"given the following text: find the category in: {categories} that is most closely associated with it. Return only the category name only in following format\""
   ]
  },
  {
   "cell_type": "code",
   "execution_count": null,
   "metadata": {},
   "outputs": [],
   "source": [
    "from sklearn.metrics import precision_recall_fscore_support"
   ]
  },
  {
   "cell_type": "code",
   "execution_count": null,
   "metadata": {},
   "outputs": [],
   "source": [
    "def zero_shot_model(data,model_id):\n",
    "    pred = []\n",
    "    for row in data[\"text\"]:\n",
    "        completion = openai.ChatCompletion.create(\n",
    "            model= model_id ,\n",
    "            messages=[\n",
    "                {\"role\": \"system\", \"content\": system_content },\n",
    "                {\"role\": \"user\", \"content\": row }\n",
    "            ])\n",
    "        \n",
    "        print(f'text: {row}')\n",
    "        print(completion.choices[0].message.content)\n",
    "        pred.append(completion.choices[0].message.content)\n",
    "    pred_df = pd.DataFrame({'text': data[\"text\"], 'fine_label' : data['fine_label'], 'few-shot predictions' : pred })\n",
    "    \n",
    "\n",
    "    return pred_df"
   ]
  },
  {
   "cell_type": "code",
   "execution_count": null,
   "metadata": {},
   "outputs": [],
   "source": [
    "cumulative_increment = 0\n",
    "model_id = 'gpt-3.5-turbo-0301'\n",
    "all_model_id = []"
   ]
  },
  {
   "cell_type": "code",
   "execution_count": null,
   "metadata": {},
   "outputs": [],
   "source": [
    "def fine_tune_model(model_id,num_label,pred_df):\n",
    "    incorrection_pred_df = pred_df[pred_df['fine_label'] != pred_df['few-shot predictions']][:num_label]\n",
    "    filename = f'ft_increment_{num_label}.jsonl'\n",
    "    text_to_openai_json(incorrection_pred_df, filename)\n",
    "    loader = openai.File.create(file=open(filename, \"rb\"), purpose='fine-tune')\n",
    "    fine_tuning_job = openai.FineTuningJob.create(training_file=loader.id, model=\"gpt-3.5-turbo\")\n",
    "    return fine_tuning_job.id"
   ]
  },
  {
   "cell_type": "code",
   "execution_count": null,
   "metadata": {},
   "outputs": [],
   "source": [
    "def wait_for_fine_tuning(job_id):\n",
    "    while True:\n",
    "        response = openai.FineTuningJob.retrieve(job_id)\n",
    "        print(response[\"fine_tuned_model\"])\n",
    "        if response[\"fine_tuned_model\"]:\n",
    "            print(response[\"fine_tuned_model\"])\n",
    "            return response[\"fine_tuned_model\"]\n",
    "        time.sleep(60)  # Check every 60 seconds"
   ]
  },
  {
   "cell_type": "code",
   "execution_count": null,
   "metadata": {},
   "outputs": [],
   "source": [
    "def ft_accuracy(data,model_id):\n",
    "    pred = []\n",
    "    for row in data[\"text\"]:\n",
    "        completion = openai.ChatCompletion.create(\n",
    "            model= model_id ,\n",
    "            messages=[\n",
    "                {\"role\": \"system\", \"content\": system_content },\n",
    "                {\"role\": \"user\", \"content\": row }\n",
    "            ])\n",
    "        \n",
    "        print(f'text: {row}')\n",
    "        print(completion.choices[0].message.content)\n",
    "        pred.append(completion.choices[0].message.content)\n",
    "        \n",
    "    accuracy = accuracy_score(data['fine_label'], pred)\n",
    "    print(f'Accuracy: {accuracy * 100:.2f}%')\n",
    "    precision, recall, f1, _ = precision_recall_fscore_support(data['fine_label'], pred, average='macro',zero_division=1)\n",
    "    \n",
    "    return accuracy, precision, recall, f1, pred\n",
    "\n"
   ]
  },
  {
   "cell_type": "markdown",
   "metadata": {},
   "source": [
    "# Zero Shot Model"
   ]
  },
  {
   "cell_type": "code",
   "execution_count": null,
   "metadata": {},
   "outputs": [],
   "source": [
    "pred_df = zero_shot_model(model_id='gpt-3.5-turbo-0301', data = df_test)"
   ]
  },
  {
   "cell_type": "code",
   "execution_count": null,
   "metadata": {},
   "outputs": [],
   "source": [
    "pred_df.head()"
   ]
  },
  {
   "cell_type": "code",
   "execution_count": null,
   "metadata": {},
   "outputs": [],
   "source": [
    "accuracy_score(pred_df['fine_label'].to_list() ,pred_df['few-shot predictions'].to_list()) "
   ]
  },
  {
   "cell_type": "markdown",
   "metadata": {},
   "source": [
    "# Fine-Tuning GPT-3.5 Turbo on Iterative Label Increase"
   ]
  },
  {
   "cell_type": "code",
   "execution_count": null,
   "metadata": {},
   "outputs": [],
   "source": [
    "model_ids = []\n",
    "accs = [] \n",
    "precisions = [] \n",
    "recalls = [] \n",
    "f1s = []\n",
    "label_count = 0\n",
    "labels = []\n",
    "for i in range(15):\n",
    "    label_count += 10\n",
    "    labels.append(label_count)\n",
    "    ft_id = fine_tune_model(model_id = 'gpt-3.5-turbo-0301', num_label=label_count, pred_df=pred_df)\n",
    "    if wait_for_fine_tuning(ft_id) is not None:\n",
    "        model_ids.append(wait_for_fine_tuning(ft_id))\n",
    "        accuracy, precision, recall, f1, pred = ft_accuracy(data=df_test,model_id=(wait_for_fine_tuning(ft_id)))\n",
    "        accs.append(accuracy)\n",
    "        precisions.append(precision)\n",
    "        recalls.append(recall)\n",
    "        f1s.append(f1)\n",
    "        "
   ]
  },
  {
   "cell_type": "code",
   "execution_count": null,
   "metadata": {},
   "outputs": [],
   "source": [
    "data = {\n",
    "    'Label Count': labels,\n",
    "    'Accuracy': accs,\n",
    "    'Precision': precisions,\n",
    "    'Recall': recalls,\n",
    "    'F1 Score': f1s\n",
    "}\n",
    "\n",
    "df_results_acc= pd.DataFrame(data)"
   ]
  },
  {
   "cell_type": "code",
   "execution_count": null,
   "metadata": {},
   "outputs": [],
   "source": [
    "import matplotlib.pyplot as plt\n",
    "fig = plt.figure(figsize=(12, 8))\n",
    "ax = plt.axes()\n",
    "ax.plot(labels, accs, label='GPT3.5 Turbo')\n",
    "ax.legend()\n",
    "plt.ylabel('accuracy')\n",
    "plt.xlabel('labels')"
   ]
  },
  {
   "cell_type": "code",
   "execution_count": null,
   "metadata": {},
   "outputs": [],
   "source": [
    "df_results_acc.to_csv('FT_GPT3.5_fine_label_metrics_results.csv',index=False)"
   ]
  },
  {
   "cell_type": "code",
   "execution_count": null,
   "metadata": {},
   "outputs": [],
   "source": [
    "df_test.shape0"
   ]
  },
  {
   "cell_type": "code",
   "execution_count": null,
   "metadata": {},
   "outputs": [],
   "source": [
    "data = {'pred': pred, 'fine_label':df_test['fine_label']}"
   ]
  },
  {
   "cell_type": "code",
   "execution_count": null,
   "metadata": {},
   "outputs": [],
   "source": [
    "df_predictions = pd.DataFrame(data)"
   ]
  },
  {
   "cell_type": "code",
   "execution_count": null,
   "metadata": {},
   "outputs": [],
   "source": [
    "df_predictions.to_csv('FT_150_GPT3.5_PRED.csv',index=False)"
   ]
  },
  {
   "cell_type": "code",
   "execution_count": null,
   "metadata": {},
   "outputs": [],
   "source": [
    "df_predictions[df_predictions['pred']!= df_predictions['fine_label']].shape"
   ]
  }
 ],
 "metadata": {
  "kernelspec": {
   "display_name": "Anote_AI",
   "language": "python",
   "name": "python3"
  },
  "language_info": {
   "codemirror_mode": {
    "name": "ipython",
    "version": 3
   },
   "file_extension": ".py",
   "mimetype": "text/x-python",
   "name": "python",
   "nbconvert_exporter": "python",
   "pygments_lexer": "ipython3",
   "version": "3.10.13"
  }
 },
 "nbformat": 4,
 "nbformat_minor": 2
}
