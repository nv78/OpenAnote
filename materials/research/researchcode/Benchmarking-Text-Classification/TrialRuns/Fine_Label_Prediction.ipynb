{
  "cells": [
    {
      "cell_type": "code",
      "execution_count": 1,
      "metadata": {
        "colab": {
          "base_uri": "https://localhost:8080/",
          "height": 349
        },
        "id": "MopNXhhhoFnh",
        "outputId": "2eab96ca-381a-4b69-f794-130b84cf49e6"
      },
      "outputs": [],
      "source": [
        "from datasets import load_dataset\n",
        "import pandas as pd\n",
        "from transformers import AutoTokenizer\n",
        "import numpy as np\n",
        "import tensorflow as tf\n",
        "from transformers import TFBertForSequenceClassification, BertTokenizer\n",
        "from sklearn.metrics import accuracy_score\n",
        "from sklearn.metrics import f1_score\n",
        "from sklearn.metrics import precision_score\n",
        "from sklearn.metrics import recall_score\n"
      ]
    },
    {
      "cell_type": "markdown",
      "metadata": {},
      "source": [
        "# Loading Data"
      ]
    },
    {
      "cell_type": "code",
      "execution_count": 18,
      "metadata": {},
      "outputs": [],
      "source": [
        "dataset = load_dataset(\"trec\")"
      ]
    },
    {
      "cell_type": "markdown",
      "metadata": {},
      "source": [
        "- Verifying the GPU connection for TensorFlow.\n",
        "\n",
        "\n",
        "\n",
        "\n"
      ]
    },
    {
      "cell_type": "code",
      "execution_count": 19,
      "metadata": {
        "colab": {
          "base_uri": "https://localhost:8080/"
        },
        "id": "dfFCqfvzNBYj",
        "outputId": "79ccc8e9-25bb-4f6e-892a-fb414ebfb9b6"
      },
      "outputs": [
        {
          "name": "stdout",
          "output_type": "stream",
          "text": [
            "Num GPUs Available:  1\n"
          ]
        }
      ],
      "source": [
        "import tensorflow as tf\n",
        "print(\"Num GPUs Available: \", len(tf.config.experimental.list_physical_devices('GPU')))\n"
      ]
    },
    {
      "cell_type": "markdown",
      "metadata": {},
      "source": [
        "# Training Data"
      ]
    },
    {
      "cell_type": "code",
      "execution_count": 5,
      "metadata": {
        "id": "syMGZSlaH0BV"
      },
      "outputs": [],
      "source": [
        "train_dataset = dataset['train']"
      ]
    },
    {
      "cell_type": "code",
      "execution_count": 6,
      "metadata": {
        "id": "6eZTBtWLIOaN"
      },
      "outputs": [
        {
          "data": {
            "text/html": [
              "<div>\n",
              "<style scoped>\n",
              "    .dataframe tbody tr th:only-of-type {\n",
              "        vertical-align: middle;\n",
              "    }\n",
              "\n",
              "    .dataframe tbody tr th {\n",
              "        vertical-align: top;\n",
              "    }\n",
              "\n",
              "    .dataframe thead th {\n",
              "        text-align: right;\n",
              "    }\n",
              "</style>\n",
              "<table border=\"1\" class=\"dataframe\">\n",
              "  <thead>\n",
              "    <tr style=\"text-align: right;\">\n",
              "      <th></th>\n",
              "      <th>text</th>\n",
              "      <th>Fine_Label</th>\n",
              "    </tr>\n",
              "  </thead>\n",
              "  <tbody>\n",
              "    <tr>\n",
              "      <th>0</th>\n",
              "      <td>How did serfdom develop in and then leave Russ...</td>\n",
              "      <td>26</td>\n",
              "    </tr>\n",
              "    <tr>\n",
              "      <th>1</th>\n",
              "      <td>What films featured the character Popeye Doyle ?</td>\n",
              "      <td>5</td>\n",
              "    </tr>\n",
              "    <tr>\n",
              "      <th>2</th>\n",
              "      <td>How can I find a list of celebrities ' real na...</td>\n",
              "      <td>26</td>\n",
              "    </tr>\n",
              "    <tr>\n",
              "      <th>3</th>\n",
              "      <td>What fowl grabs the spotlight after the Chines...</td>\n",
              "      <td>2</td>\n",
              "    </tr>\n",
              "    <tr>\n",
              "      <th>4</th>\n",
              "      <td>What is the full form of .com ?</td>\n",
              "      <td>1</td>\n",
              "    </tr>\n",
              "    <tr>\n",
              "      <th>...</th>\n",
              "      <td>...</td>\n",
              "      <td>...</td>\n",
              "    </tr>\n",
              "    <tr>\n",
              "      <th>5447</th>\n",
              "      <td>What 's the shape of a camel 's spine ?</td>\n",
              "      <td>13</td>\n",
              "    </tr>\n",
              "    <tr>\n",
              "      <th>5448</th>\n",
              "      <td>What type of currency is used in China ?</td>\n",
              "      <td>6</td>\n",
              "    </tr>\n",
              "    <tr>\n",
              "      <th>5449</th>\n",
              "      <td>What is the temperature today ?</td>\n",
              "      <td>47</td>\n",
              "    </tr>\n",
              "    <tr>\n",
              "      <th>5450</th>\n",
              "      <td>What is the temperature for cooking ?</td>\n",
              "      <td>47</td>\n",
              "    </tr>\n",
              "    <tr>\n",
              "      <th>5451</th>\n",
              "      <td>What currency is used in Australia ?</td>\n",
              "      <td>6</td>\n",
              "    </tr>\n",
              "  </tbody>\n",
              "</table>\n",
              "<p>5452 rows × 2 columns</p>\n",
              "</div>"
            ],
            "text/plain": [
              "                                                   text  Fine_Label\n",
              "0     How did serfdom develop in and then leave Russ...          26\n",
              "1      What films featured the character Popeye Doyle ?           5\n",
              "2     How can I find a list of celebrities ' real na...          26\n",
              "3     What fowl grabs the spotlight after the Chines...           2\n",
              "4                       What is the full form of .com ?           1\n",
              "...                                                 ...         ...\n",
              "5447            What 's the shape of a camel 's spine ?          13\n",
              "5448           What type of currency is used in China ?           6\n",
              "5449                    What is the temperature today ?          47\n",
              "5450              What is the temperature for cooking ?          47\n",
              "5451               What currency is used in Australia ?           6\n",
              "\n",
              "[5452 rows x 2 columns]"
            ]
          },
          "execution_count": 6,
          "metadata": {},
          "output_type": "execute_result"
        }
      ],
      "source": [
        "train_df = pd.DataFrame({'text' : train_dataset['text'], 'Fine_Label' : train_dataset['fine_label']})\n",
        "train_df"
      ]
    },
    {
      "cell_type": "markdown",
      "metadata": {},
      "source": [
        "# Testing Data"
      ]
    },
    {
      "cell_type": "code",
      "execution_count": 7,
      "metadata": {},
      "outputs": [],
      "source": [
        "test_dataset = dataset['test']"
      ]
    },
    {
      "cell_type": "code",
      "execution_count": 8,
      "metadata": {},
      "outputs": [
        {
          "data": {
            "text/html": [
              "<div>\n",
              "<style scoped>\n",
              "    .dataframe tbody tr th:only-of-type {\n",
              "        vertical-align: middle;\n",
              "    }\n",
              "\n",
              "    .dataframe tbody tr th {\n",
              "        vertical-align: top;\n",
              "    }\n",
              "\n",
              "    .dataframe thead th {\n",
              "        text-align: right;\n",
              "    }\n",
              "</style>\n",
              "<table border=\"1\" class=\"dataframe\">\n",
              "  <thead>\n",
              "    <tr style=\"text-align: right;\">\n",
              "      <th></th>\n",
              "      <th>text</th>\n",
              "      <th>Fine_Label</th>\n",
              "    </tr>\n",
              "  </thead>\n",
              "  <tbody>\n",
              "    <tr>\n",
              "      <th>0</th>\n",
              "      <td>How far is it from Denver to Aspen ?</td>\n",
              "      <td>40</td>\n",
              "    </tr>\n",
              "    <tr>\n",
              "      <th>1</th>\n",
              "      <td>What county is Modesto , California in ?</td>\n",
              "      <td>32</td>\n",
              "    </tr>\n",
              "    <tr>\n",
              "      <th>2</th>\n",
              "      <td>Who was Galileo ?</td>\n",
              "      <td>31</td>\n",
              "    </tr>\n",
              "    <tr>\n",
              "      <th>3</th>\n",
              "      <td>What is an atom ?</td>\n",
              "      <td>24</td>\n",
              "    </tr>\n",
              "    <tr>\n",
              "      <th>4</th>\n",
              "      <td>When did Hawaii become a state ?</td>\n",
              "      <td>39</td>\n",
              "    </tr>\n",
              "    <tr>\n",
              "      <th>...</th>\n",
              "      <td>...</td>\n",
              "      <td>...</td>\n",
              "    </tr>\n",
              "    <tr>\n",
              "      <th>495</th>\n",
              "      <td>Who was the 22nd President of the US ?</td>\n",
              "      <td>29</td>\n",
              "    </tr>\n",
              "    <tr>\n",
              "      <th>496</th>\n",
              "      <td>What is the money they use in Zambia ?</td>\n",
              "      <td>6</td>\n",
              "    </tr>\n",
              "    <tr>\n",
              "      <th>497</th>\n",
              "      <td>How many feet in a mile ?</td>\n",
              "      <td>38</td>\n",
              "    </tr>\n",
              "    <tr>\n",
              "      <th>498</th>\n",
              "      <td>What is the birthstone of October ?</td>\n",
              "      <td>18</td>\n",
              "    </tr>\n",
              "    <tr>\n",
              "      <th>499</th>\n",
              "      <td>What is e-coli ?</td>\n",
              "      <td>24</td>\n",
              "    </tr>\n",
              "  </tbody>\n",
              "</table>\n",
              "<p>500 rows × 2 columns</p>\n",
              "</div>"
            ],
            "text/plain": [
              "                                         text  Fine_Label\n",
              "0        How far is it from Denver to Aspen ?          40\n",
              "1    What county is Modesto , California in ?          32\n",
              "2                           Who was Galileo ?          31\n",
              "3                           What is an atom ?          24\n",
              "4            When did Hawaii become a state ?          39\n",
              "..                                        ...         ...\n",
              "495    Who was the 22nd President of the US ?          29\n",
              "496    What is the money they use in Zambia ?           6\n",
              "497                 How many feet in a mile ?          38\n",
              "498       What is the birthstone of October ?          18\n",
              "499                          What is e-coli ?          24\n",
              "\n",
              "[500 rows x 2 columns]"
            ]
          },
          "execution_count": 8,
          "metadata": {},
          "output_type": "execute_result"
        }
      ],
      "source": [
        "test_df = pd.DataFrame({'text' : test_dataset['text'], 'Fine_Label' : test_dataset['fine_label']})\n",
        "test_df"
      ]
    },
    {
      "cell_type": "markdown",
      "metadata": {},
      "source": [
        "#  Tokenization"
      ]
    },
    {
      "cell_type": "code",
      "execution_count": 15,
      "metadata": {
        "id": "0tofAVOcIikz"
      },
      "outputs": [],
      "source": [
        "tokenizer = AutoTokenizer.from_pretrained(\"bert-base-cased\")\n",
        "tokenized_data = tokenizer(train_dataset[\"text\"], return_tensors=\"np\", padding=True)\n",
        "tokenized_data = dict(tokenized_data) # Bert Model requires require in a dictionary format\n",
        "labels = np.array(train_dataset[\"fine_label\"]) "
      ]
    },
    {
      "cell_type": "markdown",
      "metadata": {},
      "source": [
        "- As you see How appear twice, What appear twice those are known as __stopwords__\n"
      ]
    },
    {
      "cell_type": "code",
      "execution_count": 9,
      "metadata": {
        "colab": {
          "base_uri": "https://localhost:8080/"
        },
        "id": "2iXnPASGI4gD",
        "outputId": "050bb2d3-8d18-4c45-a423-37e7c2309fd1"
      },
      "outputs": [
        {
          "name": "stderr",
          "output_type": "stream",
          "text": [
            "All PyTorch model weights were used when initializing TFBertForSequenceClassification.\n",
            "\n",
            "Some weights or buffers of the TF 2.0 model TFBertForSequenceClassification were not initialized from the PyTorch model and are newly initialized: ['classifier.weight', 'classifier.bias']\n",
            "You should probably TRAIN this model on a down-stream task to be able to use it for predictions and inference.\n"
          ]
        }
      ],
      "source": [
        "# Load and compile our model\n",
        "model = TFBertForSequenceClassification.from_pretrained(\"bert-base-cased\",num_labels=50)\n",
        "# Lower learning rates are often better for fine-tuning transformers\n",
        "\n",
        "model.compile(optimizer=tf.keras.optimizers.Adam(learning_rate=3e-5),\n",
        "              loss=tf.keras.losses.SparseCategoricalCrossentropy(from_logits=True),\n",
        "              metrics=['accuracy'])\n",
        "\n",
        "#model.fit(tokenized_data, labels, epochs=10 ) # on next time"
      ]
    },
    {
      "cell_type": "markdown",
      "metadata": {},
      "source": [
        "# Cross Validation"
      ]
    },
    {
      "cell_type": "code",
      "execution_count": null,
      "metadata": {},
      "outputs": [
        {
          "data": {
            "text/html": [
              "<div>\n",
              "<style scoped>\n",
              "    .dataframe tbody tr th:only-of-type {\n",
              "        vertical-align: middle;\n",
              "    }\n",
              "\n",
              "    .dataframe tbody tr th {\n",
              "        vertical-align: top;\n",
              "    }\n",
              "\n",
              "    .dataframe thead th {\n",
              "        text-align: right;\n",
              "    }\n",
              "</style>\n",
              "<table border=\"1\" class=\"dataframe\">\n",
              "  <thead>\n",
              "    <tr style=\"text-align: right;\">\n",
              "      <th></th>\n",
              "      <th>text</th>\n",
              "      <th>Fine_Label</th>\n",
              "    </tr>\n",
              "  </thead>\n",
              "  <tbody>\n",
              "    <tr>\n",
              "      <th>0</th>\n",
              "      <td>How did serfdom develop in and then leave Russ...</td>\n",
              "      <td>26</td>\n",
              "    </tr>\n",
              "    <tr>\n",
              "      <th>1</th>\n",
              "      <td>What films featured the character Popeye Doyle ?</td>\n",
              "      <td>5</td>\n",
              "    </tr>\n",
              "    <tr>\n",
              "      <th>2</th>\n",
              "      <td>How can I find a list of celebrities ' real na...</td>\n",
              "      <td>26</td>\n",
              "    </tr>\n",
              "    <tr>\n",
              "      <th>3</th>\n",
              "      <td>What fowl grabs the spotlight after the Chines...</td>\n",
              "      <td>2</td>\n",
              "    </tr>\n",
              "    <tr>\n",
              "      <th>4</th>\n",
              "      <td>What is the full form of .com ?</td>\n",
              "      <td>1</td>\n",
              "    </tr>\n",
              "    <tr>\n",
              "      <th>...</th>\n",
              "      <td>...</td>\n",
              "      <td>...</td>\n",
              "    </tr>\n",
              "    <tr>\n",
              "      <th>5447</th>\n",
              "      <td>What 's the shape of a camel 's spine ?</td>\n",
              "      <td>13</td>\n",
              "    </tr>\n",
              "    <tr>\n",
              "      <th>5448</th>\n",
              "      <td>What type of currency is used in China ?</td>\n",
              "      <td>6</td>\n",
              "    </tr>\n",
              "    <tr>\n",
              "      <th>5449</th>\n",
              "      <td>What is the temperature today ?</td>\n",
              "      <td>47</td>\n",
              "    </tr>\n",
              "    <tr>\n",
              "      <th>5450</th>\n",
              "      <td>What is the temperature for cooking ?</td>\n",
              "      <td>47</td>\n",
              "    </tr>\n",
              "    <tr>\n",
              "      <th>5451</th>\n",
              "      <td>What currency is used in Australia ?</td>\n",
              "      <td>6</td>\n",
              "    </tr>\n",
              "  </tbody>\n",
              "</table>\n",
              "<p>5452 rows × 2 columns</p>\n",
              "</div>"
            ],
            "text/plain": [
              "                                                   text  Fine_Label\n",
              "0     How did serfdom develop in and then leave Russ...          26\n",
              "1      What films featured the character Popeye Doyle ?           5\n",
              "2     How can I find a list of celebrities ' real na...          26\n",
              "3     What fowl grabs the spotlight after the Chines...           2\n",
              "4                       What is the full form of .com ?           1\n",
              "...                                                 ...         ...\n",
              "5447            What 's the shape of a camel 's spine ?          13\n",
              "5448           What type of currency is used in China ?           6\n",
              "5449                    What is the temperature today ?          47\n",
              "5450              What is the temperature for cooking ?          47\n",
              "5451               What currency is used in Australia ?           6\n",
              "\n",
              "[5452 rows x 2 columns]"
            ]
          },
          "execution_count": 13,
          "metadata": {},
          "output_type": "execute_result"
        }
      ],
      "source": [
        "train_df"
      ]
    },
    {
      "cell_type": "code",
      "execution_count": null,
      "metadata": {},
      "outputs": [],
      "source": [
        "train_X = train_df[['text']]\n",
        "train_y = train_df[['Fine_Label']]"
      ]
    },
    {
      "cell_type": "code",
      "execution_count": 12,
      "metadata": {},
      "outputs": [],
      "source": [
        "from sklearn.model_selection import KFold"
      ]
    },
    {
      "cell_type": "code",
      "execution_count": 13,
      "metadata": {},
      "outputs": [],
      "source": [
        "num_folds = 5\n",
        "folds = KFold(n_splits=num_folds, shuffle=True)"
      ]
    },
    {
      "cell_type": "code",
      "execution_count": 10,
      "metadata": {},
      "outputs": [],
      "source": [
        "def cross_validation(dataset):\n",
        "    train_X = dataset[['text']]\n",
        "    train_y = dataset[['Fine_Label']]\n",
        "    for train_row_index, valid_row_index in folds.split(dataset):    \n",
        "        '''  Splitting the training data into training and validation sets, then performing cross-validation  '''    \n",
        "        train_x_new = train_X.iloc[train_row_index]\n",
        "        print(train_x_new)\n",
        "        valid_x = train_X.iloc[valid_row_index]\n",
        "\n",
        "        train_y_new = train_y.iloc[train_row_index]\n",
        "        valid_y = train_y.iloc[valid_row_index]   \n",
        "\n",
        "        #Training\n",
        "        tokenized_train_x_data = tokenizer(train_x_new['text'].to_list(), return_tensors=\"np\", padding=True)\n",
        "        tokenized_train_x_data = dict(tokenized_train_x_data)\n",
        "        train_y_labels = np.array(train_y_new[\"Fine_Label\"])\n",
        "\n",
        "\n",
        "        #Fitting The Model\n",
        "        model.fit(tokenized_train_x_data, train_y_labels, epochs=1 )\n",
        "\n",
        "        #Validation\n",
        "        tokenized_valid_x = tokenizer(valid_x['text'].to_list(), return_tensors=\"np\", padding=True)\n",
        "        tokenized_valid_x = dict(tokenized_valid_x)\n",
        "        valid_y_labels = np.array(valid_y[\"Fine_Label\"])\n",
        "\n",
        "        #Prediction\n",
        "        predictions = model.predict(tokenized_valid_x)\n",
        "        class_probabilities = tf.nn.softmax(predictions.logits, axis=-1)\n",
        "        predicted_labels = np.argmax(class_probabilities, axis=-1)\n",
        "\n",
        "        accuracy = accuracy_score(valid_y_labels,predicted_labels) \n",
        "        precision = precision_score(valid_y_labels,predicted_labels,average='weighted')\n",
        "        recall = recall_score(valid_y_labels,predicted_labels,average='weighted')\n",
        "        f1 = f1_score(valid_y_labels,predicted_labels, average='weighted')\n",
        "\n",
        "        print(f'Validation Accuracy: {accuracy * 100:.2f}%')\n",
        "        print(f'Precision Accuracy: {precision * 100:.2f}%')\n",
        "        print(f'recall Accuracy: {recall * 100:.2f}%')\n",
        "        print(f'f1 Accuracy: {f1 * 100:.2f}%')"
      ]
    },
    {
      "cell_type": "code",
      "execution_count": 16,
      "metadata": {},
      "outputs": [
        {
          "name": "stdout",
          "output_type": "stream",
          "text": [
            "                                                   text\n",
            "1      What films featured the character Popeye Doyle ?\n",
            "2     How can I find a list of celebrities ' real na...\n",
            "3     What fowl grabs the spotlight after the Chines...\n",
            "4                       What is the full form of .com ?\n",
            "5     What contemptible scoundrel stole the cork fro...\n",
            "...                                                 ...\n",
            "5446                             Who was Buffalo Bill ?\n",
            "5448           What type of currency is used in China ?\n",
            "5449                    What is the temperature today ?\n",
            "5450              What is the temperature for cooking ?\n",
            "5451               What currency is used in Australia ?\n",
            "\n",
            "[4361 rows x 1 columns]\n",
            "137/137 [==============================] - 36s 174ms/step - loss: 2.5231 - accuracy: 0.4384\n",
            "35/35 [==============================] - 4s 59ms/step\n",
            "Validation Accuracy: 74.15%\n",
            "Precision Accuracy: 67.87%\n",
            "recall Accuracy: 74.15%\n",
            "f1 Accuracy: 68.05%\n",
            "                                                   text\n",
            "0     How did serfdom develop in and then leave Russ...\n",
            "1      What films featured the character Popeye Doyle ?\n",
            "3     What fowl grabs the spotlight after the Chines...\n",
            "4                       What is the full form of .com ?\n",
            "6     What team did baseball 's St. Louis Browns bec...\n",
            "...                                                 ...\n",
            "5447            What 's the shape of a camel 's spine ?\n",
            "5448           What type of currency is used in China ?\n",
            "5449                    What is the temperature today ?\n",
            "5450              What is the temperature for cooking ?\n",
            "5451               What currency is used in Australia ?\n",
            "\n",
            "[4361 rows x 1 columns]\n"
          ]
        },
        {
          "name": "stderr",
          "output_type": "stream",
          "text": [
            "c:\\Users\\liang\\anaconda3\\envs\\Anote_AI\\lib\\site-packages\\sklearn\\metrics\\_classification.py:1469: UndefinedMetricWarning: Precision is ill-defined and being set to 0.0 in labels with no predicted samples. Use `zero_division` parameter to control this behavior.\n",
            "  _warn_prf(average, modifier, msg_start, len(result))\n"
          ]
        },
        {
          "name": "stdout",
          "output_type": "stream",
          "text": [
            "137/137 [==============================] - 29s 170ms/step - loss: 1.0301 - accuracy: 0.8145\n",
            "35/35 [==============================] - 4s 62ms/step\n",
            "Validation Accuracy: 83.41%\n",
            "Precision Accuracy: 77.72%\n",
            "recall Accuracy: 83.41%\n",
            "f1 Accuracy: 79.92%\n",
            "                                                   text\n",
            "0     How did serfdom develop in and then leave Russ...\n",
            "2     How can I find a list of celebrities ' real na...\n",
            "3     What fowl grabs the spotlight after the Chines...\n",
            "4                       What is the full form of .com ?\n",
            "5     What contemptible scoundrel stole the cork fro...\n",
            "...                                                 ...\n",
            "5445    In what city does Maurizio Pellegrin now live ?\n",
            "5446                             Who was Buffalo Bill ?\n",
            "5447            What 's the shape of a camel 's spine ?\n",
            "5449                    What is the temperature today ?\n",
            "5450              What is the temperature for cooking ?\n",
            "\n",
            "[4362 rows x 1 columns]\n"
          ]
        },
        {
          "name": "stderr",
          "output_type": "stream",
          "text": [
            "c:\\Users\\liang\\anaconda3\\envs\\Anote_AI\\lib\\site-packages\\sklearn\\metrics\\_classification.py:1469: UndefinedMetricWarning: Precision is ill-defined and being set to 0.0 in labels with no predicted samples. Use `zero_division` parameter to control this behavior.\n",
            "  _warn_prf(average, modifier, msg_start, len(result))\n"
          ]
        },
        {
          "name": "stdout",
          "output_type": "stream",
          "text": [
            "137/137 [==============================] - 25s 183ms/step - loss: 0.5950 - accuracy: 0.8838\n",
            "35/35 [==============================] - 2s 58ms/step\n",
            "Validation Accuracy: 91.38%\n",
            "Precision Accuracy: 89.80%\n",
            "recall Accuracy: 91.38%\n",
            "f1 Accuracy: 89.95%\n",
            "                                                   text\n",
            "0     How did serfdom develop in and then leave Russ...\n",
            "1      What films featured the character Popeye Doyle ?\n",
            "2     How can I find a list of celebrities ' real na...\n",
            "4                       What is the full form of .com ?\n",
            "5     What contemptible scoundrel stole the cork fro...\n",
            "...                                                 ...\n",
            "5447            What 's the shape of a camel 's spine ?\n",
            "5448           What type of currency is used in China ?\n",
            "5449                    What is the temperature today ?\n",
            "5450              What is the temperature for cooking ?\n",
            "5451               What currency is used in Australia ?\n",
            "\n",
            "[4362 rows x 1 columns]\n"
          ]
        },
        {
          "name": "stderr",
          "output_type": "stream",
          "text": [
            "c:\\Users\\liang\\anaconda3\\envs\\Anote_AI\\lib\\site-packages\\sklearn\\metrics\\_classification.py:1469: UndefinedMetricWarning: Precision is ill-defined and being set to 0.0 in labels with no predicted samples. Use `zero_division` parameter to control this behavior.\n",
            "  _warn_prf(average, modifier, msg_start, len(result))\n"
          ]
        },
        {
          "name": "stdout",
          "output_type": "stream",
          "text": [
            "137/137 [==============================] - 24s 175ms/step - loss: 0.3670 - accuracy: 0.9315\n",
            "35/35 [==============================] - 2s 59ms/step\n",
            "Validation Accuracy: 94.59%\n",
            "Precision Accuracy: 94.10%\n",
            "recall Accuracy: 94.59%\n",
            "f1 Accuracy: 93.89%\n",
            "                                                   text\n",
            "0     How did serfdom develop in and then leave Russ...\n",
            "1      What films featured the character Popeye Doyle ?\n",
            "2     How can I find a list of celebrities ' real na...\n",
            "3     What fowl grabs the spotlight after the Chines...\n",
            "5     What contemptible scoundrel stole the cork fro...\n",
            "...                                                 ...\n",
            "5443  Where can I find information on becoming a jou...\n",
            "5445    In what city does Maurizio Pellegrin now live ?\n",
            "5447            What 's the shape of a camel 's spine ?\n",
            "5448           What type of currency is used in China ?\n",
            "5451               What currency is used in Australia ?\n",
            "\n",
            "[4362 rows x 1 columns]\n"
          ]
        },
        {
          "name": "stderr",
          "output_type": "stream",
          "text": [
            "c:\\Users\\liang\\anaconda3\\envs\\Anote_AI\\lib\\site-packages\\sklearn\\metrics\\_classification.py:1469: UndefinedMetricWarning: Precision is ill-defined and being set to 0.0 in labels with no predicted samples. Use `zero_division` parameter to control this behavior.\n",
            "  _warn_prf(average, modifier, msg_start, len(result))\n"
          ]
        },
        {
          "name": "stdout",
          "output_type": "stream",
          "text": [
            "137/137 [==============================] - 24s 177ms/step - loss: 0.2566 - accuracy: 0.9569\n",
            "35/35 [==============================] - 2s 58ms/step\n",
            "Validation Accuracy: 96.24%\n",
            "Precision Accuracy: 96.14%\n",
            "recall Accuracy: 96.24%\n",
            "f1 Accuracy: 95.81%\n"
          ]
        },
        {
          "name": "stderr",
          "output_type": "stream",
          "text": [
            "c:\\Users\\liang\\anaconda3\\envs\\Anote_AI\\lib\\site-packages\\sklearn\\metrics\\_classification.py:1469: UndefinedMetricWarning: Precision is ill-defined and being set to 0.0 in labels with no predicted samples. Use `zero_division` parameter to control this behavior.\n",
            "  _warn_prf(average, modifier, msg_start, len(result))\n"
          ]
        }
      ],
      "source": [
        "cross_validation(train_df)"
      ]
    },
    {
      "cell_type": "markdown",
      "metadata": {},
      "source": [
        "# Predicting test_dataset row #2"
      ]
    },
    {
      "cell_type": "code",
      "execution_count": 20,
      "metadata": {},
      "outputs": [
        {
          "data": {
            "text/html": [
              "<div>\n",
              "<style scoped>\n",
              "    .dataframe tbody tr th:only-of-type {\n",
              "        vertical-align: middle;\n",
              "    }\n",
              "\n",
              "    .dataframe tbody tr th {\n",
              "        vertical-align: top;\n",
              "    }\n",
              "\n",
              "    .dataframe thead th {\n",
              "        text-align: right;\n",
              "    }\n",
              "</style>\n",
              "<table border=\"1\" class=\"dataframe\">\n",
              "  <thead>\n",
              "    <tr style=\"text-align: right;\">\n",
              "      <th></th>\n",
              "      <th>text</th>\n",
              "      <th>Fine_Label</th>\n",
              "    </tr>\n",
              "  </thead>\n",
              "  <tbody>\n",
              "    <tr>\n",
              "      <th>2</th>\n",
              "      <td>Who was Galileo ?</td>\n",
              "      <td>31</td>\n",
              "    </tr>\n",
              "  </tbody>\n",
              "</table>\n",
              "</div>"
            ],
            "text/plain": [
              "                text  Fine_Label\n",
              "2  Who was Galileo ?          31"
            ]
          },
          "execution_count": 20,
          "metadata": {},
          "output_type": "execute_result"
        }
      ],
      "source": [
        "test_df.iloc[[2]]"
      ]
    },
    {
      "cell_type": "code",
      "execution_count": 21,
      "metadata": {},
      "outputs": [
        {
          "name": "stdout",
          "output_type": "stream",
          "text": [
            "1/1 [==============================] - 0s 82ms/step\n"
          ]
        }
      ],
      "source": [
        "tokenized_data = tokenizer(test_dataset[\"text\"][2], return_tensors=\"np\", padding=True)\n",
        "tokenized_data = dict(tokenized_data)\n",
        "predictions = model.predict(tokenized_data)\n",
        "class_probabilities = tf.nn.softmax(predictions.logits, axis=-1)\n",
        "predicted_labels = np.argmax(class_probabilities, axis=-1)\n"
      ]
    },
    {
      "cell_type": "code",
      "execution_count": 22,
      "metadata": {},
      "outputs": [
        {
          "data": {
            "text/plain": [
              "array([31], dtype=int64)"
            ]
          },
          "execution_count": 22,
          "metadata": {},
          "output_type": "execute_result"
        }
      ],
      "source": [
        "predicted_labels # It's correct"
      ]
    },
    {
      "cell_type": "code",
      "execution_count": null,
      "metadata": {},
      "outputs": [],
      "source": [
        "import tensorflow as tf\n",
        "\n",
        "def prediction(text):\n",
        "    # Tokenize the input text\n",
        "    inputs = tokenizer(text, return_tensors=\"tf\", padding=True, truncation=True)\n",
        "    inputs = dict(inputs)\n",
        "    # Make predictions using the model\n",
        "    logits = model(inputs)[\"logits\"]\n",
        "\n",
        "    # Calculate class probabilities and predicted labels\n",
        "    class_probabilities = tf.nn.softmax(logits, axis=-1)\n",
        "    predicted_labels = tf.argmax(class_probabilities, axis=-1).numpy()[0]\n",
        "\n",
        "    return predicted_labels\n",
        "\n"
      ]
    },
    {
      "cell_type": "code",
      "execution_count": 3,
      "metadata": {},
      "outputs": [],
      "source": [
        "label_to_id = {\n",
        "    'ENTITY:Animal': 2,\n",
        "    'ENTITY:body': 3,\n",
        "    'ENTITY:color': 4,\n",
        "    'ENTITY:cremat': 5,\n",
        "    'ENTITY:currency': 6,\n",
        "    'ENTITY:dismed': 7,\n",
        "    'ENTITY:event': 8,\n",
        "    'ENTITY:food': 9,\n",
        "    'ENTITY:instru': 10,\n",
        "    'ENTITY:lang': 11,\n",
        "    'ENTITY:letter': 12,\n",
        "    'ENTITY:other': 13,\n",
        "    'ENTITY:plant': 14,\n",
        "    'ENTITY:product': 15,\n",
        "    'ENTITY:religion': 16,\n",
        "    'ENTITY:sport': 17,\n",
        "    'ENTITY:substance': 18,\n",
        "    'ENTITY:symbol': 19,\n",
        "    'ENTITY:techmeth': 20,\n",
        "    'ENTITY:termeq': 21,\n",
        "    'ENTITY:veh': 22,\n",
        "    'ENTITY:word': 23,\n",
        "    'DESCRIPTION:def': 24,\n",
        "    'DESCRIPTION:desc': 25,\n",
        "    'DESCRIPTION:manner': 26,\n",
        "    'DESCRIPTION:reason': 27,\n",
        "    'HUMAN:gr': 28,\n",
        "    'HUMAN:ind': 29,\n",
        "    'HUMAN:title': 30,\n",
        "    'HUMAN:desc': 31,\n",
        "    'LOCATION:city': 32,\n",
        "    'LOCATION:country': 33,\n",
        "    'LOCATION:mount': 34,\n",
        "    'LOCATION:other': 35,\n",
        "    'LOCATION:state': 36,\n",
        "    'NUMERIC:code': 37,\n",
        "    'NUMERIC:count': 38,\n",
        "    'NUMERIC:date': 39,\n",
        "    'NUMERIC:dist': 40,\n",
        "    'NUMERIC:money': 41,\n",
        "    'NUMERIC:ord': 42,\n",
        "    'NUMERIC:other': 43,\n",
        "    'NUMERIC:period': 44,\n",
        "    'NUMERIC:perc': 45,\n",
        "    'NUMERIC:speed': 46,\n",
        "    'NUMERIC:temp': 47,\n",
        "    'NUMERIC:volsize': 48,\n",
        "    'NUMERIC:weight': 49\n",
        "} \n",
        "\n",
        "id_to_label = { id : label for label, id in label_to_id.items()}"
      ]
    },
    {
      "cell_type": "code",
      "execution_count": 4,
      "metadata": {},
      "outputs": [],
      "source": [
        "items = []\n",
        "for item in label_to_id:\n",
        "    items.append(item)"
      ]
    },
    {
      "cell_type": "code",
      "execution_count": 5,
      "metadata": {},
      "outputs": [
        {
          "data": {
            "text/plain": [
              "['ENTITY:Animal',\n",
              " 'ENTITY:body',\n",
              " 'ENTITY:color',\n",
              " 'ENTITY:cremat',\n",
              " 'ENTITY:currency',\n",
              " 'ENTITY:dismed',\n",
              " 'ENTITY:event',\n",
              " 'ENTITY:food',\n",
              " 'ENTITY:instru',\n",
              " 'ENTITY:lang',\n",
              " 'ENTITY:letter',\n",
              " 'ENTITY:other',\n",
              " 'ENTITY:plant',\n",
              " 'ENTITY:product',\n",
              " 'ENTITY:religion',\n",
              " 'ENTITY:sport',\n",
              " 'ENTITY:substance',\n",
              " 'ENTITY:symbol',\n",
              " 'ENTITY:techmeth',\n",
              " 'ENTITY:termeq',\n",
              " 'ENTITY:veh',\n",
              " 'ENTITY:word',\n",
              " 'DESCRIPTION:def',\n",
              " 'DESCRIPTION:desc',\n",
              " 'DESCRIPTION:manner',\n",
              " 'DESCRIPTION:reason',\n",
              " 'HUMAN:gr',\n",
              " 'HUMAN:ind',\n",
              " 'HUMAN:title',\n",
              " 'HUMAN:desc',\n",
              " 'LOCATION:city',\n",
              " 'LOCATION:country',\n",
              " 'LOCATION:mount',\n",
              " 'LOCATION:other',\n",
              " 'LOCATION:state',\n",
              " 'NUMERIC:code',\n",
              " 'NUMERIC:count',\n",
              " 'NUMERIC:date',\n",
              " 'NUMERIC:dist',\n",
              " 'NUMERIC:money',\n",
              " 'NUMERIC:ord',\n",
              " 'NUMERIC:other',\n",
              " 'NUMERIC:period',\n",
              " 'NUMERIC:perc',\n",
              " 'NUMERIC:speed',\n",
              " 'NUMERIC:temp',\n",
              " 'NUMERIC:volsize',\n",
              " 'NUMERIC:weight']"
            ]
          },
          "execution_count": 5,
          "metadata": {},
          "output_type": "execute_result"
        }
      ],
      "source": [
        "items"
      ]
    },
    {
      "cell_type": "code",
      "execution_count": null,
      "metadata": {},
      "outputs": [],
      "source": [
        "predictions = []\n",
        "for text in test_dataset[\"text\"]:\n",
        "    predictions.append(prediction(text))"
      ]
    },
    {
      "cell_type": "code",
      "execution_count": null,
      "metadata": {},
      "outputs": [],
      "source": [
        "test_df['Prediction'] = predictions"
      ]
    },
    {
      "cell_type": "code",
      "execution_count": null,
      "metadata": {},
      "outputs": [
        {
          "data": {
            "text/html": [
              "<div>\n",
              "<style scoped>\n",
              "    .dataframe tbody tr th:only-of-type {\n",
              "        vertical-align: middle;\n",
              "    }\n",
              "\n",
              "    .dataframe tbody tr th {\n",
              "        vertical-align: top;\n",
              "    }\n",
              "\n",
              "    .dataframe thead th {\n",
              "        text-align: right;\n",
              "    }\n",
              "</style>\n",
              "<table border=\"1\" class=\"dataframe\">\n",
              "  <thead>\n",
              "    <tr style=\"text-align: right;\">\n",
              "      <th></th>\n",
              "      <th>text</th>\n",
              "      <th>Fine_Label</th>\n",
              "      <th>Prediction</th>\n",
              "    </tr>\n",
              "  </thead>\n",
              "  <tbody>\n",
              "    <tr>\n",
              "      <th>0</th>\n",
              "      <td>How far is it from Denver to Aspen ?</td>\n",
              "      <td>40</td>\n",
              "      <td>40</td>\n",
              "    </tr>\n",
              "    <tr>\n",
              "      <th>1</th>\n",
              "      <td>What county is Modesto , California in ?</td>\n",
              "      <td>32</td>\n",
              "      <td>35</td>\n",
              "    </tr>\n",
              "    <tr>\n",
              "      <th>2</th>\n",
              "      <td>Who was Galileo ?</td>\n",
              "      <td>31</td>\n",
              "      <td>31</td>\n",
              "    </tr>\n",
              "    <tr>\n",
              "      <th>3</th>\n",
              "      <td>What is an atom ?</td>\n",
              "      <td>24</td>\n",
              "      <td>24</td>\n",
              "    </tr>\n",
              "    <tr>\n",
              "      <th>4</th>\n",
              "      <td>When did Hawaii become a state ?</td>\n",
              "      <td>39</td>\n",
              "      <td>39</td>\n",
              "    </tr>\n",
              "    <tr>\n",
              "      <th>...</th>\n",
              "      <td>...</td>\n",
              "      <td>...</td>\n",
              "      <td>...</td>\n",
              "    </tr>\n",
              "    <tr>\n",
              "      <th>495</th>\n",
              "      <td>Who was the 22nd President of the US ?</td>\n",
              "      <td>29</td>\n",
              "      <td>29</td>\n",
              "    </tr>\n",
              "    <tr>\n",
              "      <th>496</th>\n",
              "      <td>What is the money they use in Zambia ?</td>\n",
              "      <td>6</td>\n",
              "      <td>41</td>\n",
              "    </tr>\n",
              "    <tr>\n",
              "      <th>497</th>\n",
              "      <td>How many feet in a mile ?</td>\n",
              "      <td>38</td>\n",
              "      <td>38</td>\n",
              "    </tr>\n",
              "    <tr>\n",
              "      <th>498</th>\n",
              "      <td>What is the birthstone of October ?</td>\n",
              "      <td>18</td>\n",
              "      <td>24</td>\n",
              "    </tr>\n",
              "    <tr>\n",
              "      <th>499</th>\n",
              "      <td>What is e-coli ?</td>\n",
              "      <td>24</td>\n",
              "      <td>24</td>\n",
              "    </tr>\n",
              "  </tbody>\n",
              "</table>\n",
              "<p>500 rows × 3 columns</p>\n",
              "</div>"
            ],
            "text/plain": [
              "                                         text  Fine_Label  Prediction\n",
              "0        How far is it from Denver to Aspen ?          40          40\n",
              "1    What county is Modesto , California in ?          32          35\n",
              "2                           Who was Galileo ?          31          31\n",
              "3                           What is an atom ?          24          24\n",
              "4            When did Hawaii become a state ?          39          39\n",
              "..                                        ...         ...         ...\n",
              "495    Who was the 22nd President of the US ?          29          29\n",
              "496    What is the money they use in Zambia ?           6          41\n",
              "497                 How many feet in a mile ?          38          38\n",
              "498       What is the birthstone of October ?          18          24\n",
              "499                          What is e-coli ?          24          24\n",
              "\n",
              "[500 rows x 3 columns]"
            ]
          },
          "execution_count": 49,
          "metadata": {},
          "output_type": "execute_result"
        }
      ],
      "source": [
        "test_df"
      ]
    },
    {
      "cell_type": "code",
      "execution_count": null,
      "metadata": {},
      "outputs": [],
      "source": [
        "test_df.to_csv('Fine_Label_Prediction.csv', index=False)\n"
      ]
    },
    {
      "cell_type": "code",
      "execution_count": null,
      "metadata": {},
      "outputs": [
        {
          "name": "stdout",
          "output_type": "stream",
          "text": [
            "Validation Accuracy: 93.20%\n",
            "Precision Accuracy: 93.64%\n",
            "recall Accuracy: 93.20%\n",
            "f1 Accuracy: 92.86%\n"
          ]
        }
      ],
      "source": [
        "accuracy = accuracy_score(test_dataset['fine_label'],predictions) \n",
        "precision = precision_score(test_dataset['fine_label'],predictions,average='weighted')\n",
        "recall = recall_score(test_dataset['fine_label'],predictions,average='weighted')\n",
        "f1 = f1_score(test_dataset['fine_label'],predictions, average='weighted')\n",
        "\n",
        "print(f' Accuracy: {accuracy * 100:.2f}%')\n",
        "print(f'Precision Accuracy: {precision * 100:.2f}%')\n",
        "print(f'recall Accuracy: {recall * 100:.2f}%')\n",
        "print(f'f1 Accuracy: {f1 * 100:.2f}%')\n",
        "\n",
        "\n"
      ]
    },
    {
      "cell_type": "markdown",
      "metadata": {},
      "source": [
        "### Confusion Matrix"
      ]
    },
    {
      "cell_type": "code",
      "execution_count": null,
      "metadata": {},
      "outputs": [
        {
          "data": {
            "image/png": "[encoded data removed]",
            "text/plain": [
              "<Figure size 1200x1000 with 2 Axes>"
            ]
          },
          "metadata": {},
          "output_type": "display_data"
        }
      ],
      "source": [
        "from sklearn.metrics import confusion_matrix\n",
        "import seaborn as sns\n",
        "import matplotlib.pyplot as plt\n",
        "\n",
        "# Compute the confusion matrix\n",
        "cm = confusion_matrix(test_dataset['fine_label'], predictions)\n",
        "\n",
        "# Create a heatmap of the confusion matrix\n",
        "plt.figure(figsize=(12, 10))\n",
        "sns.heatmap(cm, annot=True, fmt=\"d\", cmap=\"Blues\")\n",
        "plt.xlabel('Predicted Labels')\n",
        "plt.ylabel('True Labels')\n",
        "plt.title('Confusion Matrix')\n",
        "\n",
        "# Save the confusion matrix as an image\n",
        "plt.savefig('confusion_matrix.png')\n",
        "plt.show()\n"
      ]
    }
  ],
  "metadata": {
    "accelerator": "GPU",
    "colab": {
      "gpuType": "T4",
      "provenance": []
    },
    "kernelspec": {
      "display_name": "Python 3",
      "name": "python3"
    },
    "language_info": {
      "codemirror_mode": {
        "name": "ipython",
        "version": 3
      },
      "file_extension": ".py",
      "mimetype": "text/x-python",
      "name": "python",
      "nbconvert_exporter": "python",
      "pygments_lexer": "ipython3",
      "version": "3.10.13"
    }
  },
  "nbformat": 4,
  "nbformat_minor": 0
}
