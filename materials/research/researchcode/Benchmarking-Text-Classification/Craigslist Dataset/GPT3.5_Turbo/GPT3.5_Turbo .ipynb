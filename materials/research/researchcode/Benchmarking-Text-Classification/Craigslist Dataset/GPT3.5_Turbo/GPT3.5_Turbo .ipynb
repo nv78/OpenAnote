{
 "cells": [
  {
   "cell_type": "code",
   "execution_count": null,
   "metadata": {},
   "outputs": [],
   "source": [
    "import os\n",
    "import openai\n",
    "import json\n",
    "import numpy as np\n",
    "import pandas as pd\n",
    "from sklearn.metrics import accuracy_score\n",
    "from sklearn.metrics import precision_score\n",
    "from sklearn.metrics import recall_score\n",
    "import time"
   ]
  },
  {
   "cell_type": "code",
   "execution_count": null,
   "metadata": {},
   "outputs": [],
   "source": [
    "openai.api_key = \"Enter API KEY\""
   ]
  },
  {
   "cell_type": "code",
   "execution_count": null,
   "metadata": {},
   "outputs": [],
   "source": [
    "train_df, test_df = pd.read_csv('seed.csv'), pd.read_csv('test.csv')"
   ]
  },
  {
   "cell_type": "code",
   "execution_count": null,
   "metadata": {},
   "outputs": [],
   "source": [
    "test_df"
   ]
  },
  {
   "cell_type": "markdown",
   "metadata": {},
   "source": [
    "## Combining DataFrames\n",
    "\n",
    "In the following operation, the `train_df` and `test_df` DataFrames are combined by stacking them vertically along the rows (axis=0).\n",
    "\n",
    "```python\n",
    "combine_df = pd.concat([train_df, test_df], axis=0, ignore_index=True) to ensure Im able to get all categories\n"
   ]
  },
  {
   "cell_type": "code",
   "execution_count": null,
   "metadata": {},
   "outputs": [],
   "source": [
    "combine_df = pd.concat([train_df,test_df],axis=0)"
   ]
  },
  {
   "cell_type": "code",
   "execution_count": null,
   "metadata": {},
   "outputs": [],
   "source": [
    "categories = combine_df.label.unique()"
   ]
  },
  {
   "cell_type": "markdown",
   "metadata": {},
   "source": [
    "# Let create a text_to_openai_json function"
   ]
  },
  {
   "cell_type": "code",
   "execution_count": null,
   "metadata": {},
   "outputs": [],
   "source": [
    "def text_to_openai_json(data,filename):\n",
    "    \"\"\"\n",
    "    Converts a given dataset into a JSON Lines (JSONL) file suitable for OpenAI's GPT-3.5 turbo model.\n",
    "    \n",
    "    Args:\n",
    "        data (DataFrame or similar data structure): Input data containing text and labels.\n",
    "\n",
    "    The function processes the input data row by row, constructing conversations for each row with a system message, user message, and an assistant message. It then writes the generated conversation data to a JSONL file.\n",
    " \n",
    "    \"\"\"\n",
    "    # Initialize an empty list to store conversation data\n",
    "    message_list = []\n",
    "\n",
    "    # Iterate through the rows in the input data\n",
    "    for _, row in data.iterrows():\n",
    "        # Create a system message as an initial instruction\n",
    "        system_message = {\n",
    "            \"role\": \"system\",\n",
    "            \"content\": f\"given the following text: find the category in: {categories} that is most closely associated with it. Return only the category name\"\n",
    "        }\n",
    "\n",
    "        # Append the system message to the conversation\n",
    "        message_list.append({\"messages\": [system_message]})\n",
    "\n",
    "        # Create a user message based on the 'text' column from the data\n",
    "        user_message = {\n",
    "            \"role\": \"user\",\n",
    "            \"content\": row['example']\n",
    "        }\n",
    "\n",
    "        # Append the user message to the conversation\n",
    "        message_list[-1][\"messages\"].append(user_message)\n",
    "\n",
    "        # Create an assistant message based on the 'coarse_label' column from the data\n",
    "        assistant_message = {\n",
    "            \"role\": 'assistant',\n",
    "            \"content\": row['label']\n",
    "        }\n",
    "\n",
    "        # Append the assistant message to the conversation\n",
    "        message_list[-1][\"messages\"].append(assistant_message)\n",
    "\n",
    "    # Write the conversation data to a JSON Lines (JSONL) file\n",
    "    with open(filename, \"w\") as json_file:\n",
    "        for message in message_list:\n",
    "            # Serialize the conversation data to JSON and write it to the file\n",
    "            json.dump(message, json_file)\n",
    "            json_file.write(\"\\n\")\n",
    "\n"
   ]
  },
  {
   "cell_type": "markdown",
   "metadata": {},
   "source": [
    "# Few Shot Prompting\n"
   ]
  },
  {
   "cell_type": "code",
   "execution_count": null,
   "metadata": {},
   "outputs": [],
   "source": [
    "system_content =  f\"given the following text: find the category in: {categories} that is most closely associated with it. Return only the category name only in following format\""
   ]
  },
  {
   "cell_type": "code",
   "execution_count": null,
   "metadata": {},
   "outputs": [],
   "source": [
    "from sklearn.metrics import precision_recall_fscore_support"
   ]
  },
  {
   "cell_type": "code",
   "execution_count": null,
   "metadata": {},
   "outputs": [],
   "source": [
    "def zero_shot_model(data,model_id):\n",
    "    pred = []\n",
    "    for row in data[\"example\"]:\n",
    "        completion = openai.ChatCompletion.create(\n",
    "            model= model_id ,\n",
    "            messages=[\n",
    "                {\"role\": \"system\", \"content\": system_content },\n",
    "                {\"role\": \"user\", \"content\": row }\n",
    "            ])\n",
    "        \n",
    "        print(f'text: {row}')\n",
    "        print(completion.choices[0].message.content)\n",
    "        pred.append(completion.choices[0].message.content)\n",
    "    pred_df = pd.DataFrame({'example': data[\"example\"], 'label' : data['label'], 'few-shot predictions' : pred })\n",
    "    \n",
    "\n",
    "    return pred_df"
   ]
  },
  {
   "cell_type": "code",
   "execution_count": null,
   "metadata": {},
   "outputs": [],
   "source": [
    "cumulative_increment = 0\n",
    "model_id = 'gpt-3.5-turbo-0301'\n",
    "all_model_id = []"
   ]
  },
  {
   "cell_type": "code",
   "execution_count": null,
   "metadata": {},
   "outputs": [],
   "source": [
    "def fine_tune_model(model_id,num_label,pred_df):\n",
    "    incorrection_pred_df = pred_df[pred_df['example'] != pred_df['label']][:num_label]\n",
    "    filename = f'ft_increment_{num_label}.jsonl'\n",
    "    text_to_openai_json(incorrection_pred_df, filename)\n",
    "    loader = openai.File.create(file=open(filename, \"rb\"), purpose='fine-tune')\n",
    "    fine_tuning_job = openai.FineTuningJob.create(training_file=loader.id, model=\"gpt-3.5-turbo\")\n",
    "    return fine_tuning_job.id"
   ]
  },
  {
   "cell_type": "code",
   "execution_count": null,
   "metadata": {},
   "outputs": [],
   "source": [
    "def wait_for_fine_tuning(job_id):\n",
    "    while True:\n",
    "        response = openai.FineTuningJob.retrieve(job_id)\n",
    "        print(response[\"fine_tuned_model\"])\n",
    "        if response[\"fine_tuned_model\"]:\n",
    "            print(response[\"fine_tuned_model\"])\n",
    "            return response[\"fine_tuned_model\"]\n",
    "        time.sleep(60)  # Check every 60 seconds"
   ]
  },
  {
   "cell_type": "code",
   "execution_count": null,
   "metadata": {},
   "outputs": [],
   "source": [
    "def ft_accuracy(data,model_id):\n",
    "    pred = []\n",
    "    for row in data[\"example\"]:\n",
    "        completion = openai.ChatCompletion.create(\n",
    "            model= model_id ,\n",
    "            messages=[\n",
    "                {\"role\": \"system\", \"content\": system_content },\n",
    "                {\"role\": \"user\", \"content\": row }\n",
    "            ])\n",
    "        \n",
    "        print(f'example: {row}')\n",
    "        print(completion.choices[0].message.content)\n",
    "        pred.append(completion.choices[0].message.content)\n",
    "        \n",
    "    accuracy = accuracy_score(data['label'], pred)\n",
    "    print(f'Accuracy: {accuracy * 100:.2f}%')\n",
    "    precision, recall, f1, _ = precision_recall_fscore_support(data['label'], pred, average='macro',zero_division=1)\n",
    "    \n",
    "    return accuracy, precision, recall, f1, pred\n",
    "\n"
   ]
  },
  {
   "cell_type": "code",
   "execution_count": null,
   "metadata": {},
   "outputs": [],
   "source": [
    "test_df.head()"
   ]
  },
  {
   "cell_type": "code",
   "execution_count": null,
   "metadata": {},
   "outputs": [],
   "source": [
    "pred_df = zero_shot_model(model_id='gpt-3.5-turbo-0301', data = test_df)"
   ]
  },
  {
   "cell_type": "markdown",
   "metadata": {},
   "source": [
    "# Fine-Tuning GPT-3.5 Turbo on Iterative Label Increase"
   ]
  },
  {
   "cell_type": "code",
   "execution_count": null,
   "metadata": {},
   "outputs": [],
   "source": [
    "model_ids = []\n",
    "accs = [] \n",
    "precisions = [] \n",
    "recalls = [] \n",
    "f1s = []\n",
    "label_count = 0\n",
    "for i in range(15):\n",
    "    label_count += 10\n",
    "    ft_id = fine_tune_model(model_id = 'gpt-3.5-turbo-0301', num_label=label_count, pred_df=pred_df)\n",
    "    if wait_for_fine_tuning(ft_id) is not None:\n",
    "        model_ids.append(wait_for_fine_tuning(ft_id))\n",
    "        accuracy, precision, recall, f1, pred = ft_accuracy(data=test_df,model_id=(wait_for_fine_tuning(ft_id)))\n",
    "        accs.append(accuracy)\n",
    "        precisions.append(precision)\n",
    "        recalls.append(recall)\n",
    "        f1s.append(f1)\n",
    "        \n",
    "        "
   ]
  }
 ],
 "metadata": {
  "kernelspec": {
   "display_name": "Anote_AI",
   "language": "python",
   "name": "python3"
  },
  "language_info": {
   "codemirror_mode": {
    "name": "ipython",
    "version": 3
   },
   "file_extension": ".py",
   "mimetype": "text/x-python",
   "name": "python",
   "nbconvert_exporter": "python",
   "pygments_lexer": "ipython3",
   "version": "3.10.13"
  }
 },
 "nbformat": 4,
 "nbformat_minor": 2
}
