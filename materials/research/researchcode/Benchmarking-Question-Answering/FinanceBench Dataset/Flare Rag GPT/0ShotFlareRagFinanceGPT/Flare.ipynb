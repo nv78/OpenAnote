{
 "cells": [
  {
   "cell_type": "code",
   "execution_count": null,
   "metadata": {},
   "outputs": [],
   "source": [
    "from langchain.document_loaders import DirectoryLoader\n",
    "from langchain.text_splitter import RecursiveCharacterTextSplitter\n",
    "from langchain.vectorstores import FAISS\n",
    "from langchain.storage import (\n",
    "    LocalFileStore,\n",
    ")\n",
    "from langchain.embeddings import CacheBackedEmbeddings, HuggingFaceEmbeddings\n",
    "from transformers import T5Tokenizer, T5ForConditionalGeneration\n",
    "import torch\n",
    "\n",
    "import pandas as pd\n",
    "#import openai\n",
    "\n"
   ]
  },
  {
   "cell_type": "code",
   "execution_count": null,
   "metadata": {},
   "outputs": [],
   "source": [
    "df = pd.read_csv('train.csv')"
   ]
  },
  {
   "cell_type": "code",
   "execution_count": null,
   "metadata": {},
   "outputs": [],
   "source": [
    "import os\n",
    "\n",
    "# Assuming df is your DataFrame\n",
    "for index, row in df.iterrows():\n",
    "    evidence_text = row['evidence_text']\n",
    "    # Define the filename based on the index or any other identifier\n",
    "    filename = f\"text_{index}.txt\"\n",
    "    # Specify the directory where you want to save the .txt files\n",
    "    directory = \"txt\"\n",
    "    # If the directory doesn't exist, create it\n",
    "    if not os.path.exists(directory):\n",
    "        os.makedirs(directory)\n",
    "    # Combine the directory and filename to create the full path\n",
    "    filepath = os.path.join(directory, filename)\n",
    "    \n",
    "    # Write the evidence_text to the .txt file\n",
    "    with open(filepath, 'w') as file:\n",
    "        file.write(evidence_text)\n",
    "\n",
    "    print(f\"Text for index {index} stored in {filepath}\")\n"
   ]
  },
  {
   "cell_type": "markdown",
   "metadata": {},
   "source": []
  },
  {
   "cell_type": "code",
   "execution_count": null,
   "metadata": {},
   "outputs": [],
   "source": [
    "from langchain.embeddings.openai import OpenAIEmbeddings\n",
    "from langchain.chains import FlareChain\n",
    "from langchain.llms import OpenAI\n"
   ]
  },
  {
   "cell_type": "code",
   "execution_count": null,
   "metadata": {},
   "outputs": [],
   "source": [
    "import os"
   ]
  },
  {
   "cell_type": "code",
   "execution_count": null,
   "metadata": {},
   "outputs": [],
   "source": [
    "os.environ[\"OPENAI_API_KEY\"] = \"Enter your openai key\"\n"
   ]
  },
  {
   "cell_type": "code",
   "execution_count": null,
   "metadata": {},
   "outputs": [],
   "source": [
    "def create_vector_db(embedding_model='text-embedding-ada-002',data_path='txt/'):\n",
    "    # Load all the transcripts stored in the data folder\n",
    "    loader = DirectoryLoader(data_path, glob=\"**/*.txt\", show_progress=True)\n",
    "    docs = loader.load()\n",
    "\n",
    "    # Split the documents into smaller chunks\n",
    "    text_splitter = RecursiveCharacterTextSplitter(chunk_size=900, chunk_overlap=50)\n",
    "    documents = text_splitter.split_documents(docs)\n",
    "\n",
    "    # Initialize OpenAI Embeddings\n",
    "    openai_embedder = OpenAIEmbeddings(model=embedding_model)\n",
    "\n",
    "    # Cache the embeddings for faster loadup\n",
    "    cache_store = LocalFileStore(\"./cache/\")\n",
    "    cached_embedder = CacheBackedEmbeddings.from_bytes_store(openai_embedder, cache_store, namespace=\"sentence\")\n",
    "\n",
    "    # Create the vector db\n",
    "    db = FAISS.from_documents(documents, cached_embedder)\n",
    "    return db"
   ]
  },
  {
   "cell_type": "code",
   "execution_count": null,
   "metadata": {},
   "outputs": [],
   "source": [
    "db = create_vector_db()"
   ]
  },
  {
   "cell_type": "code",
   "execution_count": null,
   "metadata": {},
   "outputs": [],
   "source": [
    "from langchain_community.chat_models import ChatOpenAI"
   ]
  },
  {
   "cell_type": "code",
   "execution_count": null,
   "metadata": {},
   "outputs": [],
   "source": [
    "myllm = ChatOpenAI(temperature=0.30, model_name=\"gpt-3.5-turbo-16k\")\n",
    "\n",
    "flare = FlareChain.from_llm(\n",
    "    llm=myllm,\n",
    "    retriever=db.as_retriever(),\n",
    "    max_generation_len=700,\n",
    "    min_prob=0.15, \n",
    "    instruction=\"You are a factual chatbot that answers questions about 10-K documents. You only answer with answers you find in the text, no outside information.\"\n",
    "    \n",
    "    )\n"
   ]
  },
  {
   "cell_type": "code",
   "execution_count": null,
   "metadata": {},
   "outputs": [],
   "source": [
    "result = flare.run(df['question'][0])"
   ]
  },
  {
   "cell_type": "code",
   "execution_count": null,
   "metadata": {},
   "outputs": [],
   "source": [
    "result"
   ]
  },
  {
   "cell_type": "code",
   "execution_count": null,
   "metadata": {},
   "outputs": [],
   "source": [
    "df"
   ]
  },
  {
   "cell_type": "code",
   "execution_count": null,
   "metadata": {},
   "outputs": [],
   "source": [
    "results = []\n",
    "for index, row in df.iterrows():\n",
    "    result = flare.run(row['question'])\n",
    "    print(index,result)\n",
    "    results.append(result)\n",
    "    "
   ]
  },
  {
   "cell_type": "code",
   "execution_count": null,
   "metadata": {},
   "outputs": [],
   "source": [
    "df.head()"
   ]
  },
  {
   "cell_type": "code",
   "execution_count": null,
   "metadata": {},
   "outputs": [],
   "source": [
    "data = {'synthesis': results, 'actual': df['answer'], 'evidence_text': df['evidence_text'], 'question': df['question']}\n"
   ]
  },
  {
   "cell_type": "code",
   "execution_count": null,
   "metadata": {},
   "outputs": [],
   "source": [
    "pd.DataFrame(data).to_csv('zero_shot_rag_flare_syntheses.csv')"
   ]
  }
 ],
 "metadata": {
  "kernelspec": {
   "display_name": "lotus",
   "language": "python",
   "name": "python3"
  },
  "language_info": {
   "codemirror_mode": {
    "name": "ipython",
    "version": 3
   },
   "file_extension": ".py",
   "mimetype": "text/x-python",
   "name": "python",
   "nbconvert_exporter": "python",
   "pygments_lexer": "ipython3",
   "version": "3.10.13"
  }
 },
 "nbformat": 4,
 "nbformat_minor": 2
}
