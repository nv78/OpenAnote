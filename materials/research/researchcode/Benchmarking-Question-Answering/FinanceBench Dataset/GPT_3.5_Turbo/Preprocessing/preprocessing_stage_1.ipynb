{
 "cells": [
  {
   "cell_type": "code",
   "execution_count": 1,
   "metadata": {},
   "outputs": [],
   "source": [
    "from langchain.document_loaders import PyPDFLoader\n",
    "from langchain.text_splitter import RecursiveCharacterTextSplitter\n",
    "import os\n",
    "from langchain.vectorstores import Chroma\n",
    "from langchain.embeddings.openai import OpenAIEmbeddings\n",
    "from langchain.chains.question_answering import load_qa_chain\n",
    "import json\n",
    "import datetime\n",
    "import shutil\n",
    "import openai\n",
    "import pandas as pd\n",
    "from datasets import load_dataset\n",
    "from urllib.parse import parse_qs, urlparse\n",
    "import base64\n",
    "import time\n"
   ]
  },
  {
   "cell_type": "code",
   "execution_count": 2,
   "metadata": {},
   "outputs": [],
   "source": [
    "from datasets import load_dataset\n",
    "dataset = load_dataset(\"PatronusAI/financebench\")"
   ]
  },
  {
   "cell_type": "code",
   "execution_count": 3,
   "metadata": {},
   "outputs": [],
   "source": [
    "df = pd.DataFrame(dataset['train'])"
   ]
  },
  {
   "cell_type": "code",
   "execution_count": 13,
   "metadata": {},
   "outputs": [
    {
     "data": {
      "text/html": [
       "<div>\n",
       "<style scoped>\n",
       "    .dataframe tbody tr th:only-of-type {\n",
       "        vertical-align: middle;\n",
       "    }\n",
       "\n",
       "    .dataframe tbody tr th {\n",
       "        vertical-align: top;\n",
       "    }\n",
       "\n",
       "    .dataframe thead th {\n",
       "        text-align: right;\n",
       "    }\n",
       "</style>\n",
       "<table border=\"1\" class=\"dataframe\">\n",
       "  <thead>\n",
       "    <tr style=\"text-align: right;\">\n",
       "      <th></th>\n",
       "      <th>financebench_id</th>\n",
       "      <th>doc_name</th>\n",
       "      <th>doc_link</th>\n",
       "      <th>doc_period</th>\n",
       "      <th>question_type</th>\n",
       "      <th>question</th>\n",
       "      <th>answer</th>\n",
       "      <th>evidence_text</th>\n",
       "      <th>page_number</th>\n",
       "    </tr>\n",
       "  </thead>\n",
       "  <tbody>\n",
       "    <tr>\n",
       "      <th>0</th>\n",
       "      <td>financebench_id_03029</td>\n",
       "      <td>3M_2018_10K</td>\n",
       "      <td>https://investors.3m.com/financials/sec-filing...</td>\n",
       "      <td>2018</td>\n",
       "      <td>metrics-generated</td>\n",
       "      <td>What is the FY2018 capital expenditure amount ...</td>\n",
       "      <td>$1577.00</td>\n",
       "      <td>Table of Contents \\n3M Company and Subsidiarie...</td>\n",
       "      <td>60</td>\n",
       "    </tr>\n",
       "    <tr>\n",
       "      <th>1</th>\n",
       "      <td>financebench_id_04672</td>\n",
       "      <td>3M_2018_10K</td>\n",
       "      <td>https://investors.3m.com/financials/sec-filing...</td>\n",
       "      <td>2018</td>\n",
       "      <td>metrics-generated</td>\n",
       "      <td>Assume that you are a public equities analyst....</td>\n",
       "      <td>$8.70</td>\n",
       "      <td>Table of Contents \\n3M Company and Subsidiarie...</td>\n",
       "      <td>58</td>\n",
       "    </tr>\n",
       "    <tr>\n",
       "      <th>2</th>\n",
       "      <td>financebench_id_00499</td>\n",
       "      <td>3M_2022_10K</td>\n",
       "      <td>https://investors.3m.com/financials/sec-filing...</td>\n",
       "      <td>2022</td>\n",
       "      <td>domain-relevant</td>\n",
       "      <td>Is 3M a capital-intensive business based on FY...</td>\n",
       "      <td>No, the company is managing its CAPEX and Fixe...</td>\n",
       "      <td>3M Company and Subsidiaries\\n Consolidated Sta...</td>\n",
       "      <td>48,50,52</td>\n",
       "    </tr>\n",
       "    <tr>\n",
       "      <th>3</th>\n",
       "      <td>financebench_id_01226</td>\n",
       "      <td>3M_2022_10K</td>\n",
       "      <td>https://investors.3m.com/financials/sec-filing...</td>\n",
       "      <td>2022</td>\n",
       "      <td>domain-relevant</td>\n",
       "      <td>What drove operating margin change as of FY202...</td>\n",
       "      <td>Operating Margin for 3M in FY2022 has decrease...</td>\n",
       "      <td>SG&amp;A, measured as a percent of sales, increase...</td>\n",
       "      <td>27</td>\n",
       "    </tr>\n",
       "    <tr>\n",
       "      <th>4</th>\n",
       "      <td>financebench_id_01865</td>\n",
       "      <td>3M_2022_10K</td>\n",
       "      <td>https://investors.3m.com/financials/sec-filing...</td>\n",
       "      <td>2022</td>\n",
       "      <td>novel-generated</td>\n",
       "      <td>If we exclude the impact of M&amp;A, which segment...</td>\n",
       "      <td>The consumer segment shrunk by 0.9% organically.</td>\n",
       "      <td>Worldwide Sales Change\\nBy Business Segment Or...</td>\n",
       "      <td>25</td>\n",
       "    </tr>\n",
       "    <tr>\n",
       "      <th>...</th>\n",
       "      <td>...</td>\n",
       "      <td>...</td>\n",
       "      <td>...</td>\n",
       "      <td>...</td>\n",
       "      <td>...</td>\n",
       "      <td>...</td>\n",
       "      <td>...</td>\n",
       "      <td>...</td>\n",
       "      <td>...</td>\n",
       "    </tr>\n",
       "    <tr>\n",
       "      <th>145</th>\n",
       "      <td>financebench_id_00215</td>\n",
       "      <td>VERIZON_2022_10K</td>\n",
       "      <td>https://www.verizon.com/about/sites/default/fi...</td>\n",
       "      <td>2022</td>\n",
       "      <td>domain-relevant</td>\n",
       "      <td>Is Verizon a capital intensive business based ...</td>\n",
       "      <td>Yes. Verizon's capital intensity ratio was app...</td>\n",
       "      <td>Consolidated Balance Sheets \\nVerizon Communic...</td>\n",
       "      <td>56, 23</td>\n",
       "    </tr>\n",
       "    <tr>\n",
       "      <th>146</th>\n",
       "      <td>financebench_id_00566</td>\n",
       "      <td>VERIZON_2022_10K</td>\n",
       "      <td>https://www.verizon.com/about/sites/default/fi...</td>\n",
       "      <td>2022</td>\n",
       "      <td>domain-relevant</td>\n",
       "      <td>Has Verizon increased its debt on balance shee...</td>\n",
       "      <td>No. Verizon's debt decreased by $229 million.</td>\n",
       "      <td>At December 31, Maturities \\nInterest \\nRates ...</td>\n",
       "      <td>77</td>\n",
       "    </tr>\n",
       "    <tr>\n",
       "      <th>147</th>\n",
       "      <td>financebench_id_06247</td>\n",
       "      <td>WALMART_2018_10K</td>\n",
       "      <td>https://d18rn0p25nwr6d.cloudfront.net/CIK-0000...</td>\n",
       "      <td>2018</td>\n",
       "      <td>metrics-generated</td>\n",
       "      <td>What is FY2018 days payable outstanding (DPO) ...</td>\n",
       "      <td>42.69</td>\n",
       "      <td>Walmart Inc.\\nConsolidated Statements of Incom...</td>\n",
       "      <td>57,59</td>\n",
       "    </tr>\n",
       "    <tr>\n",
       "      <th>148</th>\n",
       "      <td>financebench_id_04784</td>\n",
       "      <td>WALMART_2019_10K</td>\n",
       "      <td>https://d18rn0p25nwr6d.cloudfront.net/CIK-0000...</td>\n",
       "      <td>2019</td>\n",
       "      <td>metrics-generated</td>\n",
       "      <td>Based on the information provided primarily in...</td>\n",
       "      <td>0.2%</td>\n",
       "      <td>Walmart�Inc.\\nConsolidated�Statements�of�Incom...</td>\n",
       "      <td>48</td>\n",
       "    </tr>\n",
       "    <tr>\n",
       "      <th>149</th>\n",
       "      <td>financebench_id_06741</td>\n",
       "      <td>WALMART_2020_10K</td>\n",
       "      <td>https://d18rn0p25nwr6d.cloudfront.net/CIK-0000...</td>\n",
       "      <td>2020</td>\n",
       "      <td>metrics-generated</td>\n",
       "      <td>What is the FY2018 - FY2020 3 year average una...</td>\n",
       "      <td>6.2%</td>\n",
       "      <td>Walmart Inc.\\nConsolidated Statements of Incom...</td>\n",
       "      <td>51,56</td>\n",
       "    </tr>\n",
       "  </tbody>\n",
       "</table>\n",
       "<p>150 rows × 9 columns</p>\n",
       "</div>"
      ],
      "text/plain": [
       "           financebench_id          doc_name  \\\n",
       "0    financebench_id_03029       3M_2018_10K   \n",
       "1    financebench_id_04672       3M_2018_10K   \n",
       "2    financebench_id_00499       3M_2022_10K   \n",
       "3    financebench_id_01226       3M_2022_10K   \n",
       "4    financebench_id_01865       3M_2022_10K   \n",
       "..                     ...               ...   \n",
       "145  financebench_id_00215  VERIZON_2022_10K   \n",
       "146  financebench_id_00566  VERIZON_2022_10K   \n",
       "147  financebench_id_06247  WALMART_2018_10K   \n",
       "148  financebench_id_04784  WALMART_2019_10K   \n",
       "149  financebench_id_06741  WALMART_2020_10K   \n",
       "\n",
       "                                              doc_link  doc_period  \\\n",
       "0    https://investors.3m.com/financials/sec-filing...        2018   \n",
       "1    https://investors.3m.com/financials/sec-filing...        2018   \n",
       "2    https://investors.3m.com/financials/sec-filing...        2022   \n",
       "3    https://investors.3m.com/financials/sec-filing...        2022   \n",
       "4    https://investors.3m.com/financials/sec-filing...        2022   \n",
       "..                                                 ...         ...   \n",
       "145  https://www.verizon.com/about/sites/default/fi...        2022   \n",
       "146  https://www.verizon.com/about/sites/default/fi...        2022   \n",
       "147  https://d18rn0p25nwr6d.cloudfront.net/CIK-0000...        2018   \n",
       "148  https://d18rn0p25nwr6d.cloudfront.net/CIK-0000...        2019   \n",
       "149  https://d18rn0p25nwr6d.cloudfront.net/CIK-0000...        2020   \n",
       "\n",
       "         question_type                                           question  \\\n",
       "0    metrics-generated  What is the FY2018 capital expenditure amount ...   \n",
       "1    metrics-generated  Assume that you are a public equities analyst....   \n",
       "2      domain-relevant  Is 3M a capital-intensive business based on FY...   \n",
       "3      domain-relevant  What drove operating margin change as of FY202...   \n",
       "4      novel-generated  If we exclude the impact of M&A, which segment...   \n",
       "..                 ...                                                ...   \n",
       "145    domain-relevant  Is Verizon a capital intensive business based ...   \n",
       "146    domain-relevant  Has Verizon increased its debt on balance shee...   \n",
       "147  metrics-generated  What is FY2018 days payable outstanding (DPO) ...   \n",
       "148  metrics-generated  Based on the information provided primarily in...   \n",
       "149  metrics-generated  What is the FY2018 - FY2020 3 year average una...   \n",
       "\n",
       "                                                answer  \\\n",
       "0                                             $1577.00   \n",
       "1                                                $8.70   \n",
       "2    No, the company is managing its CAPEX and Fixe...   \n",
       "3    Operating Margin for 3M in FY2022 has decrease...   \n",
       "4     The consumer segment shrunk by 0.9% organically.   \n",
       "..                                                 ...   \n",
       "145  Yes. Verizon's capital intensity ratio was app...   \n",
       "146      No. Verizon's debt decreased by $229 million.   \n",
       "147                                              42.69   \n",
       "148                                               0.2%   \n",
       "149                                               6.2%   \n",
       "\n",
       "                                         evidence_text page_number  \n",
       "0    Table of Contents \\n3M Company and Subsidiarie...          60  \n",
       "1    Table of Contents \\n3M Company and Subsidiarie...          58  \n",
       "2    3M Company and Subsidiaries\\n Consolidated Sta...    48,50,52  \n",
       "3    SG&A, measured as a percent of sales, increase...          27  \n",
       "4    Worldwide Sales Change\\nBy Business Segment Or...          25  \n",
       "..                                                 ...         ...  \n",
       "145  Consolidated Balance Sheets \\nVerizon Communic...      56, 23  \n",
       "146  At December 31, Maturities \\nInterest \\nRates ...          77  \n",
       "147  Walmart Inc.\\nConsolidated Statements of Incom...       57,59  \n",
       "148  Walmart�Inc.\\nConsolidated�Statements�of�Incom...          48  \n",
       "149  Walmart Inc.\\nConsolidated Statements of Incom...       51,56  \n",
       "\n",
       "[150 rows x 9 columns]"
      ]
     },
     "execution_count": 13,
     "metadata": {},
     "output_type": "execute_result"
    }
   ],
   "source": [
    "df"
   ]
  },
  {
   "cell_type": "code",
   "execution_count": 4,
   "metadata": {},
   "outputs": [],
   "source": [
    "filtered_df = df[df['doc_name'] == 'AMD_2015_10K']\n"
   ]
  },
  {
   "cell_type": "code",
   "execution_count": 5,
   "metadata": {},
   "outputs": [
    {
     "data": {
      "text/plain": [
       "30    4.2%\n",
       "Name: answer, dtype: object"
      ]
     },
     "execution_count": 5,
     "metadata": {},
     "output_type": "execute_result"
    }
   ],
   "source": [
    "filtered_df['answer']"
   ]
  },
  {
   "cell_type": "code",
   "execution_count": 6,
   "metadata": {},
   "outputs": [
    {
     "name": "stdout",
     "output_type": "stream",
     "text": [
      "['Answer the following question as if you are an equity research analyst and have lost internet connection so you do not have access to financial metric providers. According to the details clearly outlined within the P&L statement and the statement of cash flows, what is the FY2015 depreciation and amortization (D&A from cash flow statement) % margin for AMD?']\n"
     ]
    }
   ],
   "source": [
    "print(filtered_df['question'].to_list())"
   ]
  },
  {
   "cell_type": "markdown",
   "metadata": {},
   "source": [
    "- __non_pdf_files__ and __pdf_files__"
   ]
  },
  {
   "cell_type": "code",
   "execution_count": 8,
   "metadata": {},
   "outputs": [],
   "source": [
    "pdf_files_urls = []\n",
    "not_pdf_files_urls = []"
   ]
  },
  {
   "cell_type": "code",
   "execution_count": 9,
   "metadata": {},
   "outputs": [
    {
     "data": {
      "text/plain": [
       "[]"
      ]
     },
     "execution_count": 9,
     "metadata": {},
     "output_type": "execute_result"
    }
   ],
   "source": [
    "pdf_files_urls"
   ]
  },
  {
   "cell_type": "code",
   "execution_count": 10,
   "metadata": {},
   "outputs": [],
   "source": [
    "for link in df['doc_link'].dropna().unique():\n",
    "    if link.endswith('.pdf'):\n",
    "        pdf_files_urls.append(link)\n",
    "    else:\n",
    "        not_pdf_files_urls.append(link)"
   ]
  },
  {
   "cell_type": "markdown",
   "metadata": {},
   "source": [
    "- Try lock is code attempt to download\n",
    "- If download due to err then except trigger"
   ]
  },
  {
   "cell_type": "markdown",
   "metadata": {},
   "source": [
    "# Downloading not_pdf_files_url and download it as pdf"
   ]
  },
  {
   "cell_type": "code",
   "execution_count": 12,
   "metadata": {},
   "outputs": [],
   "source": [
    "import requests\n",
    "\n",
    "def download_pdf(url, save_path):\n",
    "    \"\"\"\n",
    "    Download a PDF from a given URL and save it to a specified path.\n",
    "    \"\"\"\n",
    "    try:\n",
    "        response = requests.get(url, stream=True)\n",
    "        response.raise_for_status()  # Raise an exception for HTTP errors\n",
    "\n",
    "        with open(save_path, 'wb') as file:\n",
    "            for chunk in response.iter_content(chunk_size=8192):\n",
    "                file.write(chunk)\n",
    "\n",
    "        print(f\"Downloaded: {save_path}\")\n",
    "    except Exception as e:\n",
    "        print(f\"Error downloading {url}: {e}\")\n",
    "\n",
    "\n"
   ]
  },
  {
   "cell_type": "markdown",
   "metadata": {},
   "source": [
    "- Manually download pdf for the 10Q or 10K for the fail download"
   ]
  },
  {
   "cell_type": "code",
   "execution_count": 13,
   "metadata": {},
   "outputs": [
    {
     "name": "stdout",
     "output_type": "stream",
     "text": [
      "Downloaded: financial_statements/32abe798-add2-4770-9c7d-4cd3a840ede2.pdf\n",
      "Error downloading https://www.adobe.com/pdf-page.html?pdfTarget=aHR0cHM6Ly93d3cuYWRvYmUuY29tL2NvbnRlbnQvZGFtL2NjL2VuL2ludmVzdG9yLXJlbGF0aW9ucy9wZGZzL0FEQkUtMTBLLUZZMTUtRklOQUwucGRm: [Errno 22] Invalid argument: 'financial_statements/pdf-page.html?pdfTarget=aHR0cHM6Ly93d3cuYWRvYmUuY29tL2NvbnRlbnQvZGFtL2NjL2VuL2ludmVzdG9yLXJlbGF0aW9ucy9wZGZzL0FEQkUtMTBLLUZZMTUtRklOQUwucGRm.pdf'\n",
      "Error downloading https://www.adobe.com/pdf-page.html?pdfTarget=aHR0cHM6Ly93d3cuYWRvYmUuY29tL2NvbnRlbnQvZGFtL2NjL2VuL2ludmVzdG9yLXJlbGF0aW9ucy9wZGZzL0FEQkUtMTBLLUZZMTYtRklOQUwucGRm: [Errno 22] Invalid argument: 'financial_statements/pdf-page.html?pdfTarget=aHR0cHM6Ly93d3cuYWRvYmUuY29tL2NvbnRlbnQvZGFtL2NjL2VuL2ludmVzdG9yLXJlbGF0aW9ucy9wZGZzL0FEQkUtMTBLLUZZMTYtRklOQUwucGRm.pdf'\n",
      "Error downloading https://www.adobe.com/pdf-page.html?pdfTarget=aHR0cHM6Ly93d3cuYWRvYmUuY29tL2NvbnRlbnQvZGFtL2NjL2VuL2ludmVzdG9yLXJlbGF0aW9ucy9wZGZzL0FEQkUtMTBLLUZZMTctRklOQUwucGRm: [Errno 22] Invalid argument: 'financial_statements/pdf-page.html?pdfTarget=aHR0cHM6Ly93d3cuYWRvYmUuY29tL2NvbnRlbnQvZGFtL2NjL2VuL2ludmVzdG9yLXJlbGF0aW9ucy9wZGZzL0FEQkUtMTBLLUZZMTctRklOQUwucGRm.pdf'\n",
      "Error downloading https://www.adobe.com/pdf-page.html?pdfTarget=aHR0cHM6Ly93d3cuYWRvYmUuY29tL2NvbnRlbnQvZGFtL2NjL2VuL2ludmVzdG9yLXJlbGF0aW9ucy9wZGZzL0FEQkUtMTBLLUZZMjItRklOQUwucGRm: [Errno 22] Invalid argument: 'financial_statements/pdf-page.html?pdfTarget=aHR0cHM6Ly93d3cuYWRvYmUuY29tL2NvbnRlbnQvZGFtL2NjL2VuL2ludmVzdG9yLXJlbGF0aW9ucy9wZGZzL0FEQkUtMTBLLUZZMjItRklOQUwucGRm.pdf'\n",
      "Downloaded: financial_statements/6120b3ac-d921-4d93-9e7a-c2685e4b74b0.pdf\n",
      "Downloaded: financial_statements/1ad2000b-8d76-4acd-8048-90b6fc17fee1.pdf\n",
      "Downloaded: financial_statements/9b012500-471a-4df9-93fc-6cee2b420678.pdf\n",
      "Downloaded: financial_statements/ca8c3ac2-15ab-4f8d-9693-f604d50be358.pdf\n",
      "Downloaded: financial_statements/fa9ff302-f93d-450a-a73a-2ac9fb67d2ee.pdf\n",
      "Downloaded: financial_statements/6626623f-0619-46dc-b7b6-57568124c517.pdf\n",
      "Downloaded: financial_statements/2d2e9a1f-a7bc-4c07-9e5e-77aa60be8f86.pdf\n",
      "Downloaded: financial_statements/51bf9a09-5811-4f36-a5e4-fccaf8bfffea.pdf\n",
      "Downloaded: financial_statements/9ea385e3-f89c-471a-a720-4dcda1279cec.pdf\n",
      "Downloaded: financial_statements/3e78cba6-f0c4-48d0-b931-fc6137744c87.pdf\n",
      "Downloaded: financial_statements/a779c4f1-d788-4890-83fb-633d198efe7e.pdf\n",
      "Downloaded: financial_statements/e2931fdb-9823-4130-b2a8-f6b8db0b15a9.pdf\n",
      "Downloaded: financial_statements/a5a1d988-8e28-4dc7-ac4e-e6a2abfd0310.pdf\n",
      "Downloaded: financial_statements/d051bdd6-c6d2-4814-826f-ece589b88d4c.pdf\n",
      "Downloaded: financial_statements/718629be-2463-4b54-bba3-5e0e776e7d0c.pdf\n",
      "Downloaded: financial_statements/bcd1012b-77b8-4ac0-8b28-5e0a7c686f4e.pdf\n",
      "Error downloading https://investors.pepsico.com/docs/default-source/investors/q1-2023/q1-2023-earnings-release_wfvmt94lzqbm92aw.pdf?sfvrsn=5db72450_4: [Errno 22] Invalid argument: 'financial_statements/q1-2023-earnings-release_wfvmt94lzqbm92aw.pdf?sfvrsn=5db72450_4.pdf'\n"
     ]
    }
   ],
   "source": [
    "for url in not_pdf_files_urls:\n",
    "    file_name = url.split(\"/\")[-1]  # Extract the filename from the URL\n",
    "    file_name = file_name + '.pdf'\n",
    "    save_path = f\"financial_statements/{file_name}\"  # Specify where to save the PDF\n",
    "    download_pdf(url, save_path)"
   ]
  },
  {
   "cell_type": "markdown",
   "metadata": {},
   "source": [
    " - pdf_files_urls"
   ]
  },
  {
   "cell_type": "code",
   "execution_count": 10,
   "metadata": {},
   "outputs": [
    {
     "name": "stdout",
     "output_type": "stream",
     "text": [
      "Downloaded: financial_statements\\0001558370-19-000470.pdf\n",
      "Downloaded: financial_statements\\0000066740-23-000014.pdf\n",
      "Downloaded: financial_statements\\0000066740-23-000058.pdf\n",
      "Downloaded: financial_statements\\3be55db1-bf7e-407a-8062-6a6b8d9dd2f5.pdf\n",
      "Downloaded: financial_statements\\02da2a86-7bb9-4bcb-95ae-4ce27ea5e3bc.pdf\n",
      "Downloaded: financial_statements\\4d39f579-19d8-4119-b087-ee618abf82d6.pdf\n",
      "Downloaded: financial_statements\\Annual%20report%20%5BSection%2013%20and%2015(d)%2C%20not%20S-K%20Item%20405%5D.pdf\n",
      "Downloaded: financial_statements\\Current%20report.pdf\n",
      "Downloaded: financial_statements\\Annual%20report%20%5BSection%2013%20and%2015(d)%2C%20not%20S-K%20Item%20405%5D.pdf\n",
      "Downloaded: financial_statements\\Quarterly%20report%20%5BSections%2013%20or%2015(d)%5D.pdf\n",
      "Downloaded: financial_statements\\Amcor_FY23_-_Press_Release_FINAL.pdf\n",
      "Downloaded: financial_statements\\0000002488-16-000111.pdf\n",
      "Downloaded: financial_statements\\0000002488-23-000047.pdf\n",
      "Downloaded: financial_statements\\AMEX-10K-4Q22.pdf\n",
      "Downloaded: financial_statements\\088387fd-7250-4370-80a7-dc5a30ea84ed.pdf\n",
      "Downloaded: financial_statements\\1228947b-ee48-4079-984b-7741727bbcea.pdf\n",
      "Downloaded: financial_statements\\ba508f4d-f3f5-4b6a-beba-e7bef231f5db.pdf\n",
      "Downloaded: financial_statements\\47c2227c-aa33-4fe8-b14c-5f77bc63857e.pdf\n",
      "Downloaded: financial_statements\\17bef9d1-6ef1-4a53-beb8-9c12b07a4a0e.pdf\n",
      "Downloaded: financial_statements\\a7d1c855-4d22-48e4-9d17-b5f5af923dbe.pdf\n",
      "Downloaded: financial_statements\\5e179976-086d-4c3c-af0c-85fda4b35b9d.pdf\n",
      "Downloaded: financial_statements\\1862b88f-4e6b-4251-be45-4833fc0a0126.pdf\n",
      "Downloaded: financial_statements\\c7b05bfa-5bb8-43b7-9580-9de362ef1e83.pdf\n",
      "Downloaded: financial_statements\\fdc164e4-475f-416e-ac75-acd03df4d646.pdf\n",
      "Downloaded: financial_statements\\c93682a4-8b3c-4251-a2ed-97c4e474a214.pdf\n",
      "Downloaded: financial_statements\\0000021344-18-000008.pdf\n",
      "Downloaded: financial_statements\\0000021344-22-000009.pdf\n",
      "Downloaded: financial_statements\\0000021344-23-000011.pdf\n",
      "Downloaded: financial_statements\\7cdeac7f-277e-4258-ad8e-4ba0f655f368.pdf\n",
      "Downloaded: financial_statements\\f9519502-38b3-4e0b-94fa-b6a7138812a4.pdf\n",
      "Downloaded: financial_statements\\eb24002c-e050-45eb-806a-15264d59131c.pdf\n",
      "Downloaded: financial_statements\\534964a5-44c9-47b3-b3c0-7620830fad6c.pdf\n",
      "Downloaded: financial_statements\\317e65d9-41c0-4975-b3e1-30f7f2616049.pdf\n",
      "Downloaded: financial_statements\\e4b97418-e95e-4391-b2d9-8c604c4950ac.pdf\n",
      "Downloaded: financial_statements\\0fd13703-8eed-4b60-b46c-b2b3199887dc.pdf\n",
      "Downloaded: financial_statements\\F20_10K_Final_07.01.2020.pdf\n",
      "Downloaded: financial_statements\\e031af8c-f4fd-4350-9275-d3dbbec95c8c.pdf\n",
      "Downloaded: financial_statements\\1q21-10-q.pdf\n",
      "Downloaded: financial_statements\\corp-10k-2022.pdf\n",
      "Downloaded: financial_statements\\corp-q2-2022.pdf\n",
      "Downloaded: financial_statements\\CORP-Q2-2023.pdf\n",
      "Downloaded: financial_statements\\d1b055df-9e21-4013-a311-67c98e2eb16a.pdf\n",
      "Downloaded: financial_statements\\03692647-6ccc-4177-8ce9-13ac35692254.pdf\n",
      "Downloaded: financial_statements\\5e924681-e9c4-4bfb-95db-ef7c484303e7.pdf\n",
      "Error downloading https://s22.q4cdn.com/513010314/files/doc_financials/2022/q4/r/MGM-Resorts-Exhibit-99.1.pdf: 451 Client Error:  for url: https://s22.q4cdn.com/513010314/files/doc_financials/2022/q4/r/MGM-Resorts-Exhibit-99.1.pdf\n",
      "Downloaded: financial_statements\\e20e899f-c320-44ee-b5f9-c219e4585f49.pdf\n",
      "Downloaded: financial_statements\\7c37ae9c-ace5-4ad5-ab02-6b5e82c5ff8f.pdf\n",
      "Downloaded: financial_statements\\105c44c4-a362-4ed5-b606-78f512ff277c.pdf\n",
      "Downloaded: financial_statements\\3489b854-fa60-41a7-b8c3-8dc6b67534c0.pdf\n",
      "Downloaded: financial_statements\\76b92d86-75b3-4fa9-a754-e83395d63a46.pdf\n",
      "Downloaded: financial_statements\\702c5a98-3399-4049-aa9b-a159dd44826c.pdf\n",
      "Downloaded: financial_statements\\414759-1-_5_Nike-NPS-Combo_Form-10-K_WR.pdf\n",
      "Downloaded: financial_statements\\b562e712-8266-493c-8ae8-e28f93404d2f.pdf\n",
      "Downloaded: financial_statements\\fa35a206-5bac-4a7a-9571-1e194b4436b5.pdf\n",
      "Downloaded: financial_statements\\c7518e4a-3aaf-4987-ae85-27460d0f526c.pdf\n",
      "Downloaded: financial_statements\\0001558370-23-004581.pdf\n",
      "Downloaded: financial_statements\\2023-03-09_Ulta_Beauty_Announces_Fourth_Quarter_Fiscal_2022_164.pdf\n",
      "Downloaded: financial_statements\\2021-Annual-Report-on-Form-10-K.pdf\n",
      "Downloaded: financial_statements\\2022-Annual-Report-on-Form-10K.pdf\n",
      "Downloaded: financial_statements\\a25e7acb-aa07-49f3-8c0c-0c69e5a8d372.pdf\n",
      "Downloaded: financial_statements\\b23b2787-eb44-4e0b-82bd-fca01f140a3e.pdf\n",
      "Downloaded: financial_statements\\af5415d9-0e07-4ba1-a6cc-bb3058a7f4e8.pdf\n"
     ]
    }
   ],
   "source": [
    "for url in pdf_files_urls:\n",
    "    file_name = url.split(\"/\")[-1]  # Extract the filename from the URL\n",
    "    save_path = os.path.join(\"financial_statements\", file_name)  # Specify where to save the PDF\n",
    "    download_pdf(url, save_path)"
   ]
  }
 ],
 "metadata": {
  "kernelspec": {
   "display_name": "TextClassification",
   "language": "python",
   "name": "python3"
  },
  "language_info": {
   "codemirror_mode": {
    "name": "ipython",
    "version": 3
   },
   "file_extension": ".py",
   "mimetype": "text/x-python",
   "name": "python",
   "nbconvert_exporter": "python",
   "pygments_lexer": "ipython3",
   "version": "3.10.13"
  }
 },
 "nbformat": 4,
 "nbformat_minor": 2
}
