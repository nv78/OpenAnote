{
 "cells": [
  {
   "cell_type": "code",
   "execution_count": 25,
   "metadata": {},
   "outputs": [],
   "source": [
    "import requests\n",
    "import PyPDF2\n",
    "import pandas as pd"
   ]
  },
  {
   "cell_type": "code",
   "execution_count": 26,
   "metadata": {},
   "outputs": [],
   "source": [
    "from datasets import load_dataset\n",
    "dataset = load_dataset(\"PatronusAI/financebench\")"
   ]
  },
  {
   "cell_type": "code",
   "execution_count": 27,
   "metadata": {},
   "outputs": [],
   "source": [
    "df = pd.DataFrame(dataset['train'])"
   ]
  },
  {
   "cell_type": "code",
   "execution_count": 28,
   "metadata": {},
   "outputs": [
    {
     "data": {
      "text/plain": [
       "'https://investors.3m.com/financials/sec-filings/content/0001558370-19-000470/0001558370-19-000470.pdf'"
      ]
     },
     "execution_count": 28,
     "metadata": {},
     "output_type": "execute_result"
    }
   ],
   "source": [
    "df['doc_link'][0]"
   ]
  },
  {
   "cell_type": "markdown",
   "metadata": {},
   "source": [
    "# I need to create a mapping from file paths to the correct instances(rows) so that I can perform testing."
   ]
  },
  {
   "cell_type": "code",
   "execution_count": 5,
   "metadata": {},
   "outputs": [],
   "source": [
    "urls = df['doc_link']"
   ]
  },
  {
   "cell_type": "code",
   "execution_count": 6,
   "metadata": {},
   "outputs": [
    {
     "data": {
      "text/plain": [
       "0      https://investors.3m.com/financials/sec-filing...\n",
       "1      https://investors.3m.com/financials/sec-filing...\n",
       "2      https://investors.3m.com/financials/sec-filing...\n",
       "3      https://investors.3m.com/financials/sec-filing...\n",
       "4      https://investors.3m.com/financials/sec-filing...\n",
       "                             ...                        \n",
       "145    https://www.verizon.com/about/sites/default/fi...\n",
       "146    https://www.verizon.com/about/sites/default/fi...\n",
       "147    https://d18rn0p25nwr6d.cloudfront.net/CIK-0000...\n",
       "148    https://d18rn0p25nwr6d.cloudfront.net/CIK-0000...\n",
       "149    https://d18rn0p25nwr6d.cloudfront.net/CIK-0000...\n",
       "Name: doc_link, Length: 150, dtype: object"
      ]
     },
     "execution_count": 6,
     "metadata": {},
     "output_type": "execute_result"
    }
   ],
   "source": [
    "urls"
   ]
  },
  {
   "cell_type": "code",
   "execution_count": 7,
   "metadata": {},
   "outputs": [],
   "source": [
    "paths = []\n",
    "for url in urls:\n",
    "    if url.endswith('.pdf'):\n",
    "        file_name = url.split(\"/\")[-1]\n",
    "        save_path = f\"financial_statements/{file_name}\" \n",
    "        paths.append(save_path)\n",
    "    else: \n",
    "        file_name = url.split(\"/\")[-1]\n",
    "        file_name = file_name + '.pdf'\n",
    "        save_path = f\"financial_statements/{file_name}\" \n",
    "        paths.append(save_path)\n",
    "\n"
   ]
  },
  {
   "cell_type": "code",
   "execution_count": 8,
   "metadata": {},
   "outputs": [],
   "source": [
    "df['financial_pdf_path'] = paths #Creating column "
   ]
  },
  {
   "cell_type": "code",
   "execution_count": 9,
   "metadata": {},
   "outputs": [
    {
     "data": {
      "text/plain": [
       "0          financial_statements/0001558370-19-000470.pdf\n",
       "1          financial_statements/0001558370-19-000470.pdf\n",
       "2          financial_statements/0000066740-23-000014.pdf\n",
       "3          financial_statements/0000066740-23-000014.pdf\n",
       "4          financial_statements/0000066740-23-000014.pdf\n",
       "                             ...                        \n",
       "145    financial_statements/2022-Annual-Report-on-For...\n",
       "146    financial_statements/2022-Annual-Report-on-For...\n",
       "147    financial_statements/a25e7acb-aa07-49f3-8c0c-0...\n",
       "148    financial_statements/b23b2787-eb44-4e0b-82bd-f...\n",
       "149    financial_statements/af5415d9-0e07-4ba1-a6cc-b...\n",
       "Name: financial_pdf_path, Length: 150, dtype: object"
      ]
     },
     "execution_count": 9,
     "metadata": {},
     "output_type": "execute_result"
    }
   ],
   "source": [
    "df['financial_pdf_path']"
   ]
  },
  {
   "cell_type": "markdown",
   "metadata": {},
   "source": [
    "# Filtering these incorrect rows"
   ]
  },
  {
   "cell_type": "code",
   "execution_count": 10,
   "metadata": {},
   "outputs": [
    {
     "data": {
      "text/html": [
       "<div>\n",
       "<style scoped>\n",
       "    .dataframe tbody tr th:only-of-type {\n",
       "        vertical-align: middle;\n",
       "    }\n",
       "\n",
       "    .dataframe tbody tr th {\n",
       "        vertical-align: top;\n",
       "    }\n",
       "\n",
       "    .dataframe thead th {\n",
       "        text-align: right;\n",
       "    }\n",
       "</style>\n",
       "<table border=\"1\" class=\"dataframe\">\n",
       "  <thead>\n",
       "    <tr style=\"text-align: right;\">\n",
       "      <th></th>\n",
       "      <th>financebench_id</th>\n",
       "      <th>doc_name</th>\n",
       "      <th>doc_link</th>\n",
       "      <th>doc_period</th>\n",
       "      <th>question_type</th>\n",
       "      <th>question</th>\n",
       "      <th>answer</th>\n",
       "      <th>evidence_text</th>\n",
       "      <th>page_number</th>\n",
       "      <th>financial_pdf_path</th>\n",
       "    </tr>\n",
       "  </thead>\n",
       "  <tbody>\n",
       "    <tr>\n",
       "      <th>10</th>\n",
       "      <td>financebench_id_04735</td>\n",
       "      <td>ADOBE_2015_10K</td>\n",
       "      <td>https://www.adobe.com/pdf-page.html?pdfTarget=...</td>\n",
       "      <td>2015</td>\n",
       "      <td>metrics-generated</td>\n",
       "      <td>You are an investment banker and your only res...</td>\n",
       "      <td>0.66</td>\n",
       "      <td>59\\n ADOBE SYSTEMS INCORPORATED\\n CONSOLIDATED...</td>\n",
       "      <td>59,63</td>\n",
       "      <td>financial_statements/pdf-page.html?pdfTarget=a...</td>\n",
       "    </tr>\n",
       "    <tr>\n",
       "      <th>11</th>\n",
       "      <td>financebench_id_07507</td>\n",
       "      <td>ADOBE_2016_10K</td>\n",
       "      <td>https://www.adobe.com/pdf-page.html?pdfTarget=...</td>\n",
       "      <td>2016</td>\n",
       "      <td>metrics-generated</td>\n",
       "      <td>What is Adobe's year-over-year change in unadj...</td>\n",
       "      <td>65.4%</td>\n",
       "      <td>Table of Contents\\n62\\nADOBE SYSTEMS INCORPORA...</td>\n",
       "      <td>62</td>\n",
       "      <td>financial_statements/pdf-page.html?pdfTarget=a...</td>\n",
       "    </tr>\n",
       "    <tr>\n",
       "      <th>12</th>\n",
       "      <td>financebench_id_03856</td>\n",
       "      <td>ADOBE_2017_10K</td>\n",
       "      <td>https://www.adobe.com/pdf-page.html?pdfTarget=...</td>\n",
       "      <td>2017</td>\n",
       "      <td>metrics-generated</td>\n",
       "      <td>What is the FY2017 operating cash flow ratio f...</td>\n",
       "      <td>0.83</td>\n",
       "      <td>Table of Contents\\n57\\n ADOBE SYSTEMS INCORPOR...</td>\n",
       "      <td>57,61</td>\n",
       "      <td>financial_statements/pdf-page.html?pdfTarget=a...</td>\n",
       "    </tr>\n",
       "    <tr>\n",
       "      <th>13</th>\n",
       "      <td>financebench_id_00438</td>\n",
       "      <td>ADOBE_2022_10K</td>\n",
       "      <td>https://www.adobe.com/pdf-page.html?pdfTarget=...</td>\n",
       "      <td>2022</td>\n",
       "      <td>domain-relevant</td>\n",
       "      <td>Does Adobe have an improving operating margin ...</td>\n",
       "      <td>No the operating margins of Adobe have recentl...</td>\n",
       "      <td>ADOBE INC.\\nCONSOLIDATED STATEMENTS OF INCOME\\...</td>\n",
       "      <td>54</td>\n",
       "      <td>financial_statements/pdf-page.html?pdfTarget=a...</td>\n",
       "    </tr>\n",
       "    <tr>\n",
       "      <th>14</th>\n",
       "      <td>financebench_id_00591</td>\n",
       "      <td>ADOBE_2022_10K</td>\n",
       "      <td>https://www.adobe.com/pdf-page.html?pdfTarget=...</td>\n",
       "      <td>2022</td>\n",
       "      <td>novel-generated</td>\n",
       "      <td>Does Adobe have an improving Free cashflow con...</td>\n",
       "      <td>Yes, the FCF conversion (using net income as t...</td>\n",
       "      <td>ADOBE INC.\\n CONSOLIDATED STATEMENTS OF CASH F...</td>\n",
       "      <td>57</td>\n",
       "      <td>financial_statements/pdf-page.html?pdfTarget=a...</td>\n",
       "    </tr>\n",
       "  </tbody>\n",
       "</table>\n",
       "</div>"
      ],
      "text/plain": [
       "          financebench_id        doc_name  \\\n",
       "10  financebench_id_04735  ADOBE_2015_10K   \n",
       "11  financebench_id_07507  ADOBE_2016_10K   \n",
       "12  financebench_id_03856  ADOBE_2017_10K   \n",
       "13  financebench_id_00438  ADOBE_2022_10K   \n",
       "14  financebench_id_00591  ADOBE_2022_10K   \n",
       "\n",
       "                                             doc_link  doc_period  \\\n",
       "10  https://www.adobe.com/pdf-page.html?pdfTarget=...        2015   \n",
       "11  https://www.adobe.com/pdf-page.html?pdfTarget=...        2016   \n",
       "12  https://www.adobe.com/pdf-page.html?pdfTarget=...        2017   \n",
       "13  https://www.adobe.com/pdf-page.html?pdfTarget=...        2022   \n",
       "14  https://www.adobe.com/pdf-page.html?pdfTarget=...        2022   \n",
       "\n",
       "        question_type                                           question  \\\n",
       "10  metrics-generated  You are an investment banker and your only res...   \n",
       "11  metrics-generated  What is Adobe's year-over-year change in unadj...   \n",
       "12  metrics-generated  What is the FY2017 operating cash flow ratio f...   \n",
       "13    domain-relevant  Does Adobe have an improving operating margin ...   \n",
       "14    novel-generated  Does Adobe have an improving Free cashflow con...   \n",
       "\n",
       "                                               answer  \\\n",
       "10                                               0.66   \n",
       "11                                              65.4%   \n",
       "12                                               0.83   \n",
       "13  No the operating margins of Adobe have recentl...   \n",
       "14  Yes, the FCF conversion (using net income as t...   \n",
       "\n",
       "                                        evidence_text page_number  \\\n",
       "10  59\\n ADOBE SYSTEMS INCORPORATED\\n CONSOLIDATED...       59,63   \n",
       "11  Table of Contents\\n62\\nADOBE SYSTEMS INCORPORA...          62   \n",
       "12  Table of Contents\\n57\\n ADOBE SYSTEMS INCORPOR...       57,61   \n",
       "13  ADOBE INC.\\nCONSOLIDATED STATEMENTS OF INCOME\\...          54   \n",
       "14  ADOBE INC.\\n CONSOLIDATED STATEMENTS OF CASH F...          57   \n",
       "\n",
       "                                   financial_pdf_path  \n",
       "10  financial_statements/pdf-page.html?pdfTarget=a...  \n",
       "11  financial_statements/pdf-page.html?pdfTarget=a...  \n",
       "12  financial_statements/pdf-page.html?pdfTarget=a...  \n",
       "13  financial_statements/pdf-page.html?pdfTarget=a...  \n",
       "14  financial_statements/pdf-page.html?pdfTarget=a...  "
      ]
     },
     "execution_count": 10,
     "metadata": {},
     "output_type": "execute_result"
    }
   ],
   "source": [
    "df[df['financial_pdf_path'].str.contains('pdfTarget')]\n"
   ]
  },
  {
   "cell_type": "code",
   "execution_count": 11,
   "metadata": {},
   "outputs": [
    {
     "data": {
      "text/html": [
       "<div>\n",
       "<style scoped>\n",
       "    .dataframe tbody tr th:only-of-type {\n",
       "        vertical-align: middle;\n",
       "    }\n",
       "\n",
       "    .dataframe tbody tr th {\n",
       "        vertical-align: top;\n",
       "    }\n",
       "\n",
       "    .dataframe thead th {\n",
       "        text-align: right;\n",
       "    }\n",
       "</style>\n",
       "<table border=\"1\" class=\"dataframe\">\n",
       "  <thead>\n",
       "    <tr style=\"text-align: right;\">\n",
       "      <th></th>\n",
       "      <th>financebench_id</th>\n",
       "      <th>doc_name</th>\n",
       "      <th>doc_link</th>\n",
       "      <th>doc_period</th>\n",
       "      <th>question_type</th>\n",
       "      <th>question</th>\n",
       "      <th>answer</th>\n",
       "      <th>evidence_text</th>\n",
       "      <th>page_number</th>\n",
       "      <th>financial_pdf_path</th>\n",
       "    </tr>\n",
       "  </thead>\n",
       "  <tbody>\n",
       "    <tr>\n",
       "      <th>128</th>\n",
       "      <td>financebench_id_01474</td>\n",
       "      <td>PEPSICO_2023Q1_EARNINGS</td>\n",
       "      <td>https://investors.pepsico.com/docs/default-sou...</td>\n",
       "      <td>2023</td>\n",
       "      <td>novel-generated</td>\n",
       "      <td>As of FY2023Q1, why did Pepsico raise full yea...</td>\n",
       "      <td>Pepsico experienced a strong start to FY2023.</td>\n",
       "      <td>“We are very pleased with our performance and ...</td>\n",
       "      <td>1</td>\n",
       "      <td>financial_statements/q1-2023-earnings-release_...</td>\n",
       "    </tr>\n",
       "    <tr>\n",
       "      <th>129</th>\n",
       "      <td>financebench_id_01476</td>\n",
       "      <td>PEPSICO_2023Q1_EARNINGS</td>\n",
       "      <td>https://investors.pepsico.com/docs/default-sou...</td>\n",
       "      <td>2023</td>\n",
       "      <td>novel-generated</td>\n",
       "      <td>As of FY2023Q1, by how many percentage points ...</td>\n",
       "      <td>Pepsico raised full year guidance in respect o...</td>\n",
       "      <td>“We are very pleased with our performance and ...</td>\n",
       "      <td>1</td>\n",
       "      <td>financial_statements/q1-2023-earnings-release_...</td>\n",
       "    </tr>\n",
       "  </tbody>\n",
       "</table>\n",
       "</div>"
      ],
      "text/plain": [
       "           financebench_id                 doc_name  \\\n",
       "128  financebench_id_01474  PEPSICO_2023Q1_EARNINGS   \n",
       "129  financebench_id_01476  PEPSICO_2023Q1_EARNINGS   \n",
       "\n",
       "                                              doc_link  doc_period  \\\n",
       "128  https://investors.pepsico.com/docs/default-sou...        2023   \n",
       "129  https://investors.pepsico.com/docs/default-sou...        2023   \n",
       "\n",
       "       question_type                                           question  \\\n",
       "128  novel-generated  As of FY2023Q1, why did Pepsico raise full yea...   \n",
       "129  novel-generated  As of FY2023Q1, by how many percentage points ...   \n",
       "\n",
       "                                                answer  \\\n",
       "128      Pepsico experienced a strong start to FY2023.   \n",
       "129  Pepsico raised full year guidance in respect o...   \n",
       "\n",
       "                                         evidence_text page_number  \\\n",
       "128  “We are very pleased with our performance and ...           1   \n",
       "129  “We are very pleased with our performance and ...           1   \n",
       "\n",
       "                                    financial_pdf_path  \n",
       "128  financial_statements/q1-2023-earnings-release_...  \n",
       "129  financial_statements/q1-2023-earnings-release_...  "
      ]
     },
     "execution_count": 11,
     "metadata": {},
     "output_type": "execute_result"
    }
   ],
   "source": [
    "df[df['financial_pdf_path'].str.contains('q1-2023-earning')]\n"
   ]
  },
  {
   "cell_type": "markdown",
   "metadata": {},
   "source": [
    "# Making changes for these"
   ]
  },
  {
   "cell_type": "code",
   "execution_count": 12,
   "metadata": {},
   "outputs": [],
   "source": [
    "condition1 = df['financial_pdf_path'].str.contains('pdfTarget', case=False, na=False)\n"
   ]
  },
  {
   "cell_type": "code",
   "execution_count": 13,
   "metadata": {},
   "outputs": [],
   "source": [
    "condition2 = df['financial_pdf_path'].str.contains('q1-2023-earning', case=False, na=False)\n"
   ]
  },
  {
   "cell_type": "code",
   "execution_count": 14,
   "metadata": {},
   "outputs": [],
   "source": [
    "df.loc[condition1, 'financial_pdf_path'] = 'financial_statements/ADBE-10K-FY16-FINAL.pdf'\n",
    "df.loc[condition2, 'financial_pdf_path'] = 'financial_statements/q1-2023-earnings-release_wfvmt94lzqbm92aw.pdf'"
   ]
  },
  {
   "cell_type": "code",
   "execution_count": 15,
   "metadata": {},
   "outputs": [
    {
     "data": {
      "text/plain": [
       "0          financial_statements/0001558370-19-000470.pdf\n",
       "1          financial_statements/0001558370-19-000470.pdf\n",
       "2          financial_statements/0000066740-23-000014.pdf\n",
       "3          financial_statements/0000066740-23-000014.pdf\n",
       "4          financial_statements/0000066740-23-000014.pdf\n",
       "                             ...                        \n",
       "145    financial_statements/2022-Annual-Report-on-For...\n",
       "146    financial_statements/2022-Annual-Report-on-For...\n",
       "147    financial_statements/a25e7acb-aa07-49f3-8c0c-0...\n",
       "148    financial_statements/b23b2787-eb44-4e0b-82bd-f...\n",
       "149    financial_statements/af5415d9-0e07-4ba1-a6cc-b...\n",
       "Name: financial_pdf_path, Length: 150, dtype: object"
      ]
     },
     "execution_count": 15,
     "metadata": {},
     "output_type": "execute_result"
    }
   ],
   "source": [
    "df['financial_pdf_path']"
   ]
  },
  {
   "cell_type": "code",
   "execution_count": 16,
   "metadata": {},
   "outputs": [
    {
     "data": {
      "text/plain": [
       "0      False\n",
       "1      False\n",
       "2      False\n",
       "3      False\n",
       "4      False\n",
       "       ...  \n",
       "145    False\n",
       "146    False\n",
       "147    False\n",
       "148    False\n",
       "149    False\n",
       "Name: financial_pdf_path, Length: 150, dtype: bool"
      ]
     },
     "execution_count": 16,
     "metadata": {},
     "output_type": "execute_result"
    }
   ],
   "source": [
    "condition2"
   ]
  },
  {
   "cell_type": "markdown",
   "metadata": {},
   "source": [
    "# Save to csv"
   ]
  },
  {
   "cell_type": "code",
   "execution_count": 17,
   "metadata": {},
   "outputs": [],
   "source": [
    "df.to_csv('train.csv',index=False)"
   ]
  },
  {
   "cell_type": "code",
   "execution_count": 18,
   "metadata": {},
   "outputs": [
    {
     "data": {
      "text/plain": [
       "'https://s22.q4cdn.com/513010314/files/doc_financials/2022/q4/r/MGM-Resorts-Exhibit-99.1.pdf'"
      ]
     },
     "execution_count": 18,
     "metadata": {},
     "output_type": "execute_result"
    }
   ],
   "source": [
    "df['doc_link'].iloc[106]"
   ]
  },
  {
   "cell_type": "code",
   "execution_count": 19,
   "metadata": {},
   "outputs": [],
   "source": [
    "df.loc[106, 'financial_pdf_path'] = \"financial_statements/MGM-Resorts-Exhibit-99.1.pdf\""
   ]
  },
  {
   "cell_type": "code",
   "execution_count": 20,
   "metadata": {},
   "outputs": [
    {
     "data": {
      "text/plain": [
       "financebench_id                                   financebench_id_00382\n",
       "doc_name                                     MGMRESORTS_2022Q4_EARNINGS\n",
       "doc_link              https://s22.q4cdn.com/513010314/files/doc_fina...\n",
       "doc_period                                                         2022\n",
       "question_type                                           novel-generated\n",
       "question              Which region had the Highest EBITDAR Contribut...\n",
       "answer                Las Vegas resorts contributed ~90% of company ...\n",
       "evidence_text         dited)\\nThree months ended Twelve months ended...\n",
       "page_number                                                          13\n",
       "financial_pdf_path    financial_statements/MGM-Resorts-Exhibit-99.1.pdf\n",
       "Name: 106, dtype: object"
      ]
     },
     "execution_count": 20,
     "metadata": {},
     "output_type": "execute_result"
    }
   ],
   "source": [
    "df.loc[106]"
   ]
  },
  {
   "cell_type": "code",
   "execution_count": 24,
   "metadata": {},
   "outputs": [
    {
     "data": {
      "text/plain": [
       "(0          financial_statements/0001558370-19-000470.pdf\n",
       " 1          financial_statements/0001558370-19-000470.pdf\n",
       " 2          financial_statements/0000066740-23-000014.pdf\n",
       " 3          financial_statements/0000066740-23-000014.pdf\n",
       " 4          financial_statements/0000066740-23-000014.pdf\n",
       "                              ...                        \n",
       " 145    financial_statements/2022-Annual-Report-on-For...\n",
       " 146    financial_statements/2022-Annual-Report-on-For...\n",
       " 147    financial_statements/a25e7acb-aa07-49f3-8c0c-0...\n",
       " 148    financial_statements/b23b2787-eb44-4e0b-82bd-f...\n",
       " 149    financial_statements/af5415d9-0e07-4ba1-a6cc-b...\n",
       " Name: financial_pdf_path, Length: 150, dtype: object,\n",
       " 0      https://investors.3m.com/financials/sec-filing...\n",
       " 1      https://investors.3m.com/financials/sec-filing...\n",
       " 2      https://investors.3m.com/financials/sec-filing...\n",
       " 3      https://investors.3m.com/financials/sec-filing...\n",
       " 4      https://investors.3m.com/financials/sec-filing...\n",
       "                              ...                        \n",
       " 145    https://www.verizon.com/about/sites/default/fi...\n",
       " 146    https://www.verizon.com/about/sites/default/fi...\n",
       " 147    https://d18rn0p25nwr6d.cloudfront.net/CIK-0000...\n",
       " 148    https://d18rn0p25nwr6d.cloudfront.net/CIK-0000...\n",
       " 149    https://d18rn0p25nwr6d.cloudfront.net/CIK-0000...\n",
       " Name: doc_link, Length: 150, dtype: object)"
      ]
     },
     "execution_count": 24,
     "metadata": {},
     "output_type": "execute_result"
    }
   ],
   "source": [
    "df['financial_pdf_path'], df['doc_link']"
   ]
  }
 ],
 "metadata": {
  "kernelspec": {
   "display_name": "Anote_AI",
   "language": "python",
   "name": "python3"
  },
  "language_info": {
   "codemirror_mode": {
    "name": "ipython",
    "version": 3
   },
   "file_extension": ".py",
   "mimetype": "text/x-python",
   "name": "python",
   "nbconvert_exporter": "python",
   "pygments_lexer": "ipython3",
   "version": "3.10.13"
  }
 },
 "nbformat": 4,
 "nbformat_minor": 2
}
