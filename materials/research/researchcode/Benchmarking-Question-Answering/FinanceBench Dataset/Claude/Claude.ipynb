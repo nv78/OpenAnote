{
  "cells": [
    {
      "cell_type": "code",
      "execution_count": null,
      "metadata": {
        "colab": {
          "base_uri": "https://localhost:8080/"
        },
        "id": "AJLkxwUvdAb5",
        "outputId": "9c361499-855c-4567-c749-8fdedd71ade7"
      },
      "outputs": [],
      "source": [
        "!pip install anthropic\n",
        "!pip install datasets"
      ]
    },
    {
      "cell_type": "code",
      "execution_count": null,
      "metadata": {
        "colab": {
          "base_uri": "https://localhost:8080/",
          "height": 512
        },
        "id": "4AikifGsc5ZI",
        "outputId": "95fa7bb3-c0c7-4a88-8c90-dde0a0406789"
      },
      "outputs": [],
      "source": [
        "import pandas as pd\n",
        "import anthropic\n",
        "from anthropic import Anthropic, HUMAN_PROMPT, AI_PROMPT\n",
        "\n"
      ]
    },
    {
      "cell_type": "code",
      "execution_count": null,
      "metadata": {
        "id": "wh1KDDe5eFnr"
      },
      "outputs": [],
      "source": [
        "from datasets import load_dataset\n",
        "\n",
        "dataset = load_dataset(\"PatronusAI/financebench\")\n",
        "path_to_csv_dataset = \"financebench_sample_150.csv\"\n",
        "claude_key = \"Enter API Key\""
      ]
    },
    {
      "cell_type": "code",
      "execution_count": null,
      "metadata": {
        "id": "VEseKLkMiE15"
      },
      "outputs": [],
      "source": [
        "df = pd.DataFrame(dataset['train'])"
      ]
    },
    {
      "cell_type": "code",
      "execution_count": null,
      "metadata": {
        "colab": {
          "base_uri": "https://localhost:8080/"
        },
        "id": "K-2_drSdliRy",
        "outputId": "a1c4bad0-72f4-4e27-d112-c6e65d5993b7"
      },
      "outputs": [],
      "source": [
        "df['evidence_text']"
      ]
    },
    {
      "cell_type": "code",
      "execution_count": null,
      "metadata": {
        "id": "OQtSWnkliwj_"
      },
      "outputs": [],
      "source": [
        "examples = [ f\"<answer> {row['answer']} </answer>\" for idx, row in df.iloc[:50].iterrows() ]\n"
      ]
    },
    {
      "cell_type": "code",
      "execution_count": null,
      "metadata": {
        "colab": {
          "base_uri": "https://localhost:8080/"
        },
        "id": "ESDcqW38z-b5",
        "outputId": "0f2daeec-fbab-4443-80bd-7bee9fd669ee"
      },
      "outputs": [],
      "source": [
        "examples"
      ]
    },
    {
      "cell_type": "code",
      "execution_count": null,
      "metadata": {
        "id": "O32T74nDsOFh"
      },
      "outputs": [],
      "source": [
        "\n",
        "\n",
        "anthropic = Anthropic(\n",
        "    # defaults to os.environ.get(\"ANTHROPIC_API_KEY\")\n",
        "    api_key=claude_key,\n",
        ")\n"
      ]
    },
    {
      "cell_type": "code",
      "execution_count": null,
      "metadata": {
        "colab": {
          "base_uri": "https://localhost:8080/"
        },
        "id": "RhHGRoKwiE7l",
        "outputId": "cf5659f6-793a-4a10-b7a5-14e78bbc799d"
      },
      "outputs": [],
      "source": [
        "syntheses_with_10_labels = []\n",
        "\n",
        "for idx, row in df.iterrows():\n",
        "    question = row['question']\n",
        "    evidence_text = row['evidence_text']\n",
        "    completion = anthropic.completions.create(\n",
        "\n",
        "      model=\"claude-2\",\n",
        "      max_tokens_to_sample=700,\n",
        "      prompt = (\n",
        "        f\"{HUMAN_PROMPT} \"\n",
        "        f\"You are an accurate chatbot specialized in responding to queries about 10-K documents. Please only respond in the manner demonstrated by the following examples. If an explanation wasn't ask, refrain from providing one. \"\n",
        "        f\"Based on the following examples: {examples[:10]}, please provide your answer in the same format. \"\n",
        "        f\"please address the question: {question}. \"\n",
        "        f\"Consider the provided text as evidence: {evidence_text}. \"\n",
        "        f\"{AI_PROMPT}\")\n",
        "    )\n",
        "\n",
        "    print(completion.completion)\n",
        "    syntheses_with_10_labels.append(completion.completion)\n",
        "\n",
        "\n",
        "\n"
      ]
    },
    {
      "cell_type": "code",
      "execution_count": null,
      "metadata": {
        "colab": {
          "base_uri": "https://localhost:8080/"
        },
        "id": "ppVEDVup9KRO",
        "outputId": "6e840f13-1358-4a31-9440-c6acb2f3e522"
      },
      "outputs": [],
      "source": [
        "syntheses_with_20_labels = []\n",
        "\n",
        "for idx, row in df.iterrows():\n",
        "    question = row['question']\n",
        "    evidence_text = row['evidence_text']\n",
        "    completion = anthropic.completions.create(\n",
        "\n",
        "      model=\"claude-2\",\n",
        "      max_tokens_to_sample=700,\n",
        "      prompt = (\n",
        "        f\"{HUMAN_PROMPT} \"\n",
        "        f\"You are an accurate chatbot specialized in responding to queries about 10-K documents. Please only respond in the manner demonstrated by the following examples. If an explanation wasn't ask, refrain from providing one. \"\n",
        "        f\"Based on the following examples: {examples[:20]}, please provide your answer in the same format. \"\n",
        "        f\"please address the question: {question}. \"\n",
        "        f\"Consider the provided text as evidence: {evidence_text}. \"\n",
        "        f\"{AI_PROMPT}\")\n",
        "    )\n",
        "\n",
        "    print(completion.completion)\n",
        "    syntheses_with_20_labels.append(completion.completion)\n"
      ]
    },
    {
      "cell_type": "code",
      "execution_count": null,
      "metadata": {
        "colab": {
          "base_uri": "https://localhost:8080/"
        },
        "id": "vVrjGLB1Czs0",
        "outputId": "2e317d5a-7a46-4e32-d617-939883a116b2"
      },
      "outputs": [],
      "source": [
        "syntheses_with_labels = []\n",
        "\n",
        "for i in range(3, 6):  # Added a colon here\n",
        "    syntheses = []\n",
        "\n",
        "    for idx, row in df.iterrows():\n",
        "        question = row['question']\n",
        "        evidence_text = row['evidence_text']\n",
        "        completion = anthropic.completions.create(\n",
        "            model=\"claude-2\",\n",
        "            max_tokens_to_sample=700,\n",
        "            prompt=(\n",
        "                f\"{HUMAN_PROMPT} \"\n",
        "                f\"You are an accurate chatbot specialized in responding to queries about 10-K documents. Please only respond in the manner demonstrated by the following examples. If an explanation wasn't ask, refrain from providing one. \"\n",
        "                f\"Based on the following examples: {examples[:i*10]}, please provide your answer in the same format. \"\n",
        "                f\"Please address the question: {question}. \"\n",
        "                f\"Consider the provided text as evidence: {evidence_text}. \"\n",
        "                f\"{AI_PROMPT}\"\n",
        "            )\n",
        "        )\n",
        "\n",
        "        print(completion.completion)\n",
        "        syntheses.append(completion.completion)\n",
        "\n",
        "    syntheses_with_labels.append(syntheses)  # Append all completions for the current i to syntheses_with_labels\n"
      ]
    },
    {
      "cell_type": "code",
      "execution_count": null,
      "metadata": {
        "colab": {
          "base_uri": "https://localhost:8080/",
          "height": 292
        },
        "id": "jjEwIe2zPDce",
        "outputId": "625154d0-725a-40f1-e948-25cf93434a0e"
      },
      "outputs": [],
      "source": [
        "df.head()"
      ]
    },
    {
      "cell_type": "code",
      "execution_count": null,
      "metadata": {
        "id": "gy3idBwTO1uv"
      },
      "outputs": [],
      "source": [
        "pd.DataFrame({'question': df['question'], 'answer' : df['answer'], 'evidence_text' : df['evidence_text'], 'syntheses' : syntheses_with_10_labels}).to_csv('syntheses_10.csv',index=False)"
      ]
    },
    {
      "cell_type": "code",
      "execution_count": null,
      "metadata": {
        "id": "kM6_1yoLQSgN"
      },
      "outputs": [],
      "source": [
        "pd.DataFrame({'question': df['question'], 'answer' : df['answer'], 'evidence_text' : df['evidence_text'], 'syntheses' : syntheses_with_20_labels}).to_csv('syntheses_20.csv',index=False)"
      ]
    },
    {
      "cell_type": "code",
      "execution_count": null,
      "metadata": {
        "id": "0l3FvJ9BQVb3"
      },
      "outputs": [],
      "source": [
        "pd.DataFrame({'question': df['question'], 'answer' : df['answer'], 'evidence_text' : df['evidence_text'], 'syntheses' : syntheses_with_labels[0]}).to_csv('syntheses_30.csv',index=False)"
      ]
    },
    {
      "cell_type": "code",
      "execution_count": null,
      "metadata": {
        "id": "FjswvXS0Qc-G"
      },
      "outputs": [],
      "source": [
        "pd.DataFrame({'question': df['question'], 'answer' : df['answer'], 'evidence_text' : df['evidence_text'], 'syntheses' : syntheses_with_labels[1]}).to_csv('syntheses_40.csv',index=False)"
      ]
    },
    {
      "cell_type": "code",
      "execution_count": null,
      "metadata": {
        "id": "bQReIE2tQd5l"
      },
      "outputs": [],
      "source": [
        "pd.DataFrame({'question': df['question'], 'answer' : df['answer'], 'evidence_text' : df['evidence_text'], 'syntheses' : syntheses_with_labels[2]}).to_csv('syntheses_50.csv',index=False)"
      ]
    }
  ],
  "metadata": {
    "colab": {
      "provenance": []
    },
    "kernelspec": {
      "display_name": "Python 3",
      "name": "python3"
    },
    "language_info": {
      "codemirror_mode": {
        "name": "ipython",
        "version": 3
      },
      "file_extension": ".py",
      "mimetype": "text/x-python",
      "name": "python",
      "nbconvert_exporter": "python",
      "pygments_lexer": "ipython3",
      "version": "3.10.13"
    }
  },
  "nbformat": 4,
  "nbformat_minor": 0
}
