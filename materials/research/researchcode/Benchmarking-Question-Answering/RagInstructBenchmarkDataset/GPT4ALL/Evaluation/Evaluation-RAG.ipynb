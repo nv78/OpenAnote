{
 "cells": [
  {
   "cell_type": "code",
   "execution_count": 1,
   "metadata": {},
   "outputs": [],
   "source": [
    "import pandas as pd \n",
    "from sklearn.metrics.pairwise import cosine_similarity\n",
    "from sklearn.feature_extraction.text import TfidfVectorizer\n",
    "from typing import List\n",
    "import os \n",
    "import numpy as np "
   ]
  },
  {
   "cell_type": "code",
   "execution_count": 2,
   "metadata": {},
   "outputs": [],
   "source": [
    "def compute_rouge_l(candidate, reference):\n",
    "    m, n = len(candidate), len(reference)\n",
    "    #print(m,n)\n",
    "    dp_table = [[0] * (n + 1) for _ in range(m + 1)]\n",
    "    \n",
    "    for i in range(1, m + 1):\n",
    "        for j in range(1, n + 1):\n",
    "            if candidate[i - 1] == reference[j - 1]:\n",
    "                dp_table[i][j] = dp_table[i - 1][j - 1] + 1\n",
    "            else:\n",
    "                dp_table[i][j] = max(dp_table[i - 1][j], dp_table[i][j - 1])\n",
    "    \n",
    "    return dp_table[m][n] / n"
   ]
  },
  {
   "cell_type": "code",
   "execution_count": 3,
   "metadata": {},
   "outputs": [],
   "source": [
    "csv_files = [f\"syntheses_{count * 10}.csv\" for count in range(1,6)]\n"
   ]
  },
  {
   "cell_type": "code",
   "execution_count": 4,
   "metadata": {},
   "outputs": [],
   "source": [
    "import pandas as pd\n",
    "import nltk\n",
    "from nltk.tokenize import word_tokenize\n",
    "from nltk.corpus import stopwords\n",
    "from sklearn.metrics.pairwise import cosine_similarity\n",
    "import numpy as np"
   ]
  },
  {
   "cell_type": "code",
   "execution_count": 5,
   "metadata": {},
   "outputs": [
    {
     "name": "stderr",
     "output_type": "stream",
     "text": [
      "[nltk_data] Downloading package stopwords to\n",
      "[nltk_data]     /Users/katherinejijo/nltk_data...\n",
      "[nltk_data]   Unzipping corpora/stopwords.zip.\n"
     ]
    },
    {
     "data": {
      "text/plain": [
       "True"
      ]
     },
     "execution_count": 5,
     "metadata": {},
     "output_type": "execute_result"
    }
   ],
   "source": [
    "import nltk\n",
    "nltk.download('stopwords')"
   ]
  },
  {
   "cell_type": "code",
   "execution_count": 6,
   "metadata": {},
   "outputs": [],
   "source": [
    "def preprocess_text(text):\n",
    "    # Tokenize the text\n",
    "    tokens = word_tokenize(text.lower())\n",
    "    \n",
    "    # Remove stopwords\n",
    "    stop_words = set(stopwords.words('english'))\n",
    "    filtered_tokens = [word for word in tokens if word not in stop_words]\n",
    "    \n",
    "    return filtered_tokens"
   ]
  },
  {
   "cell_type": "code",
   "execution_count": 7,
   "metadata": {},
   "outputs": [],
   "source": [
    "def preprocess_text(text):\n",
    "    # Tokenize the text\n",
    "    tokens = word_tokenize(text.lower())\n",
    "    \n",
    "    return tokens"
   ]
  },
  {
   "cell_type": "code",
   "execution_count": 8,
   "metadata": {},
   "outputs": [],
   "source": [
    "def compute_similarity_score(answer,syntheses):\n",
    "    tokens_answer = preprocess_text(answer)\n",
    "    tokens_syntheses = preprocess_text(syntheses)\n",
    "    str_answer = ' '.join(tokens_answer)\n",
    "    str_syntheses = ' '.join(tokens_syntheses)\n",
    "    freqdist_answer = nltk.FreqDist(str_answer.split())\n",
    "    freqdist_syntheses = nltk.FreqDist(str_syntheses.split())\n",
    "    # Extract frequencies for unique tokens in both texts\n",
    "    unique_tokens = set(freqdist_answer.keys()).union(freqdist_syntheses.keys())\n",
    "\n",
    "    freq_answer = [freqdist_answer[token] for token in unique_tokens]\n",
    "    freq_syntheses = [freqdist_syntheses[token] for token in unique_tokens]\n",
    "\n",
    "    vector_answer = np.array(freq_answer).reshape(1, -1)\n",
    "    vector_syntheses = np.array(freq_syntheses).reshape(1, -1)\n",
    "\n",
    "    similarity_score = cosine_similarity(vector_answer, vector_syntheses)[0][0]\n",
    "\n",
    "    return similarity_score"
   ]
  },
  {
   "cell_type": "code",
   "execution_count": 11,
   "metadata": {},
   "outputs": [
    {
     "name": "stderr",
     "output_type": "stream",
     "text": [
      "[nltk_data] Downloading package punkt to\n",
      "[nltk_data]     /Users/katherinejijo/nltk_data...\n",
      "[nltk_data]   Unzipping tokenizers/punkt.zip.\n"
     ]
    },
    {
     "data": {
      "text/plain": [
       "True"
      ]
     },
     "execution_count": 11,
     "metadata": {},
     "output_type": "execute_result"
    }
   ],
   "source": [
    "import nltk\n",
    "nltk.download('punkt')\n"
   ]
  },
  {
   "cell_type": "code",
   "execution_count": 12,
   "metadata": {},
   "outputs": [],
   "source": [
    "from sklearn.feature_extraction.text import TfidfVectorizer\n",
    "\n",
    "tfidf_vectorizer = TfidfVectorizer()"
   ]
  },
  {
   "cell_type": "code",
   "execution_count": 13,
   "metadata": {},
   "outputs": [],
   "source": [
    "total_average_rouge_l_scores = []\n",
    "total_average_cosine_similarity_scores  = []\n",
    "\n",
    "num_labels = []\n",
    "count = 0 \n",
    "for csv_file in csv_files:\n",
    "\n",
    "    count += 10\n",
    "    num_labels.append(count)\n",
    "\n",
    "    df = pd.read_csv(csv_file)\n",
    "    rouge_l_scores = [] \n",
    "    cosine_similarity_scores = [] \n",
    "\n",
    "    for idx, row in df.iterrows():\n",
    "        answer = row['answer']\n",
    "        syntheses = row['syntheses'] \n",
    "\n",
    "\n",
    "    \n",
    "        compute_sim_score = compute_similarity_score(answer,syntheses)\n",
    "        cosine_similarity_scores.append(compute_sim_score)\n",
    "\n",
    "\n",
    "\n",
    "        \n",
    "        rouge_l_score = compute_rouge_l(answer, syntheses)\n",
    "        rouge_l_scores.append(rouge_l_score)\n",
    "       \n",
    "\n",
    "    total_average_cosine_similarity_score = sum(cosine_similarity_scores) / len(cosine_similarity_scores)\n",
    "    total_average_cosine_similarity_scores.append(total_average_cosine_similarity_score)\n",
    "\n",
    "\n",
    "    total_average_rouge_l_score = sum(rouge_l_scores)/len(rouge_l_scores)\n",
    "    total_average_rouge_l_scores.append(total_average_rouge_l_score)"
   ]
  },
  {
   "cell_type": "code",
   "execution_count": 14,
   "metadata": {},
   "outputs": [],
   "source": [
    "import matplotlib.pyplot as plt\n",
    "import numpy as np\n",
    "from matplotlib import cm"
   ]
  },
  {
   "cell_type": "code",
   "execution_count": 15,
   "metadata": {},
   "outputs": [
    {
     "data": {
      "text/plain": [
       "Text(0.5, 1.0, ' After Fine-Tuning Cosine Similarity Score')"
      ]
     },
     "execution_count": 15,
     "metadata": {},
     "output_type": "execute_result"
    },
    {
     "data": {
      "image/png": "[encoded data removed]",
      "text/plain": [
       "<Figure size 1440x360 with 2 Axes>"
      ]
     },
     "metadata": {
      "needs_background": "light"
     },
     "output_type": "display_data"
    }
   ],
   "source": [
    "plt.figure(figsize=(20, 5))\n",
    "\n",
    "# Plot Accuracy\n",
    "plt.subplot(1, 3, 1)\n",
    "plt.plot(num_labels, total_average_rouge_l_scores, marker='o', linestyle='-', color='skyblue', linewidth=2)\n",
    "\n",
    "plt.xlabel('Number of Labels')\n",
    "plt.ylabel('Total Average ROUGE-L Score')\n",
    "plt.title(' After Fine-Tuning ROUGE-L Score Comparison')\n",
    "\n",
    "plt.subplot(1, 3, 2)\n",
    "plt.plot(num_labels, total_average_cosine_similarity_scores, marker='o', linestyle='-', color='skyblue', linewidth=2)\n",
    "plt.xlabel('Number of Labels')\n",
    "plt.ylabel('Total Average Cosine Similarity Score')\n",
    "plt.title(' After Fine-Tuning Cosine Similarity Score')"
   ]
  },
  {
   "cell_type": "code",
   "execution_count": null,
   "metadata": {},
   "outputs": [],
   "source": []
  }
 ],
 "metadata": {
  "kernelspec": {
   "display_name": "venvts24",
   "language": "python",
   "name": "python3"
  },
  "language_info": {
   "codemirror_mode": {
    "name": "ipython",
    "version": 3
   },
   "file_extension": ".py",
   "mimetype": "text/x-python",
   "name": "python",
   "nbconvert_exporter": "python",
   "pygments_lexer": "ipython3",
   "version": "3.9.2 (v3.9.2:1a79785e3e, Feb 19 2021, 09:06:10) \n[Clang 6.0 (clang-600.0.57)]"
  },
  "orig_nbformat": 4,
  "vscode": {
   "interpreter": {
    "hash": "d1201459aa829b695ecced9924b40765fb34914f6180d8b95593497ebccc44d6"
   }
  }
 },
 "nbformat": 4,
 "nbformat_minor": 2
}
