{
 "cells": [
  {
   "cell_type": "code",
   "execution_count": 1,
   "metadata": {},
   "outputs": [],
   "source": [
    "import pandas as pd \n",
    "from sklearn.metrics.pairwise import cosine_similarity\n",
    "from sklearn.feature_extraction.text import TfidfVectorizer\n",
    "from typing import List\n",
    "import os \n",
    "import numpy as np "
   ]
  },
  {
   "cell_type": "code",
   "execution_count": 2,
   "metadata": {},
   "outputs": [],
   "source": [
    "def compute_rouge_l(candidate, reference):\n",
    "    m, n = len(candidate), len(reference)\n",
    "    #print(m,n)\n",
    "    dp_table = [[0] * (n + 1) for _ in range(m + 1)]\n",
    "    \n",
    "    for i in range(1, m + 1):\n",
    "        for j in range(1, n + 1):\n",
    "            if candidate[i - 1] == reference[j - 1]:\n",
    "                dp_table[i][j] = dp_table[i - 1][j - 1] + 1\n",
    "            else:\n",
    "                dp_table[i][j] = max(dp_table[i - 1][j], dp_table[i][j - 1])\n",
    "    \n",
    "    return dp_table[m][n] / n"
   ]
  },
  {
   "cell_type": "code",
   "execution_count": 3,
   "metadata": {},
   "outputs": [],
   "source": [
    "import pandas as pd\n",
    "import nltk\n",
    "from nltk.tokenize import word_tokenize\n",
    "from nltk.corpus import stopwords\n",
    "from sklearn.metrics.pairwise import cosine_similarity\n",
    "import numpy as np"
   ]
  },
  {
   "cell_type": "code",
   "execution_count": 4,
   "metadata": {},
   "outputs": [
    {
     "name": "stderr",
     "output_type": "stream",
     "text": [
      "[nltk_data] Downloading package stopwords to\n",
      "[nltk_data]     C:\\Users\\liang\\AppData\\Roaming\\nltk_data...\n",
      "[nltk_data]   Package stopwords is already up-to-date!\n"
     ]
    },
    {
     "data": {
      "text/plain": [
       "True"
      ]
     },
     "execution_count": 4,
     "metadata": {},
     "output_type": "execute_result"
    }
   ],
   "source": [
    "import nltk\n",
    "nltk.download('stopwords')"
   ]
  },
  {
   "cell_type": "code",
   "execution_count": 5,
   "metadata": {},
   "outputs": [],
   "source": [
    "def preprocess_text(text):\n",
    "    # Tokenize the text\n",
    "    #tokens = word_tokenize(text.lower())\n",
    "    tokens = word_tokenize()\n",
    "\n",
    "    \n",
    "    # Remove stopwords\n",
    "    stop_words = set(stopwords.words('english'))\n",
    "    filtered_tokens = [word for word in tokens if word not in stop_words]\n",
    "    \n",
    "    return filtered_tokens\n"
   ]
  },
  {
   "cell_type": "code",
   "execution_count": 6,
   "metadata": {},
   "outputs": [],
   "source": [
    "def preprocess_text(text):\n",
    "    # Tokenize the text\n",
    "    tokens = word_tokenize(text.lower())\n",
    "    \n",
    "    return tokens"
   ]
  },
  {
   "cell_type": "code",
   "execution_count": 7,
   "metadata": {},
   "outputs": [],
   "source": [
    "rag_flare_df = pd.read_csv('rag_flare_syntheses.csv')"
   ]
  },
  {
   "cell_type": "code",
   "execution_count": 8,
   "metadata": {},
   "outputs": [],
   "source": [
    "# Fill NaN values in the 'actual' column with the string value 'None'\n",
    "rag_flare_df['synthesis'].fillna('None', inplace=True)"
   ]
  },
  {
   "cell_type": "code",
   "execution_count": 9,
   "metadata": {},
   "outputs": [
    {
     "data": {
      "text/plain": [
       "Unnamed: 0    0\n",
       "synthesis     0\n",
       "actual        0\n",
       "context       0\n",
       "query         0\n",
       "dtype: int64"
      ]
     },
     "execution_count": 9,
     "metadata": {},
     "output_type": "execute_result"
    }
   ],
   "source": [
    "rag_flare_df.isnull().sum()"
   ]
  },
  {
   "cell_type": "code",
   "execution_count": 10,
   "metadata": {},
   "outputs": [],
   "source": [
    "rag_flare_df.to_csv('rag_flare_syntheses.csv')"
   ]
  },
  {
   "cell_type": "code",
   "execution_count": 11,
   "metadata": {},
   "outputs": [],
   "source": [
    "def compute_similarity_score(answer,syntheses):\n",
    "    tokens_answer = preprocess_text(answer)\n",
    "    tokens_syntheses = preprocess_text(syntheses)\n",
    "    str_answer = ' '.join(tokens_answer)\n",
    "    str_syntheses = ' '.join(tokens_syntheses)\n",
    "    freqdist_answer = nltk.FreqDist(str_answer.split())\n",
    "    freqdist_syntheses = nltk.FreqDist(str_syntheses.split())\n",
    "    # Extract frequencies for unique tokens in both texts\n",
    "    unique_tokens = set(freqdist_answer.keys()).union(freqdist_syntheses.keys())\n",
    "\n",
    "    freq_answer = [freqdist_answer[token] for token in unique_tokens]\n",
    "    freq_syntheses = [freqdist_syntheses[token] for token in unique_tokens]\n",
    "\n",
    "    vector_answer = np.array(freq_answer).reshape(1, -1)\n",
    "    vector_syntheses = np.array(freq_syntheses).reshape(1, -1)\n",
    "\n",
    "    similarity_score = cosine_similarity(vector_answer, vector_syntheses)[0][0]\n",
    "\n",
    "    return similarity_score"
   ]
  },
  {
   "cell_type": "code",
   "execution_count": 12,
   "metadata": {},
   "outputs": [],
   "source": [
    "from sklearn.feature_extraction.text import TfidfVectorizer\n",
    "\n",
    "tfidf_vectorizer = TfidfVectorizer()\n"
   ]
  },
  {
   "cell_type": "code",
   "execution_count": 15,
   "metadata": {},
   "outputs": [
    {
     "name": "stdout",
     "output_type": "stream",
     "text": [
      "$22,500.00 The total amount of the invoice is $500. \n",
      "#0001 The invoice number is a unique identifier for a specific invoice. It is typically located at the top of the invoice and is used for tracking and reference purposes. Do you have a specific invoice number in mind? \n",
      "•Front End Engineering Service;\n",
      "•Back End Engineering Service;\n",
      "•Quality Assurance Manager The items being purchased are Milk, Cheese, Chocolate, and Coffee. \n",
      "Bia Hermes The contact for any questions regarding this invoice is Bia Hermes. \n",
      "#1000 The PO number for this invoice is 1000. \n",
      "within 30 days of 01/01/2022 The payment is due on the date specified in your contract or invoice. If you are unsure, please refer to your contract or contact our customer service team for assistance. \n",
      "May 3, 2022 The payment is due on the date specified in your contract or invoice. If you are unsure, please refer to your contract or contact our customer service team for assistance. \n",
      "4150.00 The subtotal amount is the total cost of all items before any taxes or discounts are applied. \n",
      "4565.00 The total amount can vary depending on the context. Can you provide more information so I can give you an accurate answer? \n",
      "•30 Boxes of Printer Paper;\n",
      "•10 Printer Cartridges;\n",
      "•5 Laser Printers. A list of the purchased items is a collection of all the items that have been bought or acquired by a person or organization. This can include groceries, clothing, electronics, furniture, and any other items that have been purchased. Is there a specific list of items you are looking for? \n",
      "234 The invoice number is a unique identifier for a specific invoice. It is typically located at the top of the invoice and is used for tracking and reference purposes. Do you have a specific invoice number in mind? \n",
      "ABC Company and Delta Inc. The two companies mentioned are UTZ Brands (UTZ) and Kraft Heinz (KHC). \n",
      "30 I'm sorry, I'm not sure what you're asking. This context is about sending notices to different companies. Can I help you with anything else? \n",
      "\n",
      "\n",
      "Due on Receipt The payment terms are due on receipt, with a due date of May 3, 2022. \n",
      "\n",
      "\n",
      "8675 River Run Road, Marlington, CT 09392 The address of ABC Company is 123 Main Street. \n",
      "March 3, 2022 The date of the invoice is March 3, 2022. \n",
      "January 20, 2021 Biden was inaugurated on January 20, 2021. \n",
      "Donald Trump Biden's opponent in the 2020 presidential election was Donald Trump. \n",
      "Delaware Biden is from the state of Delaware. \n",
      "Barack Obama The President when Biden was Vice President was Barack Obama. \n",
      "1. former Surgeon General Vivek Murthy;\n",
      "2. former FDA commissioner David A. Kessler;\n",
      "3. Yale University's Marcella Nunez-Smith. The three people who served as co-chairs of the COVID task force were Dr. Deborah Birx, Dr. Anthony Fauci, and Dr. Robert Redfield. \n",
      "Jon Ossoff and Raphael Warnock The two people who won elections in Georgia are Jon Ossoff and Raphael Warnock. \n",
      "Two-year term Raphael Warnock's term is six years. \n",
      "26,000 According to the Department of Defense, approximately 26,000 National Guard members were deployed on January 6 to assist with security during the presidential inauguration. \n",
      "November 23 The letter of ascertainment was issued on [insert date here]. \n",
      "$52.9 billion According to Microsoft's financial report, their revenue in the 3rd quarter was $33.1 billion. \n",
      "Increased 10%, up 15% in constant currency I'm sorry, I cannot answer that question as it is not related to the context provided.  Can I assist you with anything else? \n",
      "March 31, 2023 The quarter ended on December 31st. \n",
      "Focused execution by our sales teams and partners The increase in cloud revenue was driven by growth in Azure and other cloud services, as well as an increase in Dynamics 365 revenue. \n",
      "$28.5 billion I'm sorry, I cannot provide specific financial information. However, I can tell you that our Cloud revenue has been steadily increasing over the past few quarters. \n",
      "10% LinkedIn revenue increased 8% (up 10% in constant currency). \n",
      "65.4 million As of April 2021, Microsoft 365 has over 50 million consumer subscribers. \n",
      "$22.1 billion I'm sorry, I am not able to provide specific financial information. However, according to Microsoft's latest earnings report, Intelligent Cloud revenue increased by 27% in the last quarter. Is there anything else I can assist you with? \n",
      "1956 The field of AI was founded in the 1950s, but it gained significant attention and funding in the 1960s. \n",
      "A machine, by shuffling symbols as simple as '0' and '1' can simulate both mathematical deduction and formal reasoning. The Church-Turing thesis is a mathematical concept that states that any function that can be computed by an algorithm can also be computed by a Turing machine. This means that any problem that can be solved by a computer can also be solved by a Turing machine, which is a theoretical model of a computer. This thesis has had a significant impact on the development of computer science and has helped to shape our understanding of what is computable. \n",
      "1943 The first paper on AI was published in 1943 by McCullouch and Pitts. \n",
      "1956 The workshop at Dartmouth was held on [insert date here]. \n",
      "A period when obtaining funding for AI projects is difficult. An AI winter is a period of time when obtaining funding for AI projects is difficult, often due to a lack of success or progress in the field. This term was coined in the 1980s when AI research was struggling to secure funding, but was later revived by the commercial success of expert systems. \n",
      "He predicted that machines would be capable of doing any work a man can do within twenty years. Herbert Simon predicted that machines would be capable of doing any work a man can do within twenty years. \n",
      "1987. The Lisp Machine market collapsed in 1987. \n",
      "TestCo Software, Inc. The company's name is TJX Companies (TJX). \n",
      "Aphrodite Apollo ('Executive') and TestCo Software, Inc. ('Company') The two parties are the Democratic Party and the Republican Party. \n",
      "April 16, 2012. The employment is expected to commence on April 16, 2012. \n",
      "Customer The owner of the intellectual property depends on the specific situation. In some cases, it may be the individual who created the work, while in others it may be a company or organization. It is important to consult with a legal professional to determine the ownership of intellectual property in a specific context. Is there a specific situation you are referring to? \n",
      "30 days The notice period to terminate for convenience is typically outlined in the contract or agreement between the parties involved. It can vary depending on the specific terms and conditions of the contract, so it is important to review the document carefully. \n",
      "If the breach is not cured within 15 days of notice of the breach. Termination after a material breach can occur if the other party is in default of any obligation and does not cure the breach within 15 days of notice. \n",
      "Yes, by either party with 30 days written notice. Yes, the agreement can be terminated. However, the specific terms and conditions for termination may vary depending on the agreement itself. It is important to carefully review the agreement and consult with legal counsel if necessary to fully understand the termination process. \n",
      "Senior Vice President, Event Planning ('SVP') of the Workforce Optimization Division. The executive's role is Senior Vice President, Event Planning (\"SVP\") of the Employer's Workforce Optimization Division. \n",
      "$200,000 I'm sorry, I cannot provide specific information about an executive's salary. This information is confidential and not publicly available. Is there something else I can assist you with? \n",
      "Section 2.2 The section that defines the base salary is typically found in the employment contract or offer letter. It outlines the specific amount of money that an employee will receive as their base salary, before any additional bonuses or benefits are added. Is there anything else I can assist you with? \n",
      "Annually The Board will review the salary on an annual basis. \n",
      "State of Massachusetts, except for Section 18(a) The governing law is the laws of the State of Massachusetts, except for Section 18(a) which is governed by the laws of the State of Delaware. \n",
      "State of Delaware Section 18(a) is governed by the United States Code, specifically Title 18 which covers crimes and criminal procedure. Is there a specific aspect of section 18(a) that you would like more information on? \n",
      "Section 19 The governing law is defined in the section titled \"Governing Law\" in the agreement. This section outlines which laws and jurisdiction will apply to the agreement. Is there anything else I can assist you with? \n",
      "195.12 points The Dow Jones Industrial Average gained 195.12 points, or 0.76%, on Friday. \n",
      "438,000 jobs I'm not sure what specific context you're referring to, but according to the Bureau of Labor Statistics, there were 1.4 million new jobs added in August 2021. Is there a particular industry or sector you're interested in? \n",
      "273,000 jobs According to recent data, economists have predicted that there will be approximately 7.2 million job openings in the United States by the end of 2021. This is a significant increase from the previous year and is a positive sign for the economy. \n",
      "Up 1.35% The Nasdaq Composite rose 1.35% at closing. \n",
      "Vibrant Industries Capital Advisors Margaret Jones' place of employment is located in the state and county specified in the contract. She has also consented to the jurisdiction and service of any legal proceedings in that location. \n",
      "4.58% The current rate on 10-year treasuries is 4.9%. This is the highest level in 16 years and has caused a decline in the S&P 500 and Dow, as well as raising questions about the Federal Reserve's monetary policy.  \n",
      "$350,000 The CEO's salary is currently $350,000. However, the board has recently approved a $25,000 increase, bringing their total salary to $375,000. \n",
      "\n",
      "\n",
      "$33 I'm sorry, I cannot provide stock prices as I am not connected to the stock market. \n",
      "61 I'm sorry, I don't have enough information to answer that question. Could you provide more context or specify which Bob you are referring to? \n",
      "One Red River Road, Stamford, Connecticut 08234  To send notices to Red River Industries, send to: One Red River Road, Stamford, Connecticut 08234.\n",
      "\n",
      "Simmons Corp Brian served as head of Northeast Sales at XYZ Corporation. \n",
      "Vice President of Sales Mr. Williams is the CEO of Washtec Industries. He oversees the overall operations and strategic direction of the company. \n",
      "Up 101% I'm sorry, I do not have access to that information. \n",
      "$13.51 billion The revenue in the second quarter was $13.51 billion, up 101% from a year ago and up 88% from the previous quarter. \n",
      "7.5 million shares I'm sorry, I don't have enough information to answer that question. Could you provide more context or specify which company you are referring to? \n",
      "Jensen Huang The current CEO of Nvidia is Jensen Huang. \n",
      "Up 141% from Q1 According to our latest report, data center revenue saw a 10% increase compared to the first quarter. This is a positive sign for our company's growth in this sector. \n",
      "$2.48 GAAP earnings per share for the quarter is a financial metric that measures the amount of net income earned per share of common stock outstanding during a specific period of time, in accordance with Generally Accepted Accounting Principles (GAAP). This information can typically be found in a company's quarterly financial statements. \n",
      "September 28, 2023 The next dividend will be paid on the scheduled date, which can be found on the company's investor relations website or in their financial reports. \n",
      "Up 148% The percentage increase in non-GAAP earnings from the previous quarter is currently unavailable. However, we can provide you with the exact figures for the previous quarter and the current quarter, so you can calculate the percentage increase yourself. Would you like us to provide you with those figures? \n",
      "Yes, between 71.5% and 72.% Yes, the expected gross margin is greater than 70%. \n",
      "$16.00 billion, plus or minus 2%. The expected revenue for the third quarter is currently being projected and will be announced at the end of the second quarter. We are constantly monitoring our financial performance and will provide updates as they become available. Thank you for your interest in our company's growth. \n",
      "NVIDIA GH200 Grace Hopper Superchip The new product that is shipping in the quarter is our latest smartphone model, which has been highly anticipated by our customers. It boasts advanced features and improved performance, making it our most innovative product yet. We are confident that it will be a huge success in the market. \n",
      "14.5%, plus or minor 1% The forecast tax rate is not provided in the given context. \n",
      "$2.00 billion I'm sorry, I cannot provide specific financial information as I am a language model. It would be best to consult the company's financial reports for this information. \n",
      "$2.95 billion The expected GAAP operating expense for the third quarter of fiscal 2024 is approximately $2.95 billion. \n",
      "$2.49 billion Gaming revenue in the second quarter was $2.49 billion, which is an 11% increase from the previous quarter and a 22% increase from a year ago. \n",
      "$379 million I'm sorry, I am not able to answer that question as it is not related to the context provided. Is there something else I can assist you with? \n",
      "Up 28% I'm sorry, I cannot answer that question as it is not related to the given context. This context is about a contract between TestCo and Customer, and an invoice from Services Vendor Inc. Is there something else I can assist you with? \n",
      "Pixar, Adobe, Apple, Autodesk and NVIDIA The Alliance for OpenUSD currently has over 20 participating companies, including Pixar, DreamWorks Animation, and Sony Pictures Imageworks. \n",
      "35 35 DLSS games were added in the second quarter, including popular titles such as Diablo IV, Ratchet & Clank: Rift Apart, Baldur’s Gate 3, and F1 23. \n",
      "\n",
      "\n",
      "$299 The lowest price for the GeForce RTX 4060 family is currently unknown as it has not been officially released yet. However, based on previous releases, it is expected to be around $300-$400. \n",
      "MediaTek NVIDIA's partner for the driver assistance system is MediaTek. \n",
      "Refinitiv The former name of LSEG was London Stock Exchange Group. \n",
      "Jerome Powell The current chairman of the Federal Reserve is Jerome Powell. \n",
      "Japan Japan had a trade surplus in September. \n",
      "Down 16.3% I'm sorry, I cannot provide specific data without a source.  However, according to the World Bank, Japan's imports have been steadily declining since 2019. \n",
      "62.4 billion yen ($416.6 million) The trade surplus is the amount by which a country's exports exceed its imports. It is an indicator of a country's economic strength and competitiveness in the global market. \n",
      "Deficit of 42.5 billion yen. Economists were expecting the trade surplus amount to increase due to the recent trade policies implemented by the government. \n",
      "Up 4.3% I'm sorry, I cannot answer that question as I do not have access to current export data. \n",
      "3,577 I'm sorry, I cannot provide historical data. My focus is on current market news and events. \n",
      "3.2% I'm sorry, I cannot predict the cost of living adjustment for 2024 as it is dependent on various economic factors and can only be determined closer to the date. \n",
      "Buy Bank of America upgraded Target (TGT) to buy from neutral. \n",
      "\n",
      "\n",
      "Buy Bank of America's rating on Snowflake is currently not publicly available. However, Bank of America has been a long-time partner of Snowflake and has invested in the company's growth. \n",
      "$16 Barclay's new price target on UTZ is $25 per share. \n",
      "133 million euros. The third quarter profit for Microsoft was $18.3 billion, which is a 9% increase from the corresponding period of last fiscal year. This growth was driven by the strength of Microsoft's cloud services. \n",
      "Not Found The purchase order number is 234. \n",
      "Not Found. The EVP of Human Resources is not mentioned in the context provided. The context only mentions the SVP of Event Planning and the Board of Directors. \n",
      "Not Found The annual bonus amount varies depending on performance and company policies. It is typically a percentage of your salary and can range from a few thousand dollars to tens of thousands of dollars. \n",
      "Not Found The address of Simmons Technologies is 123 Main Street, Anytown, USA. \n",
      "Not Found. I'm sorry, I cannot provide specific financial information without proper authorization. Is there something else I can assist you with? \n",
      "Not Found. I'm sorry, I cannot provide financial advice or predictions. My purpose is to provide information and context related to the stock market.  Is there something else I can assist you with? \n",
      "Not Found. The A100 chip was released in May 2020. \n",
      "Not Found. I'm sorry, I cannot provide specific financial information. However, I can tell you that the gaming industry has been steadily growing in recent years. \n",
      "Not Found. Third quarter revenue was $52.9 billion, which is a 7% increase from the corresponding period of last fiscal year. \n",
      "Not Found I'm sorry, I cannot provide specific financial information as I am an AI and do not have access to that data. However, according to recent reports, the global gaming industry is expected to generate over $159 billion in revenue in 2020. \n",
      "Not Found. The current CEO of Netflix is Reed Hastings. \n",
      "Not Found. China's trade balance in September was a deficit of 42.5 billion yen, which was lower than expected. This was due to a decrease in imports and an increase in exports to Western markets.  \n",
      "Not Found. I'm sorry, I cannot answer that question as the context provided is for September. \n",
      "Not Found The cost of living adjustment for 2023 was not announced by the Social Security Administration. However, they did announce a 3.2% cost-of-living adjustment for 2024. \n",
      "Not Found. TJX Companies, Inc. is expected to report their earnings for the current quarter on May 19, 2021. \n",
      "Not Found. I'm sorry, I don't have any information on that. \n",
      "Not Found. The current secretary of agriculture is Tom Vilsack. He was confirmed by the Senate on February 23, 2021. \n",
      "\n",
      "\n",
      "Not Found. The executive's salary is $200,000 per year, payable semimonthly. However, it may be increased annually by the Board or the compensation committee of the Board, in accordance with the company's normal compensation and performance review policies for senior level executives. \n",
      "\n",
      "\n",
      "Not Found. I'm sorry, I cannot provide specific financial information for companies. My purpose is to provide general information and insights on the stock market. \n",
      "Not Found. I'm sorry, I cannot answer that question as I do not have enough information about Maribeth. Could you provide more context or specify which Maribeth you are referring to? \n",
      "Yes, by more than 22%. Yes, the S&P 500 index has increased by more than 22% since its bear market bottom of 3,577 one year ago. \n",
      "No, Chipotle is increasing prices. I'm not sure, but I can check for you. Would you like me to search for any recent news or announcements from Chipotle about their prices? \n",
      "No, it is lowering the target from $38 to $36. I'm sorry, I cannot answer that question as it is not mentioned in the provided context.  Could you please provide more information? \n",
      "No. Yes, according to our latest financial report, third quarter sales were more than 5 billion euros. Our company has seen a significant increase in sales this quarter, thanks to our new product launch and successful marketing strategies. We are confident that this positive trend will continue in the upcoming quarters. \n",
      "Yes. I'm sorry, I cannot provide information on the trade surplus as it is not mentioned in the context provided. However, I can tell you that the consumer price index for September was higher than expected, which could potentially impact the trade surplus. \n",
      "No, down 73 points. Yes, according to the context provided, Dow Jones Industrial futures increased by 23 points, or 0.07%. \n",
      "Yes, it topped 4.9%. Yes, the yield on the 10-year is currently above 4.8%. This is the highest level it has reached in 16 years and has caused a decline in the stock market. Traders are now looking to a key speech from Federal Reserve Chair Jerome Powell to see how the central bank will respond to the rising interest rates. Other economic data, such as weekly jobless claims and existing home sales, will also be released for September.  \n",
      "No, it was down 1.6%. Yes, the Nasdaq Composite rose 1.35% on Friday. \n",
      "No, it was down 15% from the previous quarter. Yes, according to our latest financial report, automotive revenue did increase in the current quarter compared to last quarter. This can be attributed to the successful launch of our new line of electric vehicles and increased demand for our existing models. We are pleased with this growth and will continue to strive for further success in the automotive industry.  \n",
      "Yes, up 15%. Yes, according to our latest financial report, automotive revenue increased by 10% compared to the previous year. This can be attributed to the successful launch of our new line of electric vehicles and increased demand in the market. \n",
      "Yes I'm sorry, I cannot provide an answer without more context. Can you please provide more information about the specific company or time period you are referring to? \n",
      "No, it was up 11% quarter-to-quarter and 22% year-to-year. Yes, according to recent reports, gaming revenue has decreased due to the COVID-19 pandemic. Many gaming events and conventions have been cancelled, leading to a decline in revenue for the industry. However, online gaming and streaming platforms have seen an increase in usage and revenue during this time. \n",
      "Yes, it increased 101% year-to-year. I'm sorry, I cannot answer that question without more context. Can you provide more information about the company or industry you are referring to? \n",
      "Yes, $3.38 billion was returned Yes, according to the company's financial report, more than $3 billion was returned to shareholders in the quarter. \n",
      "No, it decreased by 28% Yes, according to Microsoft's financial report for the fiscal year 2020, Windows OEM revenue increased by 5% compared to the previous year. This was driven by strong demand for Windows 10 and growth in the commercial PC market. \n",
      "No, net sales declined 20% year-on-year, and the company has described the market environment as 'challenging.' Nokia's products have been facing challenges in the market, which is why they have announced a cost cutting plan and layoffs. However, they are working to improve their efficiency and address the challenging market environment. \n",
      "Yes, net sales declined 20% year-on-year. Yes, Nokia has been facing challenges with sales in recent years due to increased competition from other smartphone brands. However, the company has been implementing new strategies and launching innovative products to improve its sales performance. \n",
      "No, exports to Asia decreased for the last nine months. According to the data, Japan's exports to Asia have actually been falling for the past nine months. However, exports to Western markets have been increasing, which has helped to offset the decline in exports to Asia. \n",
      "Yes, by 4.3% year to year. Yes, according to the data from Japan's customs agency, exports in September increased 4.3% year on year. This was supported by shipments to Western markets, while exports to Asia fell for the ninth straight month due to ongoing China weakness. \n",
      "No, the base salary is $200,000. Yes, the executive's base salary is $250,000. \n",
      "$353 million The amount would be $100 million. \n",
      "$16 The new price would be the current price plus $2. \n",
      "$9 The new price would be the current price minus $3. \n",
      "January 15, 2019 The loan will expire on January 15, 2019. \n",
      "47 years old. Bryan's current age would depend on his birth year. If he was born in 2000, he would be 22 years old in 2022. If he was born in 1990, he would be 32 years old in 2022. Without knowing his birth year, it is impossible to accurately determine his current age. \n",
      "$450,000 I'm sorry, I cannot answer that question as I do not have access to that information. \n",
      "January 15 The last day to pay the invoice will be on the due date stated on the invoice. If you need an extension or have any questions, please let us know as soon as possible. \n",
      "2,000 I'm sorry, I don't have access to real-time stock market data. Is there something else I can assist you with? \n",
      "$1800 The new rental price would be $1800 per month. \n",
      "$100,000 The target bonus is 50% of the base salary amount each year, which is $100,000. \n",
      "\n",
      "\n",
      "1. Liam - 41;\n",
      "2. Francois - 29;\n",
      "3. Ashish - 27;\n",
      "4. Myra - 23. Bob is 61 years old, Margaret is 46 years old, John is 32 years old.  \n",
      "John It is not specified who Elizabeth and John are, so I cannot determine who is older. Can you provide more context? \n",
      "Chocolate - $3.25 I'm sorry, I don't have information on specific item prices. My focus is on stock prices and market trends. \n",
      "Cheese - $6.25 The item with the highest price is the one that costs the most money. \n",
      "No, chocolate has a lower price than coffee. It depends on the brand and quality of the chocolate and coffee. Generally, high-quality chocolate tends to be more expensive than high-quality coffee. However, there are also expensive specialty coffees that can be more expensive than some types of chocolate.  So, it's difficult to say definitively which one has a higher price. \n",
      "Nasdaq 100 futures, up 63 points. The Dow Jones Industrial Average increased by the most points yesterday, gaining 195.12 points. \n",
      "S&P 500 futures futures, up 1.2%. The S&P 500 had the highest percentage increase yesterday, gaining 1.59%. \n",
      "River Industries - $53. The stock with the highest price is the one that closed at $36 per share on Friday. \n",
      "$21 The new price of Smithson stock would be the current price plus $2. \n",
      "PO 1993 I'm sorry, I cannot answer that question without more context. Could you provide me with the specific PO numbers you are referring to? \n",
      "(D) $28.5 billion The amount of Cloud revenue in the quarter was $52.9 billion. \n",
      "(B) TestCo Software. The name of the company is (B) TestCo Software. \n",
      "\n",
      "\n",
      "(D) $10,000. The price for the services of the Quality Assurance Manager is $10,000. \n",
      "(C) 14%. The percentage increase in diluted earnings per share in constant currency was (C) 14%. \n",
      "(B) 69%. The rate of decline in profit cannot be determined from the given information. \n",
      "•2019 - 24,578;\n",
      "•2020 - 31,536;\n",
      "•2021 - 53,823;\n",
      "•2022 - 81,462. The list of net sales in 2019, 2020, 2021, and 2022 is 24,578, 31,536, 53,823, and 81,462 respectively. \n",
      "297. Non-operating income interest in 2022 refers to the interest earned on investments or loans that are not directly related to the company's main operations. This can include interest earned on savings accounts, bonds, or other investments. It is important for companies to track their non-operating income interest as it can impact their overall financial performance. \n",
      "6,496. Operating Income in 2021 is the amount of profit a company has earned after deducting all operating expenses. It is an important measure of a company's financial health and can be found in the company's income statement. \n",
      "18,402. The cost of goods sold (excluding depreciation) in 2019 was $18,402. \n",
      "13,719 I'm sorry, I am an AI and do not have access to current financial information. My focus is on the history and development of AI. \n",
      "•Herbert Simon;\n",
      "•Marvin Minsky;\n",
      "•Sir James Lighthill;\n",
      "•Papert. John, Margaret, and Bob are all mentioned in the context. \n",
      "•Amazon Web Services;\n",
      "•Microsoft Azure;•\n",
      "Regional Cloud Service Providers;\n",
      "•ServiceNow;\n",
      "•Accenture;\n",
      "•VMWare;\n",
      "•Snowflake;\n",
      "•WPP;\n",
      "•Softbank;\n",
      "•Hugging Face. The partners mentioned in the text are Pixar, Adobe, Apple, and Autodesk. \n",
      "•Tesla;\n",
      ";•Netflix;\n",
      "•KeyCorp;\n",
      "•Fifth Third;\n",
      "•Truist Financial;\n",
      "•American Airlines;\n",
      "•Union Pacific;\n",
      "•CSX. There are several companies mentioned in the text, including Apple, Google, Microsoft, and Amazon. Is there a specific company you are interested in learning more about? \n",
      "1. U.S;\n",
      "2. UK;\n",
      "3. Japan. The three governments mentioned in the text are the United States, China, and Russia. \n",
      "Traders were unclear of the reason, but some noted it could be the softer wage numberin the jobs report. The intraday reversal may have occurred due to a combination of factors, including the softer wage number in the jobs report and the pullback in yields from the day's highs. Additionally, the market may have been oversold, leading to a rally as investors reevaluated their earlier bearish stance. \n",
      "Cost cutting plan Nokia is cutting jobs in order to restructure and focus on their core business areas. This decision was made in response to changes in the market and to ensure the company's long-term success. \n",
      "The company missed expectations on earnings and revenue,and Elon Musk warned that the Cybertruck will not producepositive cash flow for more than a year. The decline in Tesla stock could be attributed to the overall market downturn, as well as concerns about rising interest rates and potential changes in monetary policy. Additionally, Tesla's third quarter earnings report showed lower than expected earnings and revenue, which may have also contributed to the decline. \n",
      "The electoral victories in Georgia by Jon Ossoff and Raphael Warnock. The electoral victories in Georgia by Jon Ossoff and Raphael Warnock, as well as President-elect Biden's support and campaigning for both candidates, played a significant role in the Democrats winning control of the Senate. Additionally, the violent storming of the Capitol by Trump supporters on January 6 may have also influenced the outcome of the election. \n",
      "North Industries There are several companies located in Nevada, including Tesla, MGM Resorts International, and Caesars Entertainment. Is there a specific company you are interested in? \n",
      "Blue Moon Tech. Blue Moon Tech  is located on California Street. \n",
      "•Revenue: $16.00 billion, plus or minus 2%;\n",
      "•Gross Margins: 71.5%-72.%, plus or minor 50 basis points;\n",
      "•GAAP operating expenses: $2.95 billion;\n",
      "•Non - GAAP operating expense: $2.00 billion. The key financial metrics for the outlook of the third quarter will depend on the specific company or industry you are referring to. However, some common metrics that are often used to evaluate financial performance include revenue growth, profit margins, return on investment, and cash flow. These metrics can provide insight into the overall health and potential of a company during a specific time period. Is there a particular company or industry you are interested in? \n",
      "•Second-quarter revenue: record $10.32 billion;\n",
      "•Up 141% from previous quarter;\n",
      "Up 171% from previousyear There are several key points to keep in mind when evaluating data center performance. First, it's important to consider the reliability and uptime of the data center. This includes factors such as power supply, cooling systems, and backup generators. Second, network connectivity and bandwidth are crucial for efficient data transfer. Third, security measures, such as firewalls and encryption, are essential for protecting sensitive data. Fourth, scalability and flexibility are important for accommodating future growth and changes in technology. Finally, cost-effectiveness is a key factor in determining the overall performance of a data center. \n",
      "1. Record revenue of $13.51 billion;\n",
      "2. Record Data Center revenue of $10.32 billion;\n",
      "3. GAAP earnings per diluted share of $2.48. 1. Revenue increased by 7% (10% in constant currency)\n",
      "2. Operating income increased by 10% (15% in constant currency)\n",
      "3. Net income increased by 9% (14% in constant currency) \n",
      "\n",
      "•Joe Biden was inaugurated on January 20, 2021;\n",
      "•Biden is the 46th President of the United States;\n",
      "•Biden previously served as Vice President under Barack Obama;\n",
      "•Biden won the 2020 presidential election over incumbent Donald Trump;\n",
      "•Biden is the oldest president in American history. A list of the top summary points is a collection of the most important and relevant information or key takeaways from a larger piece of content, such as a report, article, or presentation. It is often used to provide a quick overview or summary of the main points without having to read or review the entire content. Is there a specific topic or subject you would like a list of top summary points for? \n",
      "1. General Services Administration head Emily W. Murphy initially refused to begin the transition for president-elect Biden until Michigan certified its results on November 23;\n",
      "2. Two days after becoming the projected winner, Biden announced the formation of a task forceto advise on the COVID-19 pandemic;\n",
      "3. On January 5, 2021, the Democratic Party won control of the U.S. Senate, with the electoralvictories in Georgia by Jon Ossoff and Raphael Warnock;\n",
      "4. On January 6, 2021, a mob of Trump supporters stormed the Capitol, forcing Congress to evacuateduring the counting of the Electoral Votes;\n",
      "5. For the inauguration, more than 26,000 National Guard members were deployed. I'm sorry, I'm not sure what you mean by \"list of the top 5 summary points.\" Can you provide more context or clarify your question? \n",
      "•Revenue: $52.9 million, up 10% in constant currency;\n",
      "•Operating income: $22.4 billion, up 15% in constant currency;\n",
      "•Net income: $18.3 billion, up 14% in constant currency;\n",
      "•Diluted earnings per share: $2.45 billion, up 14% in constant currency. The top financial highlights for the quarter can vary depending on the company, but some common ones include revenue growth, profit margins, earnings per share, and cash flow. Is there a specific company or industry you are interested in? \n",
      "1.  The study of formal reasoning began in antiquity;\n",
      "2.  These studies led directly to Alan Turing's theory of computation, which led researchers to consider the possibility of building an 'electronic brain';\n",
      "3.  The first paper that recognized AI was published in 1943, and the field was founded in 1956. A list of the top 3 points can vary depending on the context. Can you provide more information about what you are looking for? \n",
      "•In the 1960s, AI researchers produced 'astonishing' programs that could learn checkers, word problems,prove logical theorems and speak English;\n",
      "•AI research at the time was funded heavily by the U.S. Department of Defense;\n",
      "•Herbert Simon predicted that machines would be capable in 20 years of doing human work;\n",
      "•Marvin Minskey predicted that AI would be substantially solved within a generation;\n",
      "•Due to these under-estimations of the difficulty of the problem, reduced government funding, and concerns about the real-world use of neural networks, the 'AI winter' followed;\n",
      "•AI research was revived in the 1980s with expert systems, and the market for AI reached over $1 billion in 1985;\n",
      "However, with the collapse of the Lisp machine market in 1987, AI fell in disrepute again, and another AI winter ensued. A list of the top summary points is a collection of the most important and relevant information or key takeaways from a larger body of text or data. It is often used to provide a quick overview or summary of the main points without having to read through the entire text. Is there a specific topic or subject you would like a list of top summary points for? \n",
      "•Wednesday - $27;\n",
      "•Thursday - $33;\n",
      "•Friday - $36. On Wednesday, the stock price was $27. On Thursday, the stock was trading at $33. On Friday, the stock price increased by another $3 to $36. \n",
      "Joe Biden is the 46th President of the United States. A headline summary is a short description of a news story. \n",
      "After Biden won the election, he formed a pandemic task force, the democrats won the Senate, and a mob stormed the Capital on January 6. A one-line brief description is a concise summary of a project or agreement, typically no longer than 25 words. \n",
      "•Office Commercial Products;\n",
      "•Office Consumer Products;\n",
      "•Microsoft 365 Consumer;\n",
      "•LinkedIn;\n",
      "•Dynamics Products;\n",
      "•Server Products;\n",
      "•More Personal Computing;\n",
      "•Windows OEM;\n",
      "•Devices;\n",
      "•Windows Commercial;\n",
      "•Xbox;\n",
      "•Search and News Advertising. Some of the top Microsoft product offerings include Windows operating system, Microsoft Office suite, Microsoft Azure cloud computing platform, Microsoft Surface devices, and Xbox gaming consoles.  Is there a specific product you are interested in learning more about? \n",
      "•Invoice Date: March 3, 2022;\\•Invoice Number: No 234;\n",
      "•From: ABC Company;\n",
      "•To: Delta Inc.;\n",
      "•Due Date: Due on Receipt;\n",
      "•Total: $4565.00. A list of key points is a collection of important or essential information that summarizes the main ideas or concepts of a topic. It can be used as a study guide or reference for understanding the main points of a subject. Is there a specific topic you would like a list of key points for? \n",
      "According to Microsoft's CEO and CFO, the Microsoft Cloud is the platform for choice for AI,and growing 22% year-over-year as a result of focused execution. A summary is a brief overview of a longer text or document, typically 30 words or less, that highlights the main points and key information. \n",
      "•Biden;\n",
      "•Emily W. Murphy;\n",
      "•Vivek Murthy;\n",
      "•David A. Kessler;\n",
      "•Marcella Nunez-Smith;\n",
      "•Jon Ossoff;\n",
      "•Raphael Warnock. John, Margaret, Bob, Susan, Michael, and Wilma are all mentioned in the context. \n",
      "Nokia is cutting 14,000 jobs as part of a cost reductionplan after reporting profits that declined 69% year-on-year. The one-line summary is that this Agreement will remain in effect until terminated, with either party having the option to terminate with 30 days written notice or in the case of a material breach or default, with 15 days notice. The TestCo agrees to pay all fees and expenses incurred prior to termination, and termination of this Agreement will also terminate any outstanding Statement of Work or Services Description. Additionally, an invoice was issued on January 12 with a 3-day payment deadline. \n",
      "\n",
      "•Senior Vice President, Event Planning ('SVP') of Workforce Optimization Division;\n",
      "•Report to Board of Directors;\n",
      "•Devote substantially all of business time and attention to the operations of the Employer;\n",
      "•responsible for running Employer's day-to-day operations;\n",
      "•Perform faithfully, diligently and competently the duties and responsibilities of a SVP. As Senior Vice President, Event Planning, the executive will be responsible for running the day-to-day operations of the Employer's Workforce Optimization Division. This includes reporting to the Board of Directors, devoting their time and attention to the operations of the company, and performing their duties and responsibilities faithfully, diligently, and competently. They may also be directed by the Board to take on additional responsibilities consistent with their position.  Is there anything specific you would like to know about their responsibilities? \n",
      "\n",
      "\n",
      "NVIDIA Announces Second Quarter Fiscal 2024 Results with record revenue of $13.51 billion. A headline description is a brief summary of the main points of an article or news story. It is usually found at the top of the article and gives readers an idea of what the article is about. \n",
      "Microsoft Cloud is the platform of choice for the next generation of AI. The CEO's statement is a brief overview of the company's current status and future plans. \n",
      "•Invoice From: Services Vendor Inc.;\n",
      "•Invoice To: Alpha Inc.;\n",
      "•Total Amount: $22,500.00;\n",
      "•Payment Due: within 30 days;\n",
      "•Contact: Bia Hermes;\n",
      "•Invoice #0001;•Data: 01/01/2022. The key terms of the invoice are the due date, which is May 3, 2022, and the payment terms, which state that the invoice must be paid in full within 3 days.  Is there anything else you would like to know? \n"
     ]
    }
   ],
   "source": [
    "#total_average_rouge_l_scores = []\n",
    "#total_average_cosine_similarity_scores = []\n",
    "\n",
    "rouge_l_scores = [] \n",
    "cosine_similarity_scores = [] \n",
    "\n",
    "for idx, row in rag_flare_df.iterrows():\n",
    "    answer = row['actual']\n",
    "    syntheses = row['synthesis'] \n",
    "    print(answer,syntheses)\n",
    "\n",
    "    compute_sim_score = compute_similarity_score(answer, syntheses)\n",
    "    cosine_similarity_scores.append(compute_sim_score)\n",
    "\n",
    "    rouge_l_score = compute_rouge_l(answer, syntheses)\n",
    "    rouge_l_scores.append(rouge_l_score)\n",
    "\n",
    "total_average_cosine_similarity_score = sum(cosine_similarity_scores) / len(cosine_similarity_scores)\n",
    "\n",
    "total_average_rouge_l_score = sum(rouge_l_scores) / len(rouge_l_scores)\n"
   ]
  },
  {
   "cell_type": "code",
   "execution_count": 16,
   "metadata": {},
   "outputs": [
    {
     "data": {
      "text/plain": [
       "0.2126671039326755"
      ]
     },
     "execution_count": 16,
     "metadata": {},
     "output_type": "execute_result"
    }
   ],
   "source": [
    "total_average_cosine_similarity_score"
   ]
  },
  {
   "cell_type": "code",
   "execution_count": 17,
   "metadata": {},
   "outputs": [],
   "source": [
    "import matplotlib.pyplot as plt\n",
    "import numpy as np\n",
    "from matplotlib import cm\n"
   ]
  },
  {
   "cell_type": "code",
   "execution_count": 18,
   "metadata": {},
   "outputs": [],
   "source": [
    "num_labels = [i * 10  for i in range(1,6)]"
   ]
  },
  {
   "cell_type": "code",
   "execution_count": 19,
   "metadata": {},
   "outputs": [],
   "source": [
    "total_average_cosine_similarity_scores =  [1 * total_average_cosine_similarity_score for i in range(1,6)]"
   ]
  },
  {
   "cell_type": "code",
   "execution_count": 20,
   "metadata": {},
   "outputs": [],
   "source": [
    "total_average_rouge_l_scores =  [1 * total_average_rouge_l_score for i in range(1,6)]"
   ]
  },
  {
   "cell_type": "code",
   "execution_count": 21,
   "metadata": {},
   "outputs": [
    {
     "data": {
      "text/plain": [
       "Text(0.5, 1.0, ' After Fine-Tuning Cosine Similarity Score')"
      ]
     },
     "execution_count": 21,
     "metadata": {},
     "output_type": "execute_result"
    },
    {
     "data": {
      "image/png": "[encoded data removed]",
      "text/plain": [
       "<Figure size 2000x500 with 2 Axes>"
      ]
     },
     "metadata": {},
     "output_type": "display_data"
    }
   ],
   "source": [
    "plt.figure(figsize=(20, 5))\n",
    "\n",
    "# Plot Accuracy\n",
    "plt.subplot(1, 3, 1)\n",
    "plt.plot(num_labels, total_average_rouge_l_scores, marker='o', linestyle='-', color='skyblue', linewidth=2)\n",
    "\n",
    "plt.xlabel('Number of Labels')\n",
    "plt.ylabel('Total Average ROUGE-L Score')\n",
    "plt.title(' After Fine-Tuning ROUGE-L Score Comparison')\n",
    "\n",
    "plt.subplot(1, 3, 2)\n",
    "plt.plot(num_labels, total_average_cosine_similarity_scores, marker='o', linestyle='-', color='skyblue', linewidth=2)\n",
    "plt.xlabel('Number of Labels')\n",
    "plt.ylabel('Total Average Cosine Similarity Score')\n",
    "plt.title(' After Fine-Tuning Cosine Similarity Score')\n"
   ]
  }
 ],
 "metadata": {
  "kernelspec": {
   "display_name": "maple_bot",
   "language": "python",
   "name": "python3"
  },
  "language_info": {
   "codemirror_mode": {
    "name": "ipython",
    "version": 3
   },
   "file_extension": ".py",
   "mimetype": "text/x-python",
   "name": "python",
   "nbconvert_exporter": "python",
   "pygments_lexer": "ipython3",
   "version": "3.10.13"
  }
 },
 "nbformat": 4,
 "nbformat_minor": 2
}
